{
 "cells": [
  {
   "cell_type": "markdown",
   "id": "9e98201b-fd05-4ae8-8c32-edc139188dba",
   "metadata": {},
   "source": [
    "# Import packages"
   ]
  },
  {
   "cell_type": "code",
   "execution_count": 1,
   "id": "2abea69f-18a2-4a08-9880-0e53e5934e5b",
   "metadata": {},
   "outputs": [],
   "source": [
    "# !pip install -U sentence-transformers"
   ]
  },
  {
   "cell_type": "code",
   "execution_count": 2,
   "id": "499e5606-84d9-4a11-9e53-71d654879d56",
   "metadata": {
    "tags": []
   },
   "outputs": [],
   "source": [
    "import re, os, random, time, math, json, pandas as pd, numpy as np\n",
    "from datetime import date, datetime\n",
    "import matplotlib.pyplot as plt, seaborn as sns\n",
    "from tqdm import tqdm\n",
    "from pyathena import connect\n",
    "import boto3\n",
    "from botocore.exceptions import ClientError\n",
    "import openai\n",
    "from openai import OpenAI\n",
    "import pyarrow.parquet as pq\n",
    "import tiktoken\n",
    "import faiss\n",
    "from langchain.text_splitter import RecursiveCharacterTextSplitter\n",
    "from langchain_openai import OpenAIEmbeddings\n",
    "import chromadb\n",
    "import chromadb.utils.embedding_functions as embedding_functions\n",
    "from chromadb.config import Settings\n",
    "\n",
    "%matplotlib inline\n",
    "sns.set_theme()"
   ]
  },
  {
   "cell_type": "code",
   "execution_count": 11,
   "id": "c2b14b9a-9814-42fc-ba93-3e3552a8a7b7",
   "metadata": {
    "tags": []
   },
   "outputs": [],
   "source": [
    "def convert_values(obj):\n",
    "    \"\"\"Recursively convert values in a nested structure.\"\"\"\n",
    "    if isinstance(obj, dict):\n",
    "        return {k: convert_values(v) for k, v in obj.items()}\n",
    "    elif isinstance(obj, list):\n",
    "        return [convert_values(v) for v in obj]\n",
    "    elif isinstance(obj, str):\n",
    "        # Try to convert to int or float\n",
    "        try:\n",
    "            return int(obj)\n",
    "        except ValueError:\n",
    "            try:\n",
    "                return float(obj)\n",
    "            except ValueError:\n",
    "                # Check if it's a date string (assuming YYYY-MM-DD format)\n",
    "                try:\n",
    "                    return date_to_int(obj)\n",
    "                except ValueError:\n",
    "                    return obj\n",
    "    else:\n",
    "        return obj"
   ]
  },
  {
   "cell_type": "code",
   "execution_count": 20,
   "id": "7e67ac8c-4342-4ab5-a1f4-9a13afd154a0",
   "metadata": {
    "tags": []
   },
   "outputs": [
    {
     "ename": "TypeError",
     "evalue": "the JSON object must be str, bytes or bytearray, not dict",
     "output_type": "error",
     "traceback": [
      "\u001b[0;31m---------------------------------------------------------------------------\u001b[0m",
      "\u001b[0;31mTypeError\u001b[0m                                 Traceback (most recent call last)",
      "Cell \u001b[0;32mIn[20], line 1\u001b[0m\n\u001b[0;32m----> 1\u001b[0m convert_values(\u001b[43mjson\u001b[49m\u001b[38;5;241;43m.\u001b[39;49m\u001b[43mloads\u001b[49m\u001b[43m(\u001b[49m\u001b[43m{\u001b[49m\u001b[38;5;124;43m'\u001b[39;49m\u001b[38;5;124;43mpublishdate\u001b[39;49m\u001b[38;5;124;43m'\u001b[39;49m\u001b[43m:\u001b[49m\u001b[43m \u001b[49m\u001b[38;5;28;43;01mNone\u001b[39;49;00m\u001b[43m}\u001b[49m\u001b[43m)\u001b[49m)\n",
      "File \u001b[0;32m~/anaconda3/envs/python3/lib/python3.10/json/__init__.py:339\u001b[0m, in \u001b[0;36mloads\u001b[0;34m(s, cls, object_hook, parse_float, parse_int, parse_constant, object_pairs_hook, **kw)\u001b[0m\n\u001b[1;32m    337\u001b[0m \u001b[38;5;28;01melse\u001b[39;00m:\n\u001b[1;32m    338\u001b[0m     \u001b[38;5;28;01mif\u001b[39;00m \u001b[38;5;129;01mnot\u001b[39;00m \u001b[38;5;28misinstance\u001b[39m(s, (\u001b[38;5;28mbytes\u001b[39m, \u001b[38;5;28mbytearray\u001b[39m)):\n\u001b[0;32m--> 339\u001b[0m         \u001b[38;5;28;01mraise\u001b[39;00m \u001b[38;5;167;01mTypeError\u001b[39;00m(\u001b[38;5;124mf\u001b[39m\u001b[38;5;124m'\u001b[39m\u001b[38;5;124mthe JSON object must be str, bytes or bytearray, \u001b[39m\u001b[38;5;124m'\u001b[39m\n\u001b[1;32m    340\u001b[0m                         \u001b[38;5;124mf\u001b[39m\u001b[38;5;124m'\u001b[39m\u001b[38;5;124mnot \u001b[39m\u001b[38;5;132;01m{\u001b[39;00ms\u001b[38;5;241m.\u001b[39m\u001b[38;5;18m__class__\u001b[39m\u001b[38;5;241m.\u001b[39m\u001b[38;5;18m__name__\u001b[39m\u001b[38;5;132;01m}\u001b[39;00m\u001b[38;5;124m'\u001b[39m)\n\u001b[1;32m    341\u001b[0m     s \u001b[38;5;241m=\u001b[39m s\u001b[38;5;241m.\u001b[39mdecode(detect_encoding(s), \u001b[38;5;124m'\u001b[39m\u001b[38;5;124msurrogatepass\u001b[39m\u001b[38;5;124m'\u001b[39m)\n\u001b[1;32m    343\u001b[0m \u001b[38;5;28;01mif\u001b[39;00m (\u001b[38;5;28mcls\u001b[39m \u001b[38;5;129;01mis\u001b[39;00m \u001b[38;5;28;01mNone\u001b[39;00m \u001b[38;5;129;01mand\u001b[39;00m object_hook \u001b[38;5;129;01mis\u001b[39;00m \u001b[38;5;28;01mNone\u001b[39;00m \u001b[38;5;129;01mand\u001b[39;00m\n\u001b[1;32m    344\u001b[0m         parse_int \u001b[38;5;129;01mis\u001b[39;00m \u001b[38;5;28;01mNone\u001b[39;00m \u001b[38;5;129;01mand\u001b[39;00m parse_float \u001b[38;5;129;01mis\u001b[39;00m \u001b[38;5;28;01mNone\u001b[39;00m \u001b[38;5;129;01mand\u001b[39;00m\n\u001b[1;32m    345\u001b[0m         parse_constant \u001b[38;5;129;01mis\u001b[39;00m \u001b[38;5;28;01mNone\u001b[39;00m \u001b[38;5;129;01mand\u001b[39;00m object_pairs_hook \u001b[38;5;129;01mis\u001b[39;00m \u001b[38;5;28;01mNone\u001b[39;00m \u001b[38;5;129;01mand\u001b[39;00m \u001b[38;5;129;01mnot\u001b[39;00m kw):\n",
      "\u001b[0;31mTypeError\u001b[0m: the JSON object must be str, bytes or bytearray, not dict"
     ]
    }
   ],
   "source": [
    "convert_values(json.loads({'publishdate': None}))"
   ]
  },
  {
   "cell_type": "markdown",
   "id": "95b9deef-bbc7-4a11-8685-50200286506f",
   "metadata": {},
   "source": [
    "# Functions and classes"
   ]
  },
  {
   "cell_type": "markdown",
   "id": "c08e0879-a210-431c-aa02-917b948a3683",
   "metadata": {},
   "source": [
    "## S3ParquetLoader & TpwireDataLoader"
   ]
  },
  {
   "cell_type": "code",
   "execution_count": 6,
   "id": "44a7e0cd-2968-4d30-a4e3-eb627692af1f",
   "metadata": {
    "tags": []
   },
   "outputs": [],
   "source": [
    "class S3ParquetLoader:\n",
    "    def __init__(self, bucket_name, prefix, file_identifier=\"s3://\"):\n",
    "        self.bucket_name = bucket_name\n",
    "        self.prefix = prefix\n",
    "        self.file_identifier = file_identifier\n",
    "        \n",
    "    def load_s3_parquet(self, file):\n",
    "        s3_path = self.file_identifier + self.bucket_name + self.prefix + file\n",
    "        return pq.read_table(s3_path).to_pandas()"
   ]
  },
  {
   "cell_type": "code",
   "execution_count": 7,
   "id": "207ff0aa-4442-4e55-90d5-05f1b94c8952",
   "metadata": {
    "tags": []
   },
   "outputs": [],
   "source": [
    "class TpwireDataLoader:\n",
    "    def __init__(self, bucket_name, prefix, file_identifier=\"s3://\"):\n",
    "        self.s3_loader = S3ParquetLoader(bucket_name, prefix, file_identifier)\n",
    "        \n",
    "    def process_data(self, file_name):\n",
    "        data = self.s3_loader.load_s3_parquet(file_name)\n",
    "        # final_df = data[['summaryplaintext', 'publishdate', 'multi_story_flag', 'table_flag']]\n",
    "        final_df = data\n",
    "        final_df = final_df[(final_df['multi_story_flag'] == False) & (final_df['table_flag'] == False)]\n",
    "        \n",
    "        # tpwire_df = final_df[['summaryplaintext', 'publishdate']]\n",
    "        tpwire_df = final_df.drop(['multi_story_flag', 'table_flag'], axis=1)\n",
    "        tpwire_df = tpwire_df.sort_values(by='publishdate').reset_index(drop=True)\n",
    "        tpwire_df['publishdate'] = tpwire_df['publishdate'].apply(lambda x: np.datetime64(x).astype(datetime).date()) # change to standard date format\n",
    "        \n",
    "        return tpwire_df"
   ]
  },
  {
   "cell_type": "markdown",
   "id": "eb97c092-37e3-4fb8-a78f-be1b33679eaf",
   "metadata": {},
   "source": [
    "## IndexDoc"
   ]
  },
  {
   "cell_type": "code",
   "execution_count": 8,
   "id": "01728a49-bd09-44f6-86a3-83ef4c4f35cc",
   "metadata": {
    "tags": []
   },
   "outputs": [],
   "source": [
    "class IndexDoc:\n",
    "    def __init__(self, embed):\n",
    "        self.embed = embed\n",
    "        \n",
    "    def index_document(self, df):\n",
    "        # for idx in range(len(df)):\n",
    "        chunks = df['summaryplaintext'].tolist()\n",
    "\n",
    "        index_tb = pd.DataFrame({\n",
    "            'Content': chunks,\n",
    "            'Vectors': embed.embed_documents(chunks), # 'original_index': range(len(chunks)),\n",
    "        })\n",
    "\n",
    "        index_tb.reset_index(drop=True, inplace=True)\n",
    "\n",
    "        return index_tb"
   ]
  },
  {
   "cell_type": "markdown",
   "id": "27f5436a-9fbd-4a23-8c3a-6baef7b0285e",
   "metadata": {},
   "source": [
    "## tpwireDB"
   ]
  },
  {
   "cell_type": "code",
   "execution_count": 82,
   "id": "784cc6de-3515-4a7b-bcc4-c1faa3bb92b3",
   "metadata": {
    "tags": []
   },
   "outputs": [],
   "source": [
    "class tpwireDB:\n",
    "    def __init__(self, client, name, openai_ef):\n",
    "        self.client = client\n",
    "        self.name = name\n",
    "        self.embedding_function = openai_ef\n",
    "        self.collection = self.get_or_create()\n",
    "    \n",
    "    # Collection methods\n",
    "    def get_or_create(self):\n",
    "        try:\n",
    "            return self.client.get_or_create_collection(\n",
    "                name=self.name,\n",
    "                embedding_function=self.embedding_function\n",
    "            )\n",
    "        except Exception as e:\n",
    "            print(f\"Error getting or creating collection: {e}\")\n",
    "            return None\n",
    "    \n",
    "    def delete(self):\n",
    "        try:\n",
    "            self.client.delete_collection(name=self.name)\n",
    "            print(f\"Collection '{self.name}' deleted successfully.\")\n",
    "        except Exception as e:\n",
    "            print(f\"Error deleting collection: {e}\")\n",
    "    \n",
    "    def collection_exists(self):\n",
    "        try:\n",
    "            collections = self.client.list_collections()\n",
    "            return any(collection.name == self.name for collection in collections)\n",
    "        except Exception as e:\n",
    "            print(f\"Error checking if collection exists: {e}\")\n",
    "            return False\n",
    "       \n",
    "    # Elements methods\n",
    "    def document_exists(self, ids):\n",
    "        try:\n",
    "            result = self.collection.get(ids=ids)\n",
    "            return [id in result['ids'] for id in ids]\n",
    "        except Exception as e:\n",
    "            print(f\"Error checking document existence: {e}\")\n",
    "            return [False] * len(ids)\n",
    "\n",
    "    \n",
    "    def add(self, original_df):\n",
    "        if self.collection is None:\n",
    "            print(\"Collection not initialized. Cannot add data.\")\n",
    "            return\n",
    "        \n",
    "        # ids\n",
    "        ids = [str(i) for i in original_df.index.tolist()] \n",
    "         \n",
    "        # Check for existing IDs\n",
    "        existing_ids = self.document_exists(ids)\n",
    "\n",
    "        if any(existing_ids):\n",
    "            existing_indices = [i for i, exists in enumerate(existing_ids) if exists]\n",
    "            existing_id_values = [ids[i] for i in existing_indices]\n",
    "            print(f\"The following IDs already exist: {existing_id_values}. Cannot add data, try using upsert.\")\n",
    "            return\n",
    "\n",
    "        # embeddings\n",
    "        embeddings = [list(vec) for vec in original_df['Vectors'].values]\n",
    "\n",
    "        # metadatas\n",
    "        original_df = original_df.drop(['Content', 'Vectors'], axis=1)\n",
    "        metadata_lst = []\n",
    "        # for i, row in original_df.iterrows():\n",
    "        #     meta_dict = {col: row[col][1:-1] if col != 'publishdate' else date_to_int(str(row[col])) for col in original_df.columns}\n",
    "        #     metadata_lst.append(meta_dict)\n",
    "        for i, row in original_df.iterrows():\n",
    "            meta_dict = {\n",
    "                'publishdate': date_to_int(\n",
    "                    str(row['publishdate'])\n",
    "                )\n",
    "            }\n",
    "            metadata_lst.append(meta_dict)\n",
    "        \n",
    "\n",
    "        self.collection.add(\n",
    "            embeddings=embeddings,\n",
    "            metadatas=metadata_lst,\n",
    "            ids=ids\n",
    "        )\n",
    "    \n",
    "    def upsert(self, new_df):\n",
    "        if self.collection is None:\n",
    "            print(\"Collection not initialized. Cannot upsert data.\")\n",
    "            return\n",
    "        \n",
    "        \n",
    "        # ids\n",
    "        ids = [str(i) for i in new_df.index.tolist()] \n",
    "        # embeddings\n",
    "        embeddings = [list(vec) for vec in new_df['Vectors'].values]\n",
    "        \n",
    "        # metadatas\n",
    "        new_df = new_df.drop(['Content', 'Vectors'], axis=1)\n",
    "        metadata_lst = []\n",
    "        # for i, row in new_df.iterrows():\n",
    "        #     meta_dict = {col: row[col][1:-1] if col != 'publishdate' else date_to_int(str(row[col])) for col in new_df.columns}\n",
    "        #     metadata_lst.append(meta_dict)\n",
    "        \n",
    "        for i, row in original_df.iterrows():\n",
    "            meta_dict = {\n",
    "                'publishdate': date_to_int(\n",
    "                    str(row['publishdate'])\n",
    "                )\n",
    "            }\n",
    "            metadata_lst.append(meta_dict)\n",
    "\n",
    "        try:\n",
    "            self.collection.upsert(\n",
    "                embeddings=embeddings,\n",
    "                metadatas=metadata_lst,\n",
    "                ids=ids\n",
    "            )\n",
    "            print(f\"Upserted {len(ids)} items in the collection.\")\n",
    "        except Exception as e:\n",
    "            print(f\"Error upserting data in collection: {e}\")\n",
    "        \n",
    "    \n",
    "    def retrieve(self, search_vectors, K, where=None):\n",
    "        query_params = {\n",
    "            \"query_embeddings\": search_vectors,\n",
    "            \"n_results\": K,\n",
    "            \"include\": [\"distances\"]\n",
    "            # \"include_metadata\": True\n",
    "        }\n",
    "        \n",
    "        if where:\n",
    "            query_params[\"where\"] = where # {\"$and\": [{\"state\": \"NY\"}, {\"publishdate\": {\"$gte\": date_to_int(\"2024-01-01\")}}]}\n",
    "    \n",
    "        try:\n",
    "            results = self.collection.query(**query_params)\n",
    "            # results = self.collection.similarity_search_by_vector(**query_params)\n",
    "            return results\n",
    "        except Exception as e:\n",
    "            print(f\"Error retrieving data from collection: {e}\")\n",
    "            return None"
   ]
  },
  {
   "cell_type": "markdown",
   "id": "8bc5c28f-440b-47b1-9b67-ac88e26a2454",
   "metadata": {},
   "source": [
    "## tpwireRAG"
   ]
  },
  {
   "cell_type": "code",
   "execution_count": 23,
   "id": "bc18de01-2b31-4f4e-a465-f744b4fd3058",
   "metadata": {
    "tags": []
   },
   "outputs": [],
   "source": [
    "class tpwireRAG:\n",
    "    def __init__(self, db, original_df, embed):\n",
    "        self.db = db\n",
    "        self.original_df = original_df\n",
    "        self.embed = embed\n",
    "        self.prompt_template = '''\n",
    "        Use the following pieces of context to help you answer the question at the end. \n",
    "\n",
    "        If you don't know the answer, just output: \"Answer\": <I don't know the answer>. Don't try to make up an answer. \n",
    "\n",
    "        Keep the answer as concise as possible.\n",
    "\n",
    "        Context: {context}\n",
    "        Question: {search_text}\n",
    "        \n",
    "        \"Answer\": <answer> \n",
    "        ''' # Always say \"thanks for asking!\" at the end of the answer.\n",
    "        self.metadata_prompt_template = \"\"\"\n",
    "        Please extract information from the given sentence and format it according to the ChromaDB filter standard. Follow these steps:\n",
    "\n",
    "        1. Entity Extraction:\n",
    "            - publishdate: Identify time-related keywords. If it is missing, return {{None}}.\n",
    "\n",
    "        2. publishdate interpretation:\n",
    "           - \"recent\" or \"latest\": Use date range from 30 days ago to today\n",
    "           - \"this quarter\": Use range from start of current quarter to today\n",
    "           - \"in [month]\": Use range from start to end of specified month\n",
    "           - \"in [month], [year]\": Use range from start to end of specified month and year\n",
    "           - Specific dates: Use as given\n",
    "           - All dates should be should be in the standard yyyy-mm-dd format.\n",
    "\n",
    "        3. Formatting:\n",
    "           - If no publishdate is identified, return {{None}}.\n",
    "           - Use the ChromaDB filter standard\n",
    "           - For date ranges, use separate \"$gte\" and \"$lte\" conditions\n",
    "\n",
    "        Examples:\n",
    "\n",
    "        1. \"Find office properties in New York City listed this quarter\"\n",
    "        {{\n",
    "            \"$and\": [\n",
    "                {{\n",
    "                    \"publishdate\": {{\"$gte\": \"2024-07-01\"}}\n",
    "                }},\n",
    "                {{\n",
    "                    \"publishdate\": {{\"$lte\": \"2024-07-31\"}}\n",
    "                }}\n",
    "            ]\n",
    "        }}\n",
    "\n",
    "        2. \"Show recent retail listings in Los Angeles County, CA\"\n",
    "        {{\n",
    "            \"$and\": [\n",
    "                {{\n",
    "                    \"publishdate\": {{\"$gte\": \"2024-07-01\"}}\n",
    "                }},\n",
    "                {{\n",
    "                    \"publishdate\": {{\"$lte\": \"2024-07-31\"}}\n",
    "                }}\n",
    "            ]\n",
    "        }}\n",
    "\n",
    "        3. \"What are the 5 transactions in New York in Dec, 2023?\"\n",
    "        {{\n",
    "            \"$and\": [\n",
    "                {{\n",
    "                    \"publishdate\": {{\"$gte\": \"2023-12-01\"}}\n",
    "                }},\n",
    "                {{\n",
    "                    \"publishdate\": {{\"$lte\": \"2023-12-31\"}}\n",
    "                }}\n",
    "            ]\n",
    "        }}\n",
    "\n",
    "        Please provide the ChromaDB filter for the following sentence:\n",
    "        Input sentence: {sentence}\n",
    "        \"\"\"\n",
    "    \n",
    "    def retrieve_relevant(self, search_text, K): # , where=None\n",
    "        response = openai_client.get_completion(message= self.metadata_prompt_template.format(sentence=search_text))\n",
    "        where_filter = json.loads(response.choices[0].message.content)\n",
    "        processed_filter = process_llm_output(where_filter)\n",
    "        \n",
    "        search_vectors = self.embed.embed_documents([search_text])\n",
    "        results = self.db.retrieve(search_vectors, K, where=processed_filter) # , where=processed_filter\n",
    "        \n",
    "        idxs = [int(idx) for idx in results['ids'][0]]\n",
    "        return pd.concat([pd.DataFrame({\"distances\": results['distances'][0]}, index=idxs), self.original_df.loc[idxs]], axis=1)\n",
    "\n",
    "    \n",
    "    @staticmethod\n",
    "    def combine_context(relevant_contents): # Helper function for generating context\n",
    "        context = relevant_contents.Content\n",
    "        context = '\\n'.join(context)\n",
    "\n",
    "        return context\n",
    "    \n",
    "    def generate_context_prompt(self, search_text, K): # , where=None\n",
    "        relevant_contents = self.retrieve_relevant(search_text=search_text, K=K)\n",
    "        context = self.combine_context(relevant_contents=relevant_contents)\n",
    "        prompt = self.prompt_template.format(context=context, search_text=search_text)\n",
    "        return relevant_contents, prompt "
   ]
  },
  {
   "cell_type": "code",
   "execution_count": 84,
   "id": "28a02bfd-fe36-40fc-8fc1-87ad2a0834fe",
   "metadata": {},
   "outputs": [],
   "source": [
    "def df_db_pre(index_tb, tpwire_df):\n",
    "    cols = ['dealname', 'propertysubtype', 'proptypecode', 'state', 'county', 'city', 'msaname', 'loanname', 'region', 'publishdate']\n",
    "    df_data = tpwire_df[cols]\n",
    "    \n",
    "    return pd.concat([index_tb, df_data], axis=1)"
   ]
  },
  {
   "cell_type": "markdown",
   "id": "642a827d-feee-4a25-af3b-0602921b15a4",
   "metadata": {},
   "source": [
    "# Execution"
   ]
  },
  {
   "cell_type": "code",
   "execution_count": 18,
   "id": "e67a94d1-fbd2-4f44-9582-91079081ff29",
   "metadata": {
    "tags": []
   },
   "outputs": [],
   "source": [
    "# def main(input_question):\n",
    "#     import os\n",
    "#     from langchain_openai import OpenAIEmbeddings\n",
    "#     import chromadb\n",
    "#     import chromadb.utils.embedding_functions as embedding_functions\n",
    "#     from chromadb.config import Settings\n",
    "#     from utils import date_to_int, convert_values, process_llm_output\n",
    "#     from utils import SecretManager, OpenAIClient\n",
    "#     from rag_utils import TpwireDataLoader, IndexDoc, tpwireDB, tpwireRAG, df_db_pre\n",
    "    \n",
    "    \n",
    "#     # API key setting\n",
    "#     SECRET_NAME= \"AmazonSageMaker-sagemarker_yuwen\"\n",
    "#     secret_manager = SecretManager(secret_name=SECRET_NAME)\n",
    "#     os.environ['OPENAI_API_KEY'] = secret_manager.get_secret('OPENAI_API_KEY')\n",
    "\n",
    "#     # Set constant variable\n",
    "#     BUCKET_NAME, PREFIX = \"trepp-developmentservices-datascience/\", \"llm-exploration/treppwire_rag/\"\n",
    "\n",
    "#     MODEL = 'gpt-4o-mini'\n",
    "#     DBNAME = 'treppwireRAG'\n",
    "#     EMBED_MODEL_NAME = 'text-embedding-ada-002'\n",
    "#     K = 5 # Number of relevant chunks\n",
    "\n",
    "\n",
    "#     embed = OpenAIEmbeddings(model=EMBED_MODEL_NAME) # Create embeddings for indexing documents\n",
    "#     openai_ef = embedding_functions.OpenAIEmbeddingFunction(\n",
    "#         api_key=os.environ['OPENAI_API_KEY'], \n",
    "#         model_name=EMBED_MODEL_NAME)\n",
    "    \n",
    "    \n",
    "#     # class initialization\n",
    "#     openai_client = OpenAIClient(model=MODEL)\n",
    "#     db_client = chromadb.PersistentClient(path='./treppwire-chromaDB')\n",
    "\n",
    "#     # S3 parquet loader\n",
    "#     s3_parquet_loader = S3ParquetLoader(bucket_name=BUCKET_NAME, prefix=PREFIX)\n",
    "\n",
    "#     # Import TreppWire data\n",
    "#     tpwire_loader = TpwireDataLoader(bucket_name=BUCKET_NAME, prefix=PREFIX)\n",
    "    \n",
    "    \n",
    "#     # Index_Doc = IndexDoc(embed)\n",
    "#     tpwire_df = tpwire_loader.process_data(\"tpwire_flags.parquet\")\n",
    "#     tpwire_df.head()\n",
    "    \n",
    "#     index_tb = s3_parquet_loader.load_s3_parquet('treppwire_index_tb.parquet')\n",
    "#     original_df = df_db_pre(index_tb, tpwire_df)\n",
    "    \n",
    "#     # VectorDB\n",
    "#     # tpwire_DB.delete()\n",
    "#     # tpwire_DB.collection_exists()\n",
    "#     tpwire_DB = tpwireDB(db_client, DBNAME, openai_ef)\n",
    "#     # tpwire_DB.add(original_df=original_df)\n",
    "    \n",
    "    \n",
    "#     # Initialize treppwire RAG\n",
    "#     tpwire_RAG = tpwireRAG(tpwire_DB, original_df, embed)\n",
    "#     search_text = input_question # 'What are the 5 transactions in New York in Dec, 2023?'\n",
    "#     # search_text = 'How many properties in New York City are currently facing foreclosure?'\n",
    "\n",
    "#     relevant_contents, prompt = tpwire_RAG.generate_context_prompt(search_text=search_text, K=K)\n",
    "#     response = openai_client.get_completion(message=prompt)\n",
    "#     return json.loads(response.choices[0].message.content)['Answer']"
   ]
  },
  {
   "cell_type": "code",
   "execution_count": 1,
   "id": "d878a742-8226-4c34-950f-13387c3f52ed",
   "metadata": {
    "tags": []
   },
   "outputs": [],
   "source": [
    "import os, json\n",
    "from langchain_openai import OpenAIEmbeddings\n",
    "import chromadb\n",
    "import chromadb.utils.embedding_functions as embedding_functions\n",
    "from chromadb.config import Settings\n",
    "from utils import date_to_int, convert_values, process_llm_output\n",
    "from utils import SecretManager, OpenAIClient, S3ParquetLoader\n",
    "from utils_rag import TpwireDataLoader, IndexDoc, tpwireDB, tpwireRAG, df_db_pre\n",
    "from config import SECRET_NAME, BUCKET_NAME, PREFIX, MODEL, DBNAME, EMBED_MODEL_NAME, K"
   ]
  },
  {
   "cell_type": "code",
   "execution_count": 4,
   "id": "78cd9d6a-054f-4dd7-b43f-5ab2793ccc57",
   "metadata": {
    "tags": []
   },
   "outputs": [
    {
     "name": "stdout",
     "output_type": "stream",
     "text": [
      "The answer is: [{'event': 'InterContinental Hotel Chicago loan paid off', 'amount': '$127.6 million', 'date': 'March 2021', 'DSCR': '-1.21x'}, {'event': 'W Chicago – City Center loan became 30 days delinquent', 'amount': '$75 million', 'date': 'February 2021', 'occupancy': '46%', 'DSCR': '-1.04x'}, {'event': 'Value of W Chicago – City Center loan cut', 'amount': '$73.6 million', 'date': 'August 2021', 'previous_value': '$167 million'}, {'event': 'W Chicago – City Center loan paid off ahead of balloon date', 'amount': '$75.6 million', 'date': 'March 2023', 'DSCR': 'below 1.0x'}, {'event': 'Hilton Suites Chicago Magnificent Mile loan value lowered', 'amount': '$69.9 million', 'date': 'Recent', 'current_value': '$57.1 million', 'occupancy': '18%', 'DSCR': '0.90x in 2019'}]\n"
     ]
    }
   ],
   "source": [
    "if __name__ == \"__main__\":\n",
    "    secret_manager = SecretManager(secret_name=SECRET_NAME)\n",
    "    os.environ['OPENAI_API_KEY'] = secret_manager.get_secret('OPENAI_API_KEY')\n",
    "\n",
    "    embed = OpenAIEmbeddings(model=EMBED_MODEL_NAME) # Create embeddings for indexing documents\n",
    "    openai_ef = embedding_functions.OpenAIEmbeddingFunction(\n",
    "        api_key=os.environ['OPENAI_API_KEY'], \n",
    "        model_name=EMBED_MODEL_NAME)\n",
    "    \n",
    "    \n",
    "    # class initialization\n",
    "    openai_client = OpenAIClient(model=MODEL)\n",
    "    db_client = chromadb.PersistentClient(path='./treppwire-chromaDB')\n",
    "\n",
    "    # S3 parquet loader\n",
    "    s3_parquet_loader = S3ParquetLoader(bucket_name=BUCKET_NAME, prefix=PREFIX)\n",
    "\n",
    "    # Import TreppWire data\n",
    "    tpwire_loader = TpwireDataLoader(bucket_name=BUCKET_NAME, prefix=PREFIX)\n",
    "    \n",
    "    \n",
    "    # Index_Doc = IndexDoc(embed)\n",
    "    tpwire_df = tpwire_loader.process_data(\"tpwire_flags.parquet\")\n",
    "    tpwire_df.head()\n",
    "    \n",
    "    index_tb = s3_parquet_loader.load_s3_parquet('treppwire_index_tb.parquet')\n",
    "    original_df = df_db_pre(index_tb, tpwire_df)\n",
    "    \n",
    "    # VectorDB\n",
    "    # tpwire_DB.delete()\n",
    "    # tpwire_DB.collection_exists()\n",
    "    tpwire_DB = tpwireDB(db_client, DBNAME, openai_ef)\n",
    "    # tpwire_DB.add(original_df=original_df)\n",
    "    \n",
    "    \n",
    "    # Initialize treppwire RAG\n",
    "    tpwire_RAG = tpwireRAG(tpwire_DB, original_df, openai_client, embed)\n",
    "    # input_question = 'What are the 5 transactions in New York in Dec, 2023?'\n",
    "    # input_question = 'How many properties in New York City are currently facing foreclosure?'\n",
    "    input_question = 'What significant events have occurred for Chicago Hotel?'\n",
    "    search_text = input_question # 'What are the 5 transactions in New York in Dec, 2023?'\n",
    "    # search_text = 'How many properties in New York City are currently facing foreclosure?'\n",
    "\n",
    "    relevant_contents, prompt = tpwire_RAG.generate_context_prompt(search_text=search_text, K=K)\n",
    "    response = openai_client.get_completion(message=prompt)\n",
    "    print(f\"The answer is: {json.loads(response.choices[0].message.content)['Answer']}\")"
   ]
  },
  {
   "cell_type": "code",
   "execution_count": null,
   "id": "e18ecd74-6051-4f90-beac-029fe181c729",
   "metadata": {},
   "outputs": [],
   "source": []
  },
  {
   "cell_type": "code",
   "execution_count": null,
   "id": "d5c8c984-d73c-4f0a-854c-42f0e20317ef",
   "metadata": {},
   "outputs": [],
   "source": []
  },
  {
   "cell_type": "code",
   "execution_count": null,
   "id": "61111a97-e892-49c6-b309-d387ba3f89d6",
   "metadata": {},
   "outputs": [],
   "source": []
  },
  {
   "cell_type": "code",
   "execution_count": null,
   "id": "4b58434e-bfb7-46fd-ba0c-a88a10b3a46a",
   "metadata": {},
   "outputs": [],
   "source": []
  },
  {
   "cell_type": "code",
   "execution_count": null,
   "id": "d4084e44-e2f7-4f9b-a341-ee8298e78dcb",
   "metadata": {},
   "outputs": [],
   "source": []
  },
  {
   "cell_type": "code",
   "execution_count": null,
   "id": "f9c70b14-8b87-4d8d-947b-36b33a5f101b",
   "metadata": {},
   "outputs": [],
   "source": []
  },
  {
   "cell_type": "code",
   "execution_count": null,
   "id": "94524288-f3ff-42bc-a53f-9a5de65d8799",
   "metadata": {},
   "outputs": [],
   "source": []
  },
  {
   "cell_type": "code",
   "execution_count": null,
   "id": "f7f6fcc6-0e31-49ac-8a3f-c29227b802ff",
   "metadata": {},
   "outputs": [],
   "source": []
  },
  {
   "cell_type": "code",
   "execution_count": null,
   "id": "f468f5c4-0a51-44cc-b607-3b6358ba86e4",
   "metadata": {},
   "outputs": [],
   "source": []
  },
  {
   "cell_type": "code",
   "execution_count": null,
   "id": "b34ce8dc-cca2-414f-a5bb-de1ce43c7537",
   "metadata": {},
   "outputs": [],
   "source": []
  },
  {
   "cell_type": "markdown",
   "id": "c6a5dfd0-305c-4f26-848a-9536d43eb91e",
   "metadata": {},
   "source": [
    "-------------------\n",
    "# RAG Evaluation"
   ]
  },
  {
   "cell_type": "markdown",
   "id": "16af95b6-a839-4554-9229-a0fd1853d5f1",
   "metadata": {},
   "source": [
    "## Reranking Evaluation"
   ]
  },
  {
   "cell_type": "markdown",
   "id": "aaeffe10-3f6e-41af-abb0-f31a2c5d277e",
   "metadata": {},
   "source": [
    "### Hallucination questions"
   ]
  },
  {
   "cell_type": "code",
   "execution_count": 244,
   "id": "7a92b69b-0cca-4783-91af-90fc570a533f",
   "metadata": {
    "tags": []
   },
   "outputs": [],
   "source": [
    "eval_data1 = [\n",
    "    'Which property behind the GSMS 2012-GC6 deal had the lowest occupancy rate in 2019?',\n",
    "    'Could you provide an overview of for Rockefeller Center loan?',\n",
    "    'What significant events have occurred for Chicago Hotel in 2024?',\n",
    "    'What are the key updates about the sale of Rockefeller Center in 2024?',\n",
    "    'What are the highlights of credit story for North Carolina medical office building in 2018?',\n",
    "    'Could you summarize the deal that property X belongs to?',\n",
    "    'What changes in valuation have been recorded for Hmart Mall?',\n",
    "    'Could you summarize the main details of transactions of New York Central Park?',\n",
    "    'How was the delinquency status of Empire State Building been addressed in the latest update?',\n",
    "    'Could you provide the details about world trade center sent to special servicing?',\n",
    "    'What was the loss severity percentage for the Jacksonville retail property loan resolution this month?',\n",
    "    'What impact does the transition of property to the lender have on the financial health of Virginia Mall Loan?',\n",
    "    'What modifications were made to the loan for 11 West 42nd Street property in June 2018?',\n",
    "    'What are the main factors contributing to the imminent default of the Fifth Avenue loan in Washington, DC?',\n",
    "    'What was the outcome of the bankruptcy auction for the Lower Manhattan mixed-use property at 78 Bowery Street?',\n",
    "    'What was the resolution outcome for the Rockefeller Center loan in New York, NY?',\n",
    "    'What impact did the departure of Clock Tower Village have on the Fox River Mall loan?',\n",
    "    'What are the implications of the recent tenant changes at One Newark Center for the Cupertino Hilton Hotel Loan?',\n",
    "    'How has the value of Crossgates Mall loan evolved this year?',\n",
    "    'What was the final outstanding balance loss percentage for the Ozarks Hotel property asset resolution?',\n",
    "]\n",
    "\n",
    "eval_data2 = [\n",
    "    'What is the current delinquency rate for lodging loans in the CMBS market?',\n",
    "    'What was the recent sale price of Property X?',\n",
    "    'When was Avalon Riverview, Long island city constructed, and has it undergone any renovations?',\n",
    "    \"What's the average age of office buildings sold this quarter?\",\n",
    "    'What is the CMBX series that the Dartmouth Mall loan is part of?',\n",
    "    'What is the current occupancy rate of the Empire State Building in New York, NY?',\n",
    "    'Has there been any recent news or updates regarding the sale of the 55 Green Street property?',\n",
    "    'Has the loan behind the North Carolina medical office building been refinanced recently?',\n",
    "    'What is the current vacancy rate of the Blackwell Plaza property?',\n",
    "    'What is the recent DSCR of the $108.8 million Embassy Suites loan backing the JPMCC 2019-EMBS deal in Manhattan?',\n",
    "    'What caused the significant drop in occupancy rate at Jackson Park in Long Island City from 96% in 2019 to 59% in September 2018?',\n",
    "    \"What's the LTV of Gotham Point property in Queens?\",\n",
    "    'What percentage of deal K does the loan for property P represent?',\n",
    "    'Who was the buyer in the recent transaction of Rockefeller Center?',\n",
    "    'What is the current outstanding balance of the 55 Broadway loan?',\n",
    "    'What was the DSCR (NCF) for Crossgates Mall in 2021?',\n",
    "    'What is the likelihood of Schwab subletting the space at 211 Main Street in San Francisco?',\n",
    "    'How has the valuation of Property X changed over the past few years?',\n",
    "    \"What's the location and size of property X?\",\n",
    "    'How many square feet does 55 Broadway loan have?',\n",
    "]\n",
    "\n",
    "eval_data3 = [\n",
    "    'What are the 5 transactions in New York in this quarter?',\n",
    "    'Show me all properties built before 1975 that were sold in the last quarter.',\n",
    "    'How many multifamily communities were sold in Las Vegas in 2018?',\n",
    "    'List 5 properties undergoning renovation in the previous quarter?',\n",
    "    'List the 3 most recent transactions for properties larger than X square feet in State G.',\n",
    "    'List the 5 largest loans (by dollar amount) that were sent to special servicing in New York this quarter.',\n",
    "    'What is the average time on market for Property Type Multifamily sold in City U in the last 6 months?',\n",
    "    'What is the average time on market for Property Type Multifamily sold in New York in the last 6 months?',\n",
    "    'What was the occupancy rate of The Clusters apartment community at 4416 Northcrest Drive in Midland, TX in 2019?',\n",
    "    'What properties in State NY sold for more than $10 million and less than $100 million this year?',\n",
    "]"
   ]
  },
  {
   "cell_type": "markdown",
   "id": "db21bf24-1230-49e8-b885-c3252fb1b6be",
   "metadata": {},
   "source": [
    "#### ---- eval_data1 ----"
   ]
  },
  {
   "cell_type": "code",
   "execution_count": 165,
   "id": "41e849c0-3bd8-4dab-9103-80f0b5faa371",
   "metadata": {
    "tags": []
   },
   "outputs": [],
   "source": [
    "res = []\n",
    "for q in eval_data1:\n",
    "    relevant_contents, prompt  = tpwire_RAG.generate_context_prompt(search_text=q, K1=K1, K2=K2)\n",
    "    response = openai_client.get_completion(message=prompt)\n",
    "    res.append(json.loads(response.choices[0].message.content)['Answer'])"
   ]
  },
  {
   "cell_type": "code",
   "execution_count": 168,
   "id": "1f864024-2ce9-4728-8bce-b4508a3c0ba9",
   "metadata": {
    "tags": []
   },
   "outputs": [
    {
     "data": {
      "text/plain": [
       "[1, 1, 0, 1, 1, 0, 1, 0, 1, 1, 0, 0, 0, 0, 1, 1, 1, 1, 0, 1]"
      ]
     },
     "execution_count": 168,
     "metadata": {},
     "output_type": "execute_result"
    }
   ],
   "source": [
    "[int(i==\"I don't know the answer\") for i in res]"
   ]
  },
  {
   "cell_type": "markdown",
   "id": "ddc37c45-4816-4227-9647-23d811b90e3d",
   "metadata": {
    "tags": []
   },
   "source": [
    "#### ---- eval_data2 ----"
   ]
  },
  {
   "cell_type": "code",
   "execution_count": 243,
   "id": "41cd5880-e8a3-49c2-be97-0b085aabb2b1",
   "metadata": {
    "tags": []
   },
   "outputs": [],
   "source": [
    "res = []\n",
    "for q in eval_data2:\n",
    "    relevant_contents, prompt = tpwire_RAG.generate_context_prompt(search_text=q, K1=K1, K2=K2)\n",
    "    response = openai_client.get_completion(message=prompt)\n",
    "    result = json.loads(response.choices[0].message.content)['Answer']\n",
    "    res.append(result)"
   ]
  },
  {
   "cell_type": "markdown",
   "id": "df72e65f-66fb-4c3e-aea9-7c373bd68473",
   "metadata": {},
   "source": [
    "#### ---- eval_data3 ----"
   ]
  },
  {
   "cell_type": "code",
   "execution_count": null,
   "id": "1942c7f0-5fbd-472c-ba24-0774449ea610",
   "metadata": {
    "tags": []
   },
   "outputs": [],
   "source": [
    "res = []\n",
    "for q in eval_data3:\n",
    "    relevant_contents, prompt = tpwire_RAG.generate_context_prompt(search_text=q, K1=K1, K2=K2)\n",
    "    response = openai_client.get_completion(message=prompt)\n",
    "    result = json.loads(response.choices[0].message.content)['Answer']\n",
    "    res.append(result)"
   ]
  },
  {
   "cell_type": "code",
   "execution_count": 247,
   "id": "75c90239-7e6d-4db1-98e8-4f60e1bba3c4",
   "metadata": {
    "tags": []
   },
   "outputs": [
    {
     "data": {
      "text/plain": [
       "[1, 0, 0, 1, 1, 0, 1, 1, 1, 0]"
      ]
     },
     "execution_count": 247,
     "metadata": {},
     "output_type": "execute_result"
    }
   ],
   "source": [
    "[int(i==\"I don't know the answer\") for i in res]"
   ]
  },
  {
   "cell_type": "markdown",
   "id": "69d995bc-4282-4613-959c-4e2d1c85838a",
   "metadata": {},
   "source": [
    "### Retrieval Questions"
   ]
  },
  {
   "cell_type": "code",
   "execution_count": 27,
   "id": "6a15d41c-e833-41d4-a8db-f12dbaeb4e8e",
   "metadata": {
    "tags": []
   },
   "outputs": [],
   "source": [
    "eval_d1 = [\n",
    "    'What is the most recent status of Big Philly Office Loan?',\n",
    "    'What are the key updates about the sale of Dulaney Center?',\n",
    "    'Can you provide an overview of for National Business Park loan?',\n",
    "    'How was the occupancy rate for Doner Company in the recent report?',\n",
    "    'Can you summarize the recent financial performance of Chicago Hotel?',\n",
    "    'What significant events have occurred for Chicago Hotel (after 2022)?',\n",
    "    'How has the value of Waterfront at Port Chester loanevolved according to the latest credit report?',\n",
    "    'What are the main points of concern for IDS Center loan mentioned (this month)?',\n",
    "    'Can you detail the (recent) transactions involving One Concords Center?',\n",
    "    'What are the highlights of the latest credit story for WeWork?',\n",
    "    'How was the delinquency status of Aviation Mall been addressed in the latest update?',\n",
    "    'What new information is available about the refinancing of New York Hospitality Portfolio loan?',\n",
    "    'Could you provide a brief on the recent sales details of Courtyard Louisville Airport?',\n",
    "    'What changes in valuation have been recorded for North Riverside Park Mall (this month)?',\n",
    "    'How does the latest credit story describe the financial health of SASB Office Loan?',\n",
    "    'Could you summarize the deal that Hughes Center Las Vegas belongs to?',\n",
    "    'Could you summarize the main details of sales of Ozarks Hotel?',\n",
    "    'Could you summarize the loan details of Ozarks Hotel?',\n",
    "    'What are the highlights of the special servicing history for Cupertino Hilton Hotel Loan?',\n",
    "    'Could you summarize the valuation changes for Cranberry Woods Office Park (over the years)?',\n",
    "]\n",
    "\n",
    "\n",
    "eval_d3 = [\n",
    "    'What are the 5 transactions in New York in Dec, 2023?',\n",
    "    'Can you list properties involved in deal FREMF 2019-K92?',\n",
    "    'Could you list all stories about office properties in Houston, TX after 2020?',\n",
    "    'What Convenience Center properties are in the Los Angeles-Long Beach-Anaheim, CA msa area?',\n",
    "    'What loans in the MAD 2019-650M are in New York?',\n",
    "    'What was the Bank of America Plaza Loan DSCR in 2022?',\n",
    "    'What is the total Loan Per Square Foot (LPSF) for Bank of America Plaza in St. Louis?',\n",
    "    'What was the occupancy rate increase of Bank of America Plaza in St. Louis from 2021 to 2022?',\n",
    "    'What is the total  lease length of the Jamaica Center Cinema in Queens, NY?',\n",
    "    'Has the East Village Multifamily Portfolio Pool 2 loan LTV increased since securitized? If so, how much of the increase.',\n",
    "]"
   ]
  },
  {
   "cell_type": "markdown",
   "id": "dc50292b-c953-4944-94d9-658d44d57bc6",
   "metadata": {},
   "source": [
    "#### ---- eval_data1 ----"
   ]
  },
  {
   "cell_type": "code",
   "execution_count": 38,
   "id": "5c26de5a-1f91-4531-84ec-b7eb66202ac9",
   "metadata": {
    "tags": []
   },
   "outputs": [],
   "source": [
    "relevant_contents1, relevant_contents, prompt = tpwire_RAG.generate_context_prompt(search_text=eval_d1[1], K1=K1, K2=K2)"
   ]
  },
  {
   "cell_type": "code",
   "execution_count": 40,
   "id": "b13aa226-9396-4cde-9c17-4e71e3ebfd1e",
   "metadata": {
    "tags": []
   },
   "outputs": [
    {
     "data": {
      "text/html": [
       "<div>\n",
       "<style scoped>\n",
       "    .dataframe tbody tr th:only-of-type {\n",
       "        vertical-align: middle;\n",
       "    }\n",
       "\n",
       "    .dataframe tbody tr th {\n",
       "        vertical-align: top;\n",
       "    }\n",
       "\n",
       "    .dataframe thead th {\n",
       "        text-align: right;\n",
       "    }\n",
       "</style>\n",
       "<table border=\"1\" class=\"dataframe\">\n",
       "  <thead>\n",
       "    <tr style=\"text-align: right;\">\n",
       "      <th></th>\n",
       "      <th>distances</th>\n",
       "      <th>Content</th>\n",
       "      <th>Vectors</th>\n",
       "      <th>dealname</th>\n",
       "      <th>propertysubtype</th>\n",
       "      <th>proptypecode</th>\n",
       "      <th>state</th>\n",
       "      <th>county</th>\n",
       "      <th>city</th>\n",
       "      <th>msaname</th>\n",
       "      <th>loanname</th>\n",
       "      <th>region</th>\n",
       "      <th>publishdate</th>\n",
       "    </tr>\n",
       "  </thead>\n",
       "  <tbody>\n",
       "    <tr>\n",
       "      <th>2606</th>\n",
       "      <td>0.377613</td>\n",
       "      <td>Maryland Retail Property: Joann Leaving; Aldi ...</td>\n",
       "      <td>[-0.011157580651342869, -0.011717766523361206,...</td>\n",
       "      <td>[GSMS 2017-GS7]</td>\n",
       "      <td>[Mixed Use]</td>\n",
       "      <td>[MU]</td>\n",
       "      <td>[NY]</td>\n",
       "      <td>[New York]</td>\n",
       "      <td>[New York]</td>\n",
       "      <td>[New York-Newark-Jersey City, NY-NJ-PA]</td>\n",
       "      <td>[90 Fifth Avenue]</td>\n",
       "      <td>[Middle Atlantic]</td>\n",
       "      <td>2023-01-09</td>\n",
       "    </tr>\n",
       "    <tr>\n",
       "      <th>1090</th>\n",
       "      <td>0.386609</td>\n",
       "      <td>GA Retail Property SoldShopping Center Busines...</td>\n",
       "      <td>[-0.012449325993657112, -0.01281984243541956, ...</td>\n",
       "      <td>[COMM 2013-CR9]</td>\n",
       "      <td>[Full Service]</td>\n",
       "      <td>[LO]</td>\n",
       "      <td>[TN]</td>\n",
       "      <td>[Davidson]</td>\n",
       "      <td>[Nashville]</td>\n",
       "      <td>[Nashville-Davidson--Murfreesboro--Franklin, TN]</td>\n",
       "      <td>[Hilton Nashville]</td>\n",
       "      <td>[East South Central]</td>\n",
       "      <td>2020-12-28</td>\n",
       "    </tr>\n",
       "    <tr>\n",
       "      <th>674</th>\n",
       "      <td>0.386949</td>\n",
       "      <td>Follow-up: Starwood National Mall PortfolioWe ...</td>\n",
       "      <td>[-0.01682840660214424, 0.0006534524727612734, ...</td>\n",
       "      <td>[GCCFC 2006-GG7]</td>\n",
       "      <td>[Urban Office]</td>\n",
       "      <td>[OF]</td>\n",
       "      <td>[TX]</td>\n",
       "      <td>[Dallas]</td>\n",
       "      <td>[Farmers Branch]</td>\n",
       "      <td>[Dallas-Fort Worth-Arlington, TX]</td>\n",
       "      <td>[JP Morgan International Plaza I &amp; II - A-2 note]</td>\n",
       "      <td>[West South Central]</td>\n",
       "      <td>2020-04-03</td>\n",
       "    </tr>\n",
       "    <tr>\n",
       "      <th>2410</th>\n",
       "      <td>0.390775</td>\n",
       "      <td>Big Lease Renewal for Retail Property Behind 2...</td>\n",
       "      <td>[-0.00617832038551569, -0.007162086199969053, ...</td>\n",
       "      <td>[BDS 2019-FL4]</td>\n",
       "      <td>[Neighborhood Center]</td>\n",
       "      <td>[RT]</td>\n",
       "      <td>[NY]</td>\n",
       "      <td>[Richmond]</td>\n",
       "      <td>[Staten Island]</td>\n",
       "      <td>[New York-Newark-Jersey City, NY-NJ-PA]</td>\n",
       "      <td>[Shops at Richmond Plaza]</td>\n",
       "      <td>[Middle Atlantic]</td>\n",
       "      <td>2022-10-06</td>\n",
       "    </tr>\n",
       "    <tr>\n",
       "      <th>1467</th>\n",
       "      <td>0.393591</td>\n",
       "      <td>Short-Term Lease Renewal for Top Tenant Behind...</td>\n",
       "      <td>[-0.0233136098831892, -0.013446380384266376, 0...</td>\n",
       "      <td>[BANK 2018-BN13]</td>\n",
       "      <td>[Urban Office]</td>\n",
       "      <td>[OF]</td>\n",
       "      <td>[NY]</td>\n",
       "      <td>[New York]</td>\n",
       "      <td>[New York]</td>\n",
       "      <td>[New York-Newark-Jersey City, NY-NJ-PA]</td>\n",
       "      <td>[Ditson Building]</td>\n",
       "      <td>[Middle Atlantic]</td>\n",
       "      <td>2021-08-03</td>\n",
       "    </tr>\n",
       "    <tr>\n",
       "      <th>937</th>\n",
       "      <td>0.396283</td>\n",
       "      <td>Quick Hit: Lease Renewal Signed for Retail Pro...</td>\n",
       "      <td>[-0.012666475959122181, -0.01589141972362995, ...</td>\n",
       "      <td>[MSBAM 2014-C15]</td>\n",
       "      <td>[Regional Mall]</td>\n",
       "      <td>[RT]</td>\n",
       "      <td>[NY]</td>\n",
       "      <td>[Albany]</td>\n",
       "      <td>[Colonie]</td>\n",
       "      <td>[Albany-Schenectady-Troy, NY]</td>\n",
       "      <td>[Northway Mall]</td>\n",
       "      <td>[Middle Atlantic]</td>\n",
       "      <td>2020-09-02</td>\n",
       "    </tr>\n",
       "    <tr>\n",
       "      <th>13</th>\n",
       "      <td>0.400396</td>\n",
       "      <td>Macy’s to Close Store at DC-Area Mall Backing ...</td>\n",
       "      <td>[-0.03777579590678215, -0.014440495520830154, ...</td>\n",
       "      <td>[BBCMS 2013-TYSN]</td>\n",
       "      <td>[Regional Mall]</td>\n",
       "      <td>[RT]</td>\n",
       "      <td>[VA]</td>\n",
       "      <td>[Fairfax]</td>\n",
       "      <td>[Mclean]</td>\n",
       "      <td>[Washington-Arlington-Alexandria, DC-VA-MD-WV]</td>\n",
       "      <td>[Tysons Galleria Mall]</td>\n",
       "      <td>[South Atlantic]</td>\n",
       "      <td>2019-01-11</td>\n",
       "    </tr>\n",
       "    <tr>\n",
       "      <th>2756</th>\n",
       "      <td>0.401013</td>\n",
       "      <td>Quick Hit: 2014 Mall Portfolio to Lose Another...</td>\n",
       "      <td>[-0.020021585747599602, -0.006417350843548775,...</td>\n",
       "      <td>[CLNC 2019-FL1]</td>\n",
       "      <td>[Urban Office]</td>\n",
       "      <td>[OF]</td>\n",
       "      <td>[NY]</td>\n",
       "      <td>[Queens]</td>\n",
       "      <td>[Long Island City]</td>\n",
       "      <td>[New York-Newark-Jersey City, NY-NJ-PA]</td>\n",
       "      <td>[The Blanchard Building]</td>\n",
       "      <td>[Middle Atlantic]</td>\n",
       "      <td>2023-03-06</td>\n",
       "    </tr>\n",
       "    <tr>\n",
       "      <th>2734</th>\n",
       "      <td>0.401503</td>\n",
       "      <td>Florida Office Behind 2013 Loan SoldAccording ...</td>\n",
       "      <td>[-0.02217288501560688, -0.020210441201925278, ...</td>\n",
       "      <td>[JPMBB 2013-C12]</td>\n",
       "      <td>[Urban Office]</td>\n",
       "      <td>[OF]</td>\n",
       "      <td>[FL]</td>\n",
       "      <td>[Hillsborough]</td>\n",
       "      <td>[Tampa]</td>\n",
       "      <td>[Tampa-St. Petersburg-Clearwater, FL]</td>\n",
       "      <td>[Bridgeport Center]</td>\n",
       "      <td>[South Atlantic]</td>\n",
       "      <td>2023-02-27</td>\n",
       "    </tr>\n",
       "    <tr>\n",
       "      <th>1398</th>\n",
       "      <td>0.401586</td>\n",
       "      <td>Single-Tenant Industrial Property Behind 2017 ...</td>\n",
       "      <td>[-0.005967846140265465, -0.021376958116889, 0....</td>\n",
       "      <td>[CD 2017-CD6]</td>\n",
       "      <td>[Warehouse / Distribution]</td>\n",
       "      <td>[IN]</td>\n",
       "      <td>[NC]</td>\n",
       "      <td>[Durham]</td>\n",
       "      <td>[Durham]</td>\n",
       "      <td>[Durham-Chapel Hill, NC]</td>\n",
       "      <td>[FedEx Ground - Durham]</td>\n",
       "      <td>[South Atlantic]</td>\n",
       "      <td>2021-06-25</td>\n",
       "    </tr>\n",
       "  </tbody>\n",
       "</table>\n",
       "</div>"
      ],
      "text/plain": [
       "      distances                                            Content  \\\n",
       "2606   0.377613  Maryland Retail Property: Joann Leaving; Aldi ...   \n",
       "1090   0.386609  GA Retail Property SoldShopping Center Busines...   \n",
       "674    0.386949  Follow-up: Starwood National Mall PortfolioWe ...   \n",
       "2410   0.390775  Big Lease Renewal for Retail Property Behind 2...   \n",
       "1467   0.393591  Short-Term Lease Renewal for Top Tenant Behind...   \n",
       "937    0.396283  Quick Hit: Lease Renewal Signed for Retail Pro...   \n",
       "13     0.400396  Macy’s to Close Store at DC-Area Mall Backing ...   \n",
       "2756   0.401013  Quick Hit: 2014 Mall Portfolio to Lose Another...   \n",
       "2734   0.401503  Florida Office Behind 2013 Loan SoldAccording ...   \n",
       "1398   0.401586  Single-Tenant Industrial Property Behind 2017 ...   \n",
       "\n",
       "                                                Vectors           dealname  \\\n",
       "2606  [-0.011157580651342869, -0.011717766523361206,...    [GSMS 2017-GS7]   \n",
       "1090  [-0.012449325993657112, -0.01281984243541956, ...    [COMM 2013-CR9]   \n",
       "674   [-0.01682840660214424, 0.0006534524727612734, ...   [GCCFC 2006-GG7]   \n",
       "2410  [-0.00617832038551569, -0.007162086199969053, ...     [BDS 2019-FL4]   \n",
       "1467  [-0.0233136098831892, -0.013446380384266376, 0...   [BANK 2018-BN13]   \n",
       "937   [-0.012666475959122181, -0.01589141972362995, ...   [MSBAM 2014-C15]   \n",
       "13    [-0.03777579590678215, -0.014440495520830154, ...  [BBCMS 2013-TYSN]   \n",
       "2756  [-0.020021585747599602, -0.006417350843548775,...    [CLNC 2019-FL1]   \n",
       "2734  [-0.02217288501560688, -0.020210441201925278, ...   [JPMBB 2013-C12]   \n",
       "1398  [-0.005967846140265465, -0.021376958116889, 0....      [CD 2017-CD6]   \n",
       "\n",
       "                 propertysubtype proptypecode state          county  \\\n",
       "2606                 [Mixed Use]         [MU]  [NY]      [New York]   \n",
       "1090              [Full Service]         [LO]  [TN]      [Davidson]   \n",
       "674               [Urban Office]         [OF]  [TX]        [Dallas]   \n",
       "2410       [Neighborhood Center]         [RT]  [NY]      [Richmond]   \n",
       "1467              [Urban Office]         [OF]  [NY]      [New York]   \n",
       "937              [Regional Mall]         [RT]  [NY]        [Albany]   \n",
       "13               [Regional Mall]         [RT]  [VA]       [Fairfax]   \n",
       "2756              [Urban Office]         [OF]  [NY]        [Queens]   \n",
       "2734              [Urban Office]         [OF]  [FL]  [Hillsborough]   \n",
       "1398  [Warehouse / Distribution]         [IN]  [NC]        [Durham]   \n",
       "\n",
       "                    city                                           msaname  \\\n",
       "2606          [New York]           [New York-Newark-Jersey City, NY-NJ-PA]   \n",
       "1090         [Nashville]  [Nashville-Davidson--Murfreesboro--Franklin, TN]   \n",
       "674     [Farmers Branch]                 [Dallas-Fort Worth-Arlington, TX]   \n",
       "2410     [Staten Island]           [New York-Newark-Jersey City, NY-NJ-PA]   \n",
       "1467          [New York]           [New York-Newark-Jersey City, NY-NJ-PA]   \n",
       "937            [Colonie]                     [Albany-Schenectady-Troy, NY]   \n",
       "13              [Mclean]    [Washington-Arlington-Alexandria, DC-VA-MD-WV]   \n",
       "2756  [Long Island City]           [New York-Newark-Jersey City, NY-NJ-PA]   \n",
       "2734             [Tampa]             [Tampa-St. Petersburg-Clearwater, FL]   \n",
       "1398            [Durham]                          [Durham-Chapel Hill, NC]   \n",
       "\n",
       "                                               loanname                region  \\\n",
       "2606                                  [90 Fifth Avenue]     [Middle Atlantic]   \n",
       "1090                                 [Hilton Nashville]  [East South Central]   \n",
       "674   [JP Morgan International Plaza I & II - A-2 note]  [West South Central]   \n",
       "2410                          [Shops at Richmond Plaza]     [Middle Atlantic]   \n",
       "1467                                  [Ditson Building]     [Middle Atlantic]   \n",
       "937                                     [Northway Mall]     [Middle Atlantic]   \n",
       "13                               [Tysons Galleria Mall]      [South Atlantic]   \n",
       "2756                           [The Blanchard Building]     [Middle Atlantic]   \n",
       "2734                                [Bridgeport Center]      [South Atlantic]   \n",
       "1398                            [FedEx Ground - Durham]      [South Atlantic]   \n",
       "\n",
       "     publishdate  \n",
       "2606  2023-01-09  \n",
       "1090  2020-12-28  \n",
       "674   2020-04-03  \n",
       "2410  2022-10-06  \n",
       "1467  2021-08-03  \n",
       "937   2020-09-02  \n",
       "13    2019-01-11  \n",
       "2756  2023-03-06  \n",
       "2734  2023-02-27  \n",
       "1398  2021-06-25  "
      ]
     },
     "execution_count": 40,
     "metadata": {},
     "output_type": "execute_result"
    }
   ],
   "source": [
    "relevant_contents1"
   ]
  },
  {
   "cell_type": "code",
   "execution_count": 251,
   "id": "ed8adb83-7296-44d7-8ff2-85ba51966a50",
   "metadata": {
    "tags": []
   },
   "outputs": [],
   "source": [
    "res = []\n",
    "for q in eval_d1:\n",
    "    relevant_contents, prompt = tpwire_RAG.generate_context_prompt(search_text=q, K1=K1, K2=K2)\n",
    "    res.append(relevant_contents.index.tolist())"
   ]
  },
  {
   "cell_type": "code",
   "execution_count": 252,
   "id": "0881fbe3-c393-4543-a79d-8a5a4e1ff94d",
   "metadata": {
    "tags": []
   },
   "outputs": [
    {
     "data": {
      "text/plain": [
       "[[3332, 3341, 3539, 2786, 2585],\n",
       " [13, 2606, 1467, 937, 1090],\n",
       " [1046, 235, 1332, 2711, 879],\n",
       " [1215, 3071, 2778, 1206, 3502],\n",
       " [1546, 3080, 2512, 1440, 1563],\n",
       " [3080, 1181, 1518, 1132, 1896],\n",
       " [2520, 2995, 3181, 1125, 977],\n",
       " [2790, 2925, 3177, 2004, 198],\n",
       " [2043, 2766, 3206, 2431, 559],\n",
       " [3489, 659, 677, 3041, 3150],\n",
       " [3452, 2090, 797],\n",
       " [3432, 1131, 942, 2527, 2779],\n",
       " [1777, 2123, 3220],\n",
       " [2847, 2911, 2184, 3363, 3533],\n",
       " [3537, 2849, 3268, 2558, 2089],\n",
       " [1277, 196, 1321, 354, 2565],\n",
       " [3546, 3315, 1765, 1175, 779],\n",
       " [3546, 178, 2355, 2309, 1288],\n",
       " [3614, 3440, 2390, 1281, 1958],\n",
       " [3551, 1356, 3154, 3509, 2804]]"
      ]
     },
     "execution_count": 252,
     "metadata": {},
     "output_type": "execute_result"
    }
   ],
   "source": [
    "res"
   ]
  },
  {
   "cell_type": "markdown",
   "id": "a2646ede-45ec-47ed-8585-71215db42e3f",
   "metadata": {},
   "source": [
    "#### ---- eval_data3 ----"
   ]
  },
  {
   "cell_type": "code",
   "execution_count": 255,
   "id": "74978d46-2219-43fe-8d9d-a91cd76b8b67",
   "metadata": {
    "tags": []
   },
   "outputs": [],
   "source": [
    "res = []\n",
    "for q in eval_d3:\n",
    "    relevant_contents, prompt = tpwire_RAG.generate_context_prompt(search_text=q, K1=K1, K2=K2)\n",
    "    res.append(relevant_contents.index.tolist())"
   ]
  },
  {
   "cell_type": "code",
   "execution_count": 256,
   "id": "a3606be4-f8e3-4281-baf5-5b193ed95f54",
   "metadata": {
    "tags": []
   },
   "outputs": [
    {
     "data": {
      "text/plain": [
       "[[3602, 3569, 3115, 1991, 2059],\n",
       " [1848, 1351, 77, 1741, 271],\n",
       " [399, 819, 2416, 2597, 256],\n",
       " [590, 2975, 626, 52, 41],\n",
       " [323, 1021, 2080, 2089, 2558],\n",
       " [2979, 1921, 913, 3253, 3518],\n",
       " [2979, 3198, 1921, 55, 1851],\n",
       " [2979, 3198, 1921, 55, 1920],\n",
       " [3526, 2950, 2548, 2748, 2956],\n",
       " [2275, 1344, 3353, 1003, 2520]]"
      ]
     },
     "execution_count": 256,
     "metadata": {},
     "output_type": "execute_result"
    }
   ],
   "source": [
    "res"
   ]
  },
  {
   "cell_type": "code",
   "execution_count": 258,
   "id": "2e330da9-55b3-4474-9e28-bf664dbf9e3f",
   "metadata": {
    "tags": []
   },
   "outputs": [
    {
     "data": {
      "text/plain": [
       "'Multifamily Property in Houston AcquiredThe Fuse at Park Row, a 318-unit multifamily property at 14220 Park Row Drive in Houston, TX, was acquired by Keener Investments, according to Multi-Housing News.The property backs the $28.2 million 14220 At Park Row loan which makes up 4.25% of FREMF 2019-KC07.The complex was constructed in 1998 and renovated in 2015.The loan matures in 2026 and is locked out until late 2025. (Yes, the loan has an unusually long 25-month open window.)For the first nine months of 2021, the loan posted a DSCR (NCF) of 2.00x when occupancy was 96%.The complex was valued at $41.17 million in 2019. The sales price was not disclosed.'"
      ]
     },
     "execution_count": 258,
     "metadata": {},
     "output_type": "execute_result"
    }
   ],
   "source": [
    "tpwire_df.iloc[1848].summaryplaintext"
   ]
  },
  {
   "cell_type": "markdown",
   "id": "6743187f-c82d-4993-a22b-1d52bb818f76",
   "metadata": {},
   "source": [
    "# * Metadata filtering exploration"
   ]
  },
  {
   "cell_type": "markdown",
   "id": "055462a0-6974-440e-b233-9aa049f40fc0",
   "metadata": {},
   "source": [
    "## The properties I think will be useful is \"proptypecode\", \"state, county, city\" and \"publishdate\". But I put all tags into it."
   ]
  },
  {
   "cell_type": "code",
   "execution_count": 29,
   "id": "ca7a5f14-8607-4389-a4df-243aac4ce2dc",
   "metadata": {
    "tags": []
   },
   "outputs": [
    {
     "data": {
      "text/plain": [
       "'Trading Alert: Stop &amp; Shop Portfolio SoldFour Stop &amp; Shop properties in Massachusetts and Rhode Island were acquired by Orion Real Estate Group, as reported in the Providence Business First.The properties back a big 2020 CMBS loan that can be prepaid with a small yield maintenance charge. The four properties back the $45 million Stop &amp; Shop Portfolio loan which makes up 2.77% of BANK 2020-BN25.The loan matures in 2030 and it carries an interest rate of just 3.445%. If prepaid (and not assumed) the yield maintenance charge on the loan would be its “floor” of just 1% of the loan balance.The individual sales prices are as follows:'"
      ]
     },
     "execution_count": 29,
     "metadata": {},
     "output_type": "execute_result"
    }
   ],
   "source": [
    "tpwire_df.iloc[2760].summaryplaintext"
   ]
  },
  {
   "cell_type": "code",
   "execution_count": 24,
   "id": "bab7b2ef-7cbd-4243-a371-6f411b32b225",
   "metadata": {
    "tags": []
   },
   "outputs": [
    {
     "data": {
      "text/plain": [
       "{'ids': ['2760'],\n",
       " 'embeddings': None,\n",
       " 'metadatas': [{'publishdate': 1678233600}],\n",
       " 'documents': [None],\n",
       " 'uris': None,\n",
       " 'data': None,\n",
       " 'included': ['metadatas', 'documents']}"
      ]
     },
     "execution_count": 24,
     "metadata": {},
     "output_type": "execute_result"
    }
   ],
   "source": [
    "db_client.get_collection(name=DBNAME).get(ids='2760')"
   ]
  },
  {
   "cell_type": "code",
   "execution_count": 31,
   "id": "430edcea-8183-43b2-b396-d13a59885e7c",
   "metadata": {
    "tags": []
   },
   "outputs": [],
   "source": [
    "idx = tpwire_df['state'].value_counts().index"
   ]
  },
  {
   "cell_type": "code",
   "execution_count": 32,
   "id": "98d98251-a5f2-43dd-b8cb-5becb142a0d2",
   "metadata": {
    "tags": []
   },
   "outputs": [
    {
     "data": {
      "text/plain": [
       "['VR', ' MA', ' RI']"
      ]
     },
     "execution_count": 32,
     "metadata": {},
     "output_type": "execute_result"
    }
   ],
   "source": [
    "idx[100][1:-1].split(',')"
   ]
  },
  {
   "cell_type": "code",
   "execution_count": 33,
   "id": "a9793ab1-430b-4d88-b6c6-cda583436d86",
   "metadata": {
    "tags": []
   },
   "outputs": [
    {
     "data": {
      "text/plain": [
       "2760"
      ]
     },
     "execution_count": 33,
     "metadata": {},
     "output_type": "execute_result"
    }
   ],
   "source": [
    "tpwire_df.state.tolist().index('[VR, MA, RI]')"
   ]
  },
  {
   "cell_type": "code",
   "execution_count": 34,
   "id": "60938f7f-a896-4657-bbe1-293d9e090f8c",
   "metadata": {
    "tags": []
   },
   "outputs": [],
   "source": [
    "# states"
   ]
  },
  {
   "cell_type": "code",
   "execution_count": 35,
   "id": "59b3014e-3e46-4136-a214-4cc737c376e8",
   "metadata": {
    "tags": []
   },
   "outputs": [],
   "source": [
    "metadata_prompt = \"\"\"\n",
    "    Could you using the Name Entity Recoginization for the below sentence and return the filter in the chromaDB format for me?\n",
    "    There are 3 types of metadata:\n",
    "        1. proptypecode: it contains values: {{OF, RT, LO, MF, MU, IN, OT, MU, MH}}\n",
    "        2. state, county, city: it actually contains 3 types of metadata: state, county and city. You can ignore if the sentence doesn't have it, but if it does have that, you should figure them all out.\n",
    "        3. publishdate: I want you to first learn about time-related keywords, so if keywords is something like \"recent\", \"latest\", just assume within one month, if keywords like \"this quarter\", use \"start of this quarter to today\".\n",
    "    \n",
    "    Input: \n",
    "    sentence: {sentence}\n",
    "    \n",
    "    Example:\n",
    "    {{\"$and\":[\n",
    "        {{\n",
    "            \"state\": {{\"$in\": [\"NY\"]}}\n",
    "            }}, \n",
    "        {{\"publishdate\": \n",
    "            {{\n",
    "                \"$gte\": date_to_int(\"2024-01-01\")\n",
    "                }}\n",
    "            }}\n",
    "            ]\n",
    "        }} \n",
    "    means in state NY and after date 2024-01-01.\n",
    "    \n",
    "    Output:\n",
    "    <chromaDB standard filter>\n",
    "\"\"\"\n",
    "\n",
    "metadata_prompt1 = \"\"\"\n",
    "    Please use Named Entity Recognition (NER) to extract information from the following sentence and format the output according to the ChromaDB filter standard. (If \"$gte\" and \"lte\" appear together, you should output in individual dict)\n",
    "\n",
    "    There are 5 types of metadata to consider:\n",
    "        1. proptypecode: It can contain values such as {{OF, RT, LO, MF, MU, IN, OT, MU, MH}}.\n",
    "        2. state: These are geographical entities. Extract all that are present in the sentence. If it is missing, ignore. (state should be 2 characters abbreviation)\n",
    "        3. county: These are geographical entities. Extract all that are present in the sentence. If it is missing, ignore.\n",
    "        4. city: These are geographical entities. Extract all that are present in the sentence. If it is missing, ignore. \n",
    "        5. publishdate: Identify time-related keywords. If the keywords are like \"recent\", \"latest\", assume a date within one month. If keywords are like \"this quarter\", use the range \"start of this quarter to today\". If keywords are like \"in monthA\", use the range \"start of this month to today\". (all dates should be in the standard yyyy-mm-dd format)\n",
    "\n",
    "    Input:\n",
    "    sentence: {sentence}\n",
    "    \n",
    "    Example:\n",
    "    If the sentence is \"Properties in NY have seen recent updates\":\n",
    "    {{\n",
    "        \"$and\": [\n",
    "            {{\n",
    "                \"state\": {{\"$in\": [\"NY\"]}}\n",
    "            }},\n",
    "            {{\n",
    "                \"publishdate\": {{\n",
    "                    \"$gte\": \"2024-06-01\"\n",
    "                }}\n",
    "            }}\n",
    "        ]\n",
    "    }}\n",
    "\n",
    "    Output:\n",
    "    Provide the filter in the ChromaDB standard format.\n",
    "\"\"\"\n",
    "\n",
    "metadata_prompt2 = \"\"\"\n",
    "    Please use Named Entity Recognition (NER) to extract information from the following sentence and format the output according to the ChromaDB filter standard. \n",
    "\n",
    "    There are 5 types of metadata to consider:\n",
    "        1. proptypecode: It can contain values such as {{OF (Office), RT (Retail), LO (Lodging), MF (Multi-family), MU (Multi-use), IN (Industrial), OT (Other), MH (Mobile home)}}. If doesn't have, ignore it.\n",
    "        2. state: These are geographical entities. Extract all that are present in the sentence. If it is missing, ignore it. (state should be a 2-character abbreviation)\n",
    "        3. county: These are geographical entities. Extract all that are present in the sentence. If it is missing, ignore it.\n",
    "        4. city: These are geographical entities. Extract all that are present in the sentence. If it is missing, ignore it.\n",
    "        5. publishdate: Identify time-related keywords. If the keywords are like \"recent\", \"latest\", assume a date within one month. If keywords are like \"this quarter\", use the range \"start of this quarter to today\". If keywords are like \"in monthA\", use the range \"start of this month to today\". (all dates should be in the standard yyyy-mm-dd format)\n",
    "\n",
    "    If both \"$gte\" and \"$lte\" conditions appear, they should be output separately as individual dictionaries.\n",
    "\n",
    "    Input:\n",
    "    sentence: {sentence}\n",
    "    \n",
    "    Example:\n",
    "    If the sentence is \"Properties in NY have seen recent updates\":\n",
    "    {{\n",
    "        \"$and\": [\n",
    "            {{\n",
    "                \"state\": {{\"$in\": [\"NY\"]}}\n",
    "            }},\n",
    "            {{\n",
    "                \"publishdate\": {{\n",
    "                    \"$gte\": \"2024-06-01\"\n",
    "                }}\n",
    "            }}\n",
    "        ]\n",
    "    }}\n",
    "\n",
    "    If the sentence is \"Properties in NY have seen updates in July, 2024\":\n",
    "    {{\n",
    "        \"$and\": [\n",
    "            {{\n",
    "                \"state\": {{\"$in\": [\"NY\"]}}\n",
    "            }},\n",
    "            {{\n",
    "                \"publishdate\": {{\n",
    "                    \"$gte\": \"2024-07-01\"\n",
    "                }}\n",
    "            }},\n",
    "            {{\n",
    "                \"publishdate\": {{\n",
    "                    \"$lte\": \"2024-07-30\"\n",
    "                }}\n",
    "            }}\n",
    "        ]\n",
    "    }}\n",
    "\n",
    "    Output:\n",
    "    Provide the filter in the ChromaDB standard format.\n",
    "\"\"\"\n",
    "\n",
    "\n",
    "metadata_prompt4 = \"\"\"\n",
    "    Please extract information from the given sentence and format it according to the ChromaDB filter standard. Follow these steps:\n",
    "\n",
    "    1. Entity Extraction:\n",
    "        - proptypecode: It can contain property type values such as {{OF (Office), RT (Retail), LO (Lodging), MF (Multi-family), MU (Multi-use), IN (Industrial), OT (Other), MH (Mobile home)}}. If doesn't contain, just ignore this.\n",
    "        - state: These are geographical entities. Extract all that are present in the sentence. If it is missing, ignore it. (state should be a 2-letter code)\n",
    "        - county: These are geographical entities. Extract all that are present in the sentence. If it is missing, ignore it.\n",
    "        - city: These are geographical entities. Extract all that are present in the sentence. If it is missing, ignore it.\n",
    "        - publishdate: Identify time-related keywords\n",
    "\n",
    "    2. publishdate interpretation:\n",
    "       - \"recent\" or \"latest\": Use date range from 30 days ago to today\n",
    "       - \"this quarter\": Use range from start of current quarter to today\n",
    "       - \"in [month]\": Use range from start to end of specified month\n",
    "       - \"in [month], [year]\": Use range from start to end of specified month and year\n",
    "       - Specific dates: Use as given\n",
    "       - All dates should be should be in the standard yyyy-mm-dd format.\n",
    "\n",
    "    3. Formatting:\n",
    "       - Use the ChromaDB filter standard\n",
    "       - For date ranges, use separate \"$gte\" and \"$lte\" conditions\n",
    "    \n",
    "    Examples:\n",
    "\n",
    "    1. \"Find office properties in New York City listed this quarter\"\n",
    "    {{\n",
    "        \"$and\": [\n",
    "            {{\n",
    "                \"proptypecode\": {{\"$in\": [\"OF\"]}}\n",
    "            }},\n",
    "            {{\n",
    "                \"city\": {{\"$in\": [\"New York City\"]}}\n",
    "            }},\n",
    "            {{\n",
    "                \"publishdate\": {{\"$gte\": \"2024-07-01\"}}\n",
    "            }},\n",
    "            {{\n",
    "                \"publishdate\": {{\"$lte\": \"2024-07-31\"}}\n",
    "            }}\n",
    "        ]\n",
    "    }}\n",
    "\n",
    "    2. \"Show recent retail listings in Los Angeles County, CA\"\n",
    "    {{\n",
    "        \"$and\": [\n",
    "            {{\n",
    "                \"proptypecode\": {{\"$in\": [\"RT\"]}}\n",
    "            }},\n",
    "            {{\n",
    "                \"state\": {{\"$in\": [\"CA\"]}}\n",
    "            }},\n",
    "            {{\n",
    "                \"county\": {{\"$in\": [\"Los Angeles\"]}}\n",
    "            }},\n",
    "            {{\n",
    "                \"publishdate\": {{\"$gte\": \"2024-07-01\"}}\n",
    "            }},\n",
    "            {{\n",
    "                \"publishdate\": {{\"$lte\": \"2024-07-31\"}}\n",
    "            }}\n",
    "        ]\n",
    "    }}\n",
    "\n",
    "    3. \"What are the 5 transactions in New York in Dec, 2023?\"\n",
    "    {{\n",
    "        \"$and\": [\n",
    "            {{\n",
    "                \"state\": {{\"$in\": [\"NY\"]}}\n",
    "            }},\n",
    "            {{\n",
    "                \"publishdate\": {{\"$gte\": \"2023-12-01\"}}\n",
    "            }},\n",
    "            {{\n",
    "                \"publishdate\": {{\"$lte\": \"2023-12-31\"}}\n",
    "            }}\n",
    "        ]\n",
    "    }}\n",
    "\n",
    "    Please provide the ChromaDB filter for the following sentence:\n",
    "    Input sentence: {sentence}\n",
    "\"\"\""
   ]
  },
  {
   "cell_type": "code",
   "execution_count": 36,
   "id": "6f82b4a7-2a3b-4c02-92c8-f309a0e30284",
   "metadata": {
    "tags": []
   },
   "outputs": [],
   "source": [
    "# metadata_prompt11 = metadata_prompt1.format(sentence=\"How many properties in the Houston, TX facing foreclosure?\")\n",
    "metadata_prompt41 = metadata_prompt4.format(sentence='What are the 5 transactions in New York in Dec, 2023?') "
   ]
  },
  {
   "cell_type": "code",
   "execution_count": null,
   "id": "44e049ec-7d92-4745-a593-bae7938abf11",
   "metadata": {
    "tags": []
   },
   "outputs": [],
   "source": [
    "# tpwire_RAG.retrieve_relevant(search_text='What are the 5 transactions in New York in Dec, 2023?', K=K, where=processed_filter)\n",
    "# search_text='What are the 5 transactions in New York in Dec, 2023?'\n",
    "# search_text = 'What was the Bank of America Plaza Loan DSCR in 2022?'\n",
    "# search_text = 'What is the total Loan Per Square Foot (LPSF) for Bank of America Plaza in St. Louis?'\n",
    "# search_text = 'What was the occupancy rate increase of Bank of America Plaza in St. Louis from 2021 to 2022?'\n",
    "search_text = \"What's the total lease length of the Jamaica Center Cinema in Queens, NY?\"\n",
    "\n",
    "response = openai_client.get_completion(message= metadata_prompt4.format(sentence=search_text))\n",
    "where_filter = json.loads(response.choices[0].message.content)\n",
    "processed_filter = process_llm_output(where_filter)\n",
    "relevant_contents, prompt = tpwire_RAG.generate_context_prompt(search_text=search_text, K=K, where=processed_filter)"
   ]
  },
  {
   "cell_type": "code",
   "execution_count": null,
   "id": "d560d27b-0afb-4a01-bbaa-ba897277e842",
   "metadata": {
    "tags": []
   },
   "outputs": [],
   "source": [
    "relevant_contents"
   ]
  },
  {
   "cell_type": "code",
   "execution_count": null,
   "id": "0bd2620a-d928-4586-8047-54468c94045c",
   "metadata": {
    "tags": []
   },
   "outputs": [],
   "source": [
    "response = openai_client.get_completion(message=prompt)\n",
    "json.loads(response.choices[0].message.content)['Answer']"
   ]
  },
  {
   "cell_type": "code",
   "execution_count": null,
   "id": "6dae55a0-a7eb-4330-b911-cc8286047347",
   "metadata": {
    "tags": []
   },
   "outputs": [],
   "source": [
    "prompt"
   ]
  },
  {
   "cell_type": "code",
   "execution_count": null,
   "id": "ea7fb846-4cba-4cb8-9b85-504ad4d179af",
   "metadata": {
    "tags": []
   },
   "outputs": [
    {
     "data": {
      "text/plain": [
       "('Trading Alert: Stop &amp; Shop Portfolio SoldFour Stop &amp; Shop properties in Massachusetts and Rhode Island were acquired by Orion Real Estate Group, as reported in the Providence Business First.The properties back a big 2020 CMBS loan that can be prepaid with a small yield maintenance charge. The four properties back the $45 million Stop &amp; Shop Portfolio loan which makes up 2.77% of BANK 2020-BN25.The loan matures in 2030 and it carries an interest rate of just 3.445%. If prepaid (and not assumed) the yield maintenance charge on the loan would be its “floor” of just 1% of the loan balance.The individual sales prices are as follows:',\n",
       " '[VR, MA, RI]')"
      ]
     },
     "execution_count": 41,
     "metadata": {},
     "output_type": "execute_result"
    }
   ],
   "source": [
    "tpwire_df.iloc[2760].summaryplaintext, tpwire_df.iloc[2760].state"
   ]
  },
  {
   "cell_type": "markdown",
   "id": "c8d39ff1-b41a-4fe8-ac13-d80d8e8b3c60",
   "metadata": {
    "tags": []
   },
   "source": [
    "# * Reranking exploration"
   ]
  },
  {
   "cell_type": "markdown",
   "id": "9c4572f1-dec9-4420-ad9e-a5aec90ee6fe",
   "metadata": {},
   "source": [
    "## Using cross-encoder: pass out because of the limitation of context length."
   ]
  },
  {
   "cell_type": "code",
   "execution_count": 45,
   "id": "e7d0c6ee-771c-4217-bdd7-201e23a6efdb",
   "metadata": {
    "tags": []
   },
   "outputs": [],
   "source": [
    "from sentence_transformers import CrossEncoder"
   ]
  },
  {
   "cell_type": "code",
   "execution_count": 46,
   "id": "07d2f093-8a5e-4dbf-bbb3-b660e2dd3f3b",
   "metadata": {
    "tags": []
   },
   "outputs": [
    {
     "data": {
      "application/vnd.jupyter.widget-view+json": {
       "model_id": "d3a23230e11b4ab58dc621b924b44cf5",
       "version_major": 2,
       "version_minor": 0
      },
      "text/plain": [
       "config.json:   0%|          | 0.00/794 [00:00<?, ?B/s]"
      ]
     },
     "metadata": {},
     "output_type": "display_data"
    },
    {
     "data": {
      "application/vnd.jupyter.widget-view+json": {
       "model_id": "5f95d0056e0c487897f6a95f38943090",
       "version_major": 2,
       "version_minor": 0
      },
      "text/plain": [
       "pytorch_model.bin:   0%|          | 0.00/90.9M [00:00<?, ?B/s]"
      ]
     },
     "metadata": {},
     "output_type": "display_data"
    },
    {
     "data": {
      "application/vnd.jupyter.widget-view+json": {
       "model_id": "a0acbf4ff24c45e1b561aa1fc8499cf4",
       "version_major": 2,
       "version_minor": 0
      },
      "text/plain": [
       "tokenizer_config.json:   0%|          | 0.00/316 [00:00<?, ?B/s]"
      ]
     },
     "metadata": {},
     "output_type": "display_data"
    },
    {
     "data": {
      "application/vnd.jupyter.widget-view+json": {
       "model_id": "408a63ef9dc24cdb9ad90909ccf7aa8a",
       "version_major": 2,
       "version_minor": 0
      },
      "text/plain": [
       "vocab.txt:   0%|          | 0.00/232k [00:00<?, ?B/s]"
      ]
     },
     "metadata": {},
     "output_type": "display_data"
    },
    {
     "data": {
      "application/vnd.jupyter.widget-view+json": {
       "model_id": "0109ee1961ba4a62b604c3142f1c258a",
       "version_major": 2,
       "version_minor": 0
      },
      "text/plain": [
       "special_tokens_map.json:   0%|          | 0.00/112 [00:00<?, ?B/s]"
      ]
     },
     "metadata": {},
     "output_type": "display_data"
    }
   ],
   "source": [
    "model = CrossEncoder('cross-encoder/ms-marco-MiniLM-L-6-v2', max_length=512)"
   ]
  },
  {
   "cell_type": "code",
   "execution_count": 48,
   "id": "bdb82c6f-86c7-4397-9026-46efe63c3290",
   "metadata": {
    "tags": []
   },
   "outputs": [
    {
     "data": {
      "text/html": [
       "<div>\n",
       "<style scoped>\n",
       "    .dataframe tbody tr th:only-of-type {\n",
       "        vertical-align: middle;\n",
       "    }\n",
       "\n",
       "    .dataframe tbody tr th {\n",
       "        vertical-align: top;\n",
       "    }\n",
       "\n",
       "    .dataframe thead th {\n",
       "        text-align: right;\n",
       "    }\n",
       "</style>\n",
       "<table border=\"1\" class=\"dataframe\">\n",
       "  <thead>\n",
       "    <tr style=\"text-align: right;\">\n",
       "      <th></th>\n",
       "      <th>distances</th>\n",
       "      <th>Content</th>\n",
       "      <th>Vectors</th>\n",
       "      <th>dealname</th>\n",
       "      <th>propertysubtype</th>\n",
       "      <th>proptypecode</th>\n",
       "      <th>state</th>\n",
       "      <th>county</th>\n",
       "      <th>city</th>\n",
       "      <th>msaname</th>\n",
       "      <th>loanname</th>\n",
       "      <th>region</th>\n",
       "      <th>publishdate</th>\n",
       "    </tr>\n",
       "  </thead>\n",
       "  <tbody>\n",
       "    <tr>\n",
       "      <th>3486</th>\n",
       "      <td>0.441708</td>\n",
       "      <td>Big NYC Office Loan Expected to Miss Maturity ...</td>\n",
       "      <td>[-0.022681208327412605, -0.012724092230200768,...</td>\n",
       "      <td>[COMM 2014-CR15]</td>\n",
       "      <td>[Urban Office]</td>\n",
       "      <td>[OF]</td>\n",
       "      <td>[NY]</td>\n",
       "      <td>[New York]</td>\n",
       "      <td>[New York]</td>\n",
       "      <td>[New York-Newark-Jersey City, NY-NJ-PA]</td>\n",
       "      <td>[25 West 45th Street]</td>\n",
       "      <td>[Middle Atlantic]</td>\n",
       "      <td>2023-12-14</td>\n",
       "    </tr>\n",
       "    <tr>\n",
       "      <th>3499</th>\n",
       "      <td>0.443006</td>\n",
       "      <td>Trading Alert: NYC’s Seagram Building Refinanc...</td>\n",
       "      <td>[-0.020313233137130737, -0.02171507477760315, ...</td>\n",
       "      <td>[COMM 2013-CR8]</td>\n",
       "      <td>[Mixed Use]</td>\n",
       "      <td>[MU]</td>\n",
       "      <td>[NY]</td>\n",
       "      <td>[New York]</td>\n",
       "      <td>[New York]</td>\n",
       "      <td>[New York-Newark-Jersey City, NY-NJ-PA]</td>\n",
       "      <td>[The Prince Building]</td>\n",
       "      <td>[Middle Atlantic]</td>\n",
       "      <td>2023-12-20</td>\n",
       "    </tr>\n",
       "    <tr>\n",
       "      <th>3498</th>\n",
       "      <td>0.453352</td>\n",
       "      <td>Another Concern for NYC Mixed-Use Property?A f...</td>\n",
       "      <td>[-0.02200057916343212, 0.0014346742536872625, ...</td>\n",
       "      <td>[GSMS 2014-GC26]</td>\n",
       "      <td>[Urban Office]</td>\n",
       "      <td>[OF]</td>\n",
       "      <td>[CA]</td>\n",
       "      <td>[Los Angeles]</td>\n",
       "      <td>[Los Angeles]</td>\n",
       "      <td>[Los Angeles-Long Beach-Anaheim, CA]</td>\n",
       "      <td>[Bank of America Plaza]</td>\n",
       "      <td>[Pacific]</td>\n",
       "      <td>2023-12-19</td>\n",
       "    </tr>\n",
       "    <tr>\n",
       "      <th>3511</th>\n",
       "      <td>0.454713</td>\n",
       "      <td>Correction: Connecticut Retail Loan Last week ...</td>\n",
       "      <td>[-0.03223033621907234, 0.005310523323714733, 0...</td>\n",
       "      <td>[UBSBB 2013-C5]</td>\n",
       "      <td>[Urban Office]</td>\n",
       "      <td>[OF]</td>\n",
       "      <td>[NY]</td>\n",
       "      <td>[New York]</td>\n",
       "      <td>[New York]</td>\n",
       "      <td>[New York-Newark-Jersey City, NY-NJ-PA]</td>\n",
       "      <td>[200 Park Avenue]</td>\n",
       "      <td>[Middle Atlantic]</td>\n",
       "      <td>2023-12-26</td>\n",
       "    </tr>\n",
       "    <tr>\n",
       "      <th>3489</th>\n",
       "      <td>0.455509</td>\n",
       "      <td>Trepp Flash: WeWork Renegotiates Lease for Big...</td>\n",
       "      <td>[-0.011740509420633316, -0.016708938404917717,...</td>\n",
       "      <td>[JPMCC 2021-1440]</td>\n",
       "      <td>[Mixed Use]</td>\n",
       "      <td>[OF]</td>\n",
       "      <td>[NY]</td>\n",
       "      <td>[New York]</td>\n",
       "      <td>[New York]</td>\n",
       "      <td>[New York-Newark-Jersey City, NY-NJ-PA]</td>\n",
       "      <td>[1440 Broadway]</td>\n",
       "      <td>[Middle Atlantic]</td>\n",
       "      <td>2023-12-15</td>\n",
       "    </tr>\n",
       "  </tbody>\n",
       "</table>\n",
       "</div>"
      ],
      "text/plain": [
       "      distances                                            Content  \\\n",
       "3486   0.441708  Big NYC Office Loan Expected to Miss Maturity ...   \n",
       "3499   0.443006  Trading Alert: NYC’s Seagram Building Refinanc...   \n",
       "3498   0.453352  Another Concern for NYC Mixed-Use Property?A f...   \n",
       "3511   0.454713  Correction: Connecticut Retail Loan Last week ...   \n",
       "3489   0.455509  Trepp Flash: WeWork Renegotiates Lease for Big...   \n",
       "\n",
       "                                                Vectors           dealname  \\\n",
       "3486  [-0.022681208327412605, -0.012724092230200768,...   [COMM 2014-CR15]   \n",
       "3499  [-0.020313233137130737, -0.02171507477760315, ...    [COMM 2013-CR8]   \n",
       "3498  [-0.02200057916343212, 0.0014346742536872625, ...   [GSMS 2014-GC26]   \n",
       "3511  [-0.03223033621907234, 0.005310523323714733, 0...    [UBSBB 2013-C5]   \n",
       "3489  [-0.011740509420633316, -0.016708938404917717,...  [JPMCC 2021-1440]   \n",
       "\n",
       "     propertysubtype proptypecode state         county           city  \\\n",
       "3486  [Urban Office]         [OF]  [NY]     [New York]     [New York]   \n",
       "3499     [Mixed Use]         [MU]  [NY]     [New York]     [New York]   \n",
       "3498  [Urban Office]         [OF]  [CA]  [Los Angeles]  [Los Angeles]   \n",
       "3511  [Urban Office]         [OF]  [NY]     [New York]     [New York]   \n",
       "3489     [Mixed Use]         [OF]  [NY]     [New York]     [New York]   \n",
       "\n",
       "                                      msaname                 loanname  \\\n",
       "3486  [New York-Newark-Jersey City, NY-NJ-PA]    [25 West 45th Street]   \n",
       "3499  [New York-Newark-Jersey City, NY-NJ-PA]    [The Prince Building]   \n",
       "3498     [Los Angeles-Long Beach-Anaheim, CA]  [Bank of America Plaza]   \n",
       "3511  [New York-Newark-Jersey City, NY-NJ-PA]        [200 Park Avenue]   \n",
       "3489  [New York-Newark-Jersey City, NY-NJ-PA]          [1440 Broadway]   \n",
       "\n",
       "                 region publishdate  \n",
       "3486  [Middle Atlantic]  2023-12-14  \n",
       "3499  [Middle Atlantic]  2023-12-20  \n",
       "3498          [Pacific]  2023-12-19  \n",
       "3511  [Middle Atlantic]  2023-12-26  \n",
       "3489  [Middle Atlantic]  2023-12-15  "
      ]
     },
     "execution_count": 48,
     "metadata": {},
     "output_type": "execute_result"
    }
   ],
   "source": [
    "relevant_contents"
   ]
  },
  {
   "cell_type": "code",
   "execution_count": 49,
   "id": "980449ac-fe36-4d67-b1d3-5031b4386f96",
   "metadata": {
    "tags": []
   },
   "outputs": [
    {
     "data": {
      "text/plain": [
       "'What are the 5 transactions in New York in Dec, 2023?'"
      ]
     },
     "execution_count": 49,
     "metadata": {},
     "output_type": "execute_result"
    }
   ],
   "source": [
    "search_text"
   ]
  },
  {
   "cell_type": "code",
   "execution_count": 59,
   "id": "d569650a-dcd9-497a-9da2-2c0a44f605a1",
   "metadata": {
    "tags": []
   },
   "outputs": [],
   "source": [
    "lst, idxs = [], []\n",
    "for i, row in relevant_contents.iterrows():\n",
    "    lst.append((search_text, row['Content']))\n",
    "    idxs.append(i)\n",
    "    \n",
    "scores = model.predict(lst)"
   ]
  },
  {
   "cell_type": "code",
   "execution_count": 62,
   "id": "47aa1381-fa59-4232-855d-ef1cca70f7d4",
   "metadata": {
    "tags": []
   },
   "outputs": [],
   "source": [
    "scores_dict = {idxs[i]: scores[i] for i in range(len(idxs))}"
   ]
  },
  {
   "cell_type": "code",
   "execution_count": 65,
   "id": "804bf546-f480-4f68-b27e-a9b6b8ff226c",
   "metadata": {
    "tags": []
   },
   "outputs": [
    {
     "data": {
      "text/plain": [
       "[(3486, -3.9826086),\n",
       " (3489, -4.3170896),\n",
       " (3498, -4.8581214),\n",
       " (3499, -9.419075),\n",
       " (3511, -11.082737)]"
      ]
     },
     "execution_count": 65,
     "metadata": {},
     "output_type": "execute_result"
    }
   ],
   "source": [
    "sorted(scores_dict.items(), key=lambda x: x[1], reverse=True)"
   ]
  },
  {
   "cell_type": "code",
   "execution_count": 56,
   "id": "8bbfcfeb-9a98-4fc7-a3ab-70e08cf9eff8",
   "metadata": {
    "tags": []
   },
   "outputs": [
    {
     "data": {
      "text/plain": [
       "array([ -3.9826086,  -9.419075 ,  -4.8581214, -11.082737 ,  -4.3170896],\n",
       "      dtype=float32)"
      ]
     },
     "execution_count": 56,
     "metadata": {},
     "output_type": "execute_result"
    }
   ],
   "source": [
    "scores.sort("
   ]
  },
  {
   "cell_type": "code",
   "execution_count": 57,
   "id": "24a36768-e625-4a5f-9176-0b5b9e945b36",
   "metadata": {
    "tags": []
   },
   "outputs": [
    {
     "name": "stdout",
     "output_type": "stream",
     "text": [
      "3486\n",
      "3499\n",
      "3498\n",
      "3511\n",
      "3489\n"
     ]
    }
   ],
   "source": [
    "for i, row in relevant_contents.iterrows():\n",
    "    print(i)"
   ]
  },
  {
   "cell_type": "code",
   "execution_count": 67,
   "id": "5a455dfc-53a7-48a6-aeff-8202b740b4e8",
   "metadata": {
    "tags": []
   },
   "outputs": [],
   "source": [
    "from transformers import AutoTokenizer"
   ]
  },
  {
   "cell_type": "code",
   "execution_count": 79,
   "id": "79052ab6-97f2-4afc-9633-dcd153826fa5",
   "metadata": {
    "tags": []
   },
   "outputs": [
    {
     "ename": "IndexError",
     "evalue": "single positional indexer is out-of-bounds",
     "output_type": "error",
     "traceback": [
      "\u001b[0;31m---------------------------------------------------------------------------\u001b[0m",
      "\u001b[0;31mIndexError\u001b[0m                                Traceback (most recent call last)",
      "Cell \u001b[0;32mIn[79], line 3\u001b[0m\n\u001b[1;32m      1\u001b[0m tokenizer \u001b[38;5;241m=\u001b[39m AutoTokenizer\u001b[38;5;241m.\u001b[39mfrom_pretrained(\u001b[38;5;124m\"\u001b[39m\u001b[38;5;124mcross-encoder/ms-marco-MiniLM-L-6-v2\u001b[39m\u001b[38;5;124m\"\u001b[39m)\n\u001b[1;32m      2\u001b[0m query \u001b[38;5;241m=\u001b[39m search_text\n\u001b[0;32m----> 3\u001b[0m paragraph \u001b[38;5;241m=\u001b[39m \u001b[43mrelevant_contents\u001b[49m\u001b[38;5;241;43m.\u001b[39;49m\u001b[43miloc\u001b[49m\u001b[43m[\u001b[49m\u001b[38;5;241;43m5\u001b[39;49m\u001b[43m]\u001b[49m\u001b[38;5;241m.\u001b[39mContent\n\u001b[1;32m      5\u001b[0m tokens \u001b[38;5;241m=\u001b[39m tokenizer(query, paragraph, truncation\u001b[38;5;241m=\u001b[39m\u001b[38;5;28;01mFalse\u001b[39;00m)\n\u001b[1;32m      6\u001b[0m token_length \u001b[38;5;241m=\u001b[39m \u001b[38;5;28mlen\u001b[39m(tokens[\u001b[38;5;124m'\u001b[39m\u001b[38;5;124minput_ids\u001b[39m\u001b[38;5;124m'\u001b[39m])\n",
      "File \u001b[0;32m~/anaconda3/envs/python3/lib/python3.10/site-packages/pandas/core/indexing.py:1191\u001b[0m, in \u001b[0;36m_LocationIndexer.__getitem__\u001b[0;34m(self, key)\u001b[0m\n\u001b[1;32m   1189\u001b[0m maybe_callable \u001b[38;5;241m=\u001b[39m com\u001b[38;5;241m.\u001b[39mapply_if_callable(key, \u001b[38;5;28mself\u001b[39m\u001b[38;5;241m.\u001b[39mobj)\n\u001b[1;32m   1190\u001b[0m maybe_callable \u001b[38;5;241m=\u001b[39m \u001b[38;5;28mself\u001b[39m\u001b[38;5;241m.\u001b[39m_check_deprecated_callable_usage(key, maybe_callable)\n\u001b[0;32m-> 1191\u001b[0m \u001b[38;5;28;01mreturn\u001b[39;00m \u001b[38;5;28;43mself\u001b[39;49m\u001b[38;5;241;43m.\u001b[39;49m\u001b[43m_getitem_axis\u001b[49m\u001b[43m(\u001b[49m\u001b[43mmaybe_callable\u001b[49m\u001b[43m,\u001b[49m\u001b[43m \u001b[49m\u001b[43maxis\u001b[49m\u001b[38;5;241;43m=\u001b[39;49m\u001b[43maxis\u001b[49m\u001b[43m)\u001b[49m\n",
      "File \u001b[0;32m~/anaconda3/envs/python3/lib/python3.10/site-packages/pandas/core/indexing.py:1752\u001b[0m, in \u001b[0;36m_iLocIndexer._getitem_axis\u001b[0;34m(self, key, axis)\u001b[0m\n\u001b[1;32m   1749\u001b[0m     \u001b[38;5;28;01mraise\u001b[39;00m \u001b[38;5;167;01mTypeError\u001b[39;00m(\u001b[38;5;124m\"\u001b[39m\u001b[38;5;124mCannot index by location index with a non-integer key\u001b[39m\u001b[38;5;124m\"\u001b[39m)\n\u001b[1;32m   1751\u001b[0m \u001b[38;5;66;03m# validate the location\u001b[39;00m\n\u001b[0;32m-> 1752\u001b[0m \u001b[38;5;28;43mself\u001b[39;49m\u001b[38;5;241;43m.\u001b[39;49m\u001b[43m_validate_integer\u001b[49m\u001b[43m(\u001b[49m\u001b[43mkey\u001b[49m\u001b[43m,\u001b[49m\u001b[43m \u001b[49m\u001b[43maxis\u001b[49m\u001b[43m)\u001b[49m\n\u001b[1;32m   1754\u001b[0m \u001b[38;5;28;01mreturn\u001b[39;00m \u001b[38;5;28mself\u001b[39m\u001b[38;5;241m.\u001b[39mobj\u001b[38;5;241m.\u001b[39m_ixs(key, axis\u001b[38;5;241m=\u001b[39maxis)\n",
      "File \u001b[0;32m~/anaconda3/envs/python3/lib/python3.10/site-packages/pandas/core/indexing.py:1685\u001b[0m, in \u001b[0;36m_iLocIndexer._validate_integer\u001b[0;34m(self, key, axis)\u001b[0m\n\u001b[1;32m   1683\u001b[0m len_axis \u001b[38;5;241m=\u001b[39m \u001b[38;5;28mlen\u001b[39m(\u001b[38;5;28mself\u001b[39m\u001b[38;5;241m.\u001b[39mobj\u001b[38;5;241m.\u001b[39m_get_axis(axis))\n\u001b[1;32m   1684\u001b[0m \u001b[38;5;28;01mif\u001b[39;00m key \u001b[38;5;241m>\u001b[39m\u001b[38;5;241m=\u001b[39m len_axis \u001b[38;5;129;01mor\u001b[39;00m key \u001b[38;5;241m<\u001b[39m \u001b[38;5;241m-\u001b[39mlen_axis:\n\u001b[0;32m-> 1685\u001b[0m     \u001b[38;5;28;01mraise\u001b[39;00m \u001b[38;5;167;01mIndexError\u001b[39;00m(\u001b[38;5;124m\"\u001b[39m\u001b[38;5;124msingle positional indexer is out-of-bounds\u001b[39m\u001b[38;5;124m\"\u001b[39m)\n",
      "\u001b[0;31mIndexError\u001b[0m: single positional indexer is out-of-bounds"
     ]
    }
   ],
   "source": [
    "tokenizer = AutoTokenizer.from_pretrained(\"cross-encoder/ms-marco-MiniLM-L-6-v2\")\n",
    "query = search_text\n",
    "paragraph = relevant_contents.iloc[5].Content\n",
    "\n",
    "tokens = tokenizer(query, paragraph, truncation=False)\n",
    "token_length = len(tokens['input_ids'])\n",
    "\n",
    "print(f\"Token length: {token_length}\")"
   ]
  },
  {
   "cell_type": "code",
   "execution_count": 84,
   "id": "4e464e88-4f29-4d01-9ba9-2a03bf8e8f71",
   "metadata": {
    "tags": []
   },
   "outputs": [
    {
     "data": {
      "text/plain": [
       "'Purchase of Seattle-Area Office FinalizedThe Registry reported that the Highlands Campus Tech Center, a 201,766 square-foot office complex located in Bothell, Washington has been sold. The property serves as collateral for the $23.4 million Highlands Campus Tech Center loan which represents 2.25% of the GSMS 2014-GC24 deal.DSCR (NCF) on the loan was 1.96x during 2017 and 2.29x for the first half of 2018. The latest occupancy reading was 97%.Per The Registry, the property was purchased for $33.6 million. The property was appraised for 33.9 million at securitization, giving it an LTV of 68.9% at the time.A prepayment lockout is in place until April 2021, three months prior to the loan’s maturity.'"
      ]
     },
     "execution_count": 84,
     "metadata": {},
     "output_type": "execute_result"
    }
   ],
   "source": [
    "tpwire_df.iloc[0].summaryplaintext"
   ]
  },
  {
   "cell_type": "code",
   "execution_count": 85,
   "id": "8e769b1a-a34f-43e0-8687-c2192fb767ec",
   "metadata": {
    "tags": []
   },
   "outputs": [
    {
     "name": "stderr",
     "output_type": "stream",
     "text": [
      "Token indices sequence length is longer than the specified maximum sequence length for this model (524 > 512). Running this sequence through the model will result in indexing errors\n"
     ]
    }
   ],
   "source": [
    "num_of_token = []\n",
    "query = search_text\n",
    "\n",
    "for i, row in tpwire_df.iterrows():\n",
    "    paragraph = row['summaryplaintext']\n",
    "    tokens = tokenizer(query, paragraph, truncation=False)\n",
    "    token_length = len(tokens['input_ids'])\n",
    "    num_of_token.append(token_length)"
   ]
  },
  {
   "cell_type": "markdown",
   "id": "af36c509-6aa2-45c9-a61c-b6cebc77cd4e",
   "metadata": {},
   "source": [
    "## RankingGPT"
   ]
  },
  {
   "cell_type": "code",
   "execution_count": 106,
   "id": "c2ee60ff-505f-4843-a244-6d95cf36876d",
   "metadata": {
    "tags": []
   },
   "outputs": [],
   "source": [
    "ranking_prompt_template = \"\"\"\n",
    "    Given the following query and a list of commercial real estate credit stories, rank those stories in order of relevance to the query. Each document is represented by its index and content. The output should be a list of story index ordered by relevance, separated by a \">\" token.\n",
    "\n",
    "    The stories is a list of dicts and its format should be:\n",
    "    [\n",
    "        {{index1: story1}},\n",
    "        {{index2: story2}},\n",
    "        ...\n",
    "        {{indexN: storyN}},\n",
    "    ]\n",
    "    \n",
    "    Query: {query}\n",
    "    Stories: {stories}\n",
    "    \n",
    "\n",
    "    Output the ranked stories index in the JSON format: \n",
    "    {{\n",
    "        index1,\n",
    "        index2,\n",
    "        ...\n",
    "        indexN,\n",
    "    }}\n",
    "    means index1 > index2 > index3 > ... > indexN\n",
    "\"\"\""
   ]
  },
  {
   "cell_type": "code",
   "execution_count": 91,
   "id": "5fd8e2c9-83de-45c4-b26d-a80877f201aa",
   "metadata": {
    "tags": []
   },
   "outputs": [],
   "source": [
    "stories = []\n",
    "for i, row in relevant_contents.iterrows():\n",
    "    stories.append({i: row['Content']})   "
   ]
  },
  {
   "cell_type": "code",
   "execution_count": 129,
   "id": "e5cd2127-48c9-47b0-aeb9-7b7073265f9e",
   "metadata": {
    "tags": []
   },
   "outputs": [
    {
     "data": {
      "text/plain": [
       "[{3486: 'Big NYC Office Loan Expected to Miss Maturity Date, Heads to Special ServicingDecember servicer data shows that the $64.6 million 25 West 45th Street loan has been sent to special servicing. Remittance comments state the loan is not expected to be paid off at its maturity date next month. The collateral is a 188,365-square-foot office in Midtown Manhattan. For H1 2023, the loan posted a DSCR (NCF) of 1.46x when occupancy was 68%. Occupancy is down from 86% in 2020.The loan makes up 15.5% of the collateral behind COMM 2014-CR15. The property was valued at $107 million in 2014 giving the loan an LTV of 65 at the time. Since then, there has been more than $5.4 million in principal amortization.\\xa0'},\n",
       " {3499: 'Trading Alert: NYC’s Seagram Building Refinanced(Editor’s note: The following story was circulated via a separate email alert Tuesday Afternoon. We are recirculating here for those who missed it.) The mortgage on the Seagram Building in Midtown Manhattan has been refinanced, according to Commercial Observer.The loan was slated to mature earlier this year, but a maturity extension was negotiated, pushing the balloon date out a year.The existing debt is split across two 2013 deals. Part of the senior note and the subordinated debt are held in the single-asset CGCMT 2013-375P deal. The remainder of the senior loan – a $200 million piece – represents 80.9% of the COMM 2013-CR8 deal. There is also unsecuritized mezzanine debt.The CMBS loans should be retired shortly.'},\n",
       " {3498: 'Another Concern for NYC Mixed-Use Property?A few weeks ago, we noted that the value of the collateral behind the $83.9 million 635 Madison Avenue loan had been reduced again, but remained above the current loan balance.Now, there may be more bad news for the loan.The New York Post reports that Baccarat is moving its US office headquarters from 635 Madison Avenue. It is unclear if that means the store located at 635 Madison will also be closing. If it does, that would be a big hit to the property. At securitization, Baccarat was paying about $3 million per year in rent. The loan is backed by 177,262 square feet of mixed-use space. Much of the space – at 59th and Madison in Manhattan – is occupied by medical offices. However, the property also has some street-level retail which provides a disproportionate amount of revenue compared to the collateral’s square footage. At securitization, the retail tenant made up a little over 10% of the space but represented about a third of the revenue.Baccarat will be moving to 545 Madison where it will take 10,000 square feet. The article says the moving will lead to Baccarat “branding” of the property with the firm’s fine crystal and other décor distributed throughout the building. As for 635 Madison, the collateral was valued at $195 million at securitization but has been lowered and raised several times. Most recently, the value was lowered from $103 million to $93.3 million. For the 12 months ending in June 2023, the loan posted a DSCR (NCF) of 0.93x when occupancy was 78%. The loan makes up 8.73% of the collateral behind JPMBB 2014-C24. That deal is part of CMBX 8. The last payment of the loan was made in May 2023 and the asset is working through the foreclosure process. In addition to the CMBS loan, there appears to be $35 million in mezz debt on the property.'},\n",
       " {3511: 'Correction: Connecticut Retail Loan Last week we reported that December remittance data revealed that the value of the collateral behind the $21.1 million Newington Commons loan had been cut considerably – down to $13.6 million.We now have been told by the special servicer that the $13.6 million number reported in the servicer data this month was not correct. A new value will be reported with the January remittance data.The note makes up 2.10% of JPMBB 2014-C26. That deal is part of CMBX 8. \\xa0'},\n",
       " {3489: 'Trepp Flash: WeWork Renegotiates Lease for Big New York City Mixed-Use PropertyIn October, we noted in Trading Alert that the $399 million 1440 Broadway loan had been sent to special servicing with remittance comments noting “the borrower will be deeding the property back to the lender.”The loan backs the single-asset JPMCC 2021-1440 deal.Now, a new twist to the collateral has been revealed. Crain’s reports that WeWork has renegotiated its lease at the property, reducing the rent and shortening the term. The 300,000 square feet leased to WeWork are currently occupied by Amazon. The collateral is a 740,387-square-foot mixed-use property at 41st and Broadway in New York City.For the 12 months ending in March 2023, DSCR (NCF) was 0.75x when occupancy was 91%.The property was valued at $540 million in 2021.In previous reporting, we had noted that WeWork was no longer a tenant as it did not appear as a tenant in the servicer data and WeWork did not list the location on its website. That now appears to be not the case.  '}]"
      ]
     },
     "execution_count": 129,
     "metadata": {},
     "output_type": "execute_result"
    }
   ],
   "source": [
    "stories = [{i: row['Content']} for i, row in relevant_contents.iterrows()]\n",
    "stories"
   ]
  },
  {
   "cell_type": "code",
   "execution_count": 107,
   "id": "e130639d-baa6-496e-addd-762178a9ab88",
   "metadata": {
    "tags": []
   },
   "outputs": [],
   "source": [
    "ranking_prompt = ranking_prompt_template.format(query=search_text, stories=stories)"
   ]
  },
  {
   "cell_type": "code",
   "execution_count": 108,
   "id": "c1f1414f-4dd4-4eea-80b8-eed2c46e369f",
   "metadata": {
    "tags": []
   },
   "outputs": [
    {
     "data": {
      "text/plain": [
       "{'index1': 3489,\n",
       " 'index2': 3486,\n",
       " 'index3': 3499,\n",
       " 'index4': 3498,\n",
       " 'index5': 3511}"
      ]
     },
     "execution_count": 108,
     "metadata": {},
     "output_type": "execute_result"
    }
   ],
   "source": [
    "response = openai_client.get_completion(message=ranking_prompt)"
   ]
  },
  {
   "cell_type": "code",
   "execution_count": 126,
   "id": "ce689038-3720-44c2-a209-6d711cd61edb",
   "metadata": {
    "tags": []
   },
   "outputs": [],
   "source": [
    "k2 = 5\n",
    "rank_index = list(json.loads(response.choices[0].message.content).values())[0:k2]"
   ]
  },
  {
   "cell_type": "code",
   "execution_count": 128,
   "id": "c4536387-881a-4970-9df4-feec2dcc027a",
   "metadata": {
    "tags": []
   },
   "outputs": [
    {
     "data": {
      "text/html": [
       "<div>\n",
       "<style scoped>\n",
       "    .dataframe tbody tr th:only-of-type {\n",
       "        vertical-align: middle;\n",
       "    }\n",
       "\n",
       "    .dataframe tbody tr th {\n",
       "        vertical-align: top;\n",
       "    }\n",
       "\n",
       "    .dataframe thead th {\n",
       "        text-align: right;\n",
       "    }\n",
       "</style>\n",
       "<table border=\"1\" class=\"dataframe\">\n",
       "  <thead>\n",
       "    <tr style=\"text-align: right;\">\n",
       "      <th></th>\n",
       "      <th>distances</th>\n",
       "      <th>Content</th>\n",
       "      <th>Vectors</th>\n",
       "      <th>dealname</th>\n",
       "      <th>propertysubtype</th>\n",
       "      <th>proptypecode</th>\n",
       "      <th>state</th>\n",
       "      <th>county</th>\n",
       "      <th>city</th>\n",
       "      <th>msaname</th>\n",
       "      <th>loanname</th>\n",
       "      <th>region</th>\n",
       "      <th>publishdate</th>\n",
       "    </tr>\n",
       "  </thead>\n",
       "  <tbody>\n",
       "    <tr>\n",
       "      <th>3489</th>\n",
       "      <td>0.455509</td>\n",
       "      <td>Trepp Flash: WeWork Renegotiates Lease for Big...</td>\n",
       "      <td>[-0.011740509420633316, -0.016708938404917717,...</td>\n",
       "      <td>[JPMCC 2021-1440]</td>\n",
       "      <td>[Mixed Use]</td>\n",
       "      <td>[OF]</td>\n",
       "      <td>[NY]</td>\n",
       "      <td>[New York]</td>\n",
       "      <td>[New York]</td>\n",
       "      <td>[New York-Newark-Jersey City, NY-NJ-PA]</td>\n",
       "      <td>[1440 Broadway]</td>\n",
       "      <td>[Middle Atlantic]</td>\n",
       "      <td>2023-12-15</td>\n",
       "    </tr>\n",
       "    <tr>\n",
       "      <th>3486</th>\n",
       "      <td>0.441708</td>\n",
       "      <td>Big NYC Office Loan Expected to Miss Maturity ...</td>\n",
       "      <td>[-0.022681208327412605, -0.012724092230200768,...</td>\n",
       "      <td>[COMM 2014-CR15]</td>\n",
       "      <td>[Urban Office]</td>\n",
       "      <td>[OF]</td>\n",
       "      <td>[NY]</td>\n",
       "      <td>[New York]</td>\n",
       "      <td>[New York]</td>\n",
       "      <td>[New York-Newark-Jersey City, NY-NJ-PA]</td>\n",
       "      <td>[25 West 45th Street]</td>\n",
       "      <td>[Middle Atlantic]</td>\n",
       "      <td>2023-12-14</td>\n",
       "    </tr>\n",
       "    <tr>\n",
       "      <th>3499</th>\n",
       "      <td>0.443006</td>\n",
       "      <td>Trading Alert: NYC’s Seagram Building Refinanc...</td>\n",
       "      <td>[-0.020313233137130737, -0.02171507477760315, ...</td>\n",
       "      <td>[COMM 2013-CR8]</td>\n",
       "      <td>[Mixed Use]</td>\n",
       "      <td>[MU]</td>\n",
       "      <td>[NY]</td>\n",
       "      <td>[New York]</td>\n",
       "      <td>[New York]</td>\n",
       "      <td>[New York-Newark-Jersey City, NY-NJ-PA]</td>\n",
       "      <td>[The Prince Building]</td>\n",
       "      <td>[Middle Atlantic]</td>\n",
       "      <td>2023-12-20</td>\n",
       "    </tr>\n",
       "    <tr>\n",
       "      <th>3498</th>\n",
       "      <td>0.453352</td>\n",
       "      <td>Another Concern for NYC Mixed-Use Property?A f...</td>\n",
       "      <td>[-0.02200057916343212, 0.0014346742536872625, ...</td>\n",
       "      <td>[GSMS 2014-GC26]</td>\n",
       "      <td>[Urban Office]</td>\n",
       "      <td>[OF]</td>\n",
       "      <td>[CA]</td>\n",
       "      <td>[Los Angeles]</td>\n",
       "      <td>[Los Angeles]</td>\n",
       "      <td>[Los Angeles-Long Beach-Anaheim, CA]</td>\n",
       "      <td>[Bank of America Plaza]</td>\n",
       "      <td>[Pacific]</td>\n",
       "      <td>2023-12-19</td>\n",
       "    </tr>\n",
       "    <tr>\n",
       "      <th>3511</th>\n",
       "      <td>0.454713</td>\n",
       "      <td>Correction: Connecticut Retail Loan Last week ...</td>\n",
       "      <td>[-0.03223033621907234, 0.005310523323714733, 0...</td>\n",
       "      <td>[UBSBB 2013-C5]</td>\n",
       "      <td>[Urban Office]</td>\n",
       "      <td>[OF]</td>\n",
       "      <td>[NY]</td>\n",
       "      <td>[New York]</td>\n",
       "      <td>[New York]</td>\n",
       "      <td>[New York-Newark-Jersey City, NY-NJ-PA]</td>\n",
       "      <td>[200 Park Avenue]</td>\n",
       "      <td>[Middle Atlantic]</td>\n",
       "      <td>2023-12-26</td>\n",
       "    </tr>\n",
       "  </tbody>\n",
       "</table>\n",
       "</div>"
      ],
      "text/plain": [
       "      distances                                            Content  \\\n",
       "3489   0.455509  Trepp Flash: WeWork Renegotiates Lease for Big...   \n",
       "3486   0.441708  Big NYC Office Loan Expected to Miss Maturity ...   \n",
       "3499   0.443006  Trading Alert: NYC’s Seagram Building Refinanc...   \n",
       "3498   0.453352  Another Concern for NYC Mixed-Use Property?A f...   \n",
       "3511   0.454713  Correction: Connecticut Retail Loan Last week ...   \n",
       "\n",
       "                                                Vectors           dealname  \\\n",
       "3489  [-0.011740509420633316, -0.016708938404917717,...  [JPMCC 2021-1440]   \n",
       "3486  [-0.022681208327412605, -0.012724092230200768,...   [COMM 2014-CR15]   \n",
       "3499  [-0.020313233137130737, -0.02171507477760315, ...    [COMM 2013-CR8]   \n",
       "3498  [-0.02200057916343212, 0.0014346742536872625, ...   [GSMS 2014-GC26]   \n",
       "3511  [-0.03223033621907234, 0.005310523323714733, 0...    [UBSBB 2013-C5]   \n",
       "\n",
       "     propertysubtype proptypecode state         county           city  \\\n",
       "3489     [Mixed Use]         [OF]  [NY]     [New York]     [New York]   \n",
       "3486  [Urban Office]         [OF]  [NY]     [New York]     [New York]   \n",
       "3499     [Mixed Use]         [MU]  [NY]     [New York]     [New York]   \n",
       "3498  [Urban Office]         [OF]  [CA]  [Los Angeles]  [Los Angeles]   \n",
       "3511  [Urban Office]         [OF]  [NY]     [New York]     [New York]   \n",
       "\n",
       "                                      msaname                 loanname  \\\n",
       "3489  [New York-Newark-Jersey City, NY-NJ-PA]          [1440 Broadway]   \n",
       "3486  [New York-Newark-Jersey City, NY-NJ-PA]    [25 West 45th Street]   \n",
       "3499  [New York-Newark-Jersey City, NY-NJ-PA]    [The Prince Building]   \n",
       "3498     [Los Angeles-Long Beach-Anaheim, CA]  [Bank of America Plaza]   \n",
       "3511  [New York-Newark-Jersey City, NY-NJ-PA]        [200 Park Avenue]   \n",
       "\n",
       "                 region publishdate  \n",
       "3489  [Middle Atlantic]  2023-12-15  \n",
       "3486  [Middle Atlantic]  2023-12-14  \n",
       "3499  [Middle Atlantic]  2023-12-20  \n",
       "3498          [Pacific]  2023-12-19  \n",
       "3511  [Middle Atlantic]  2023-12-26  "
      ]
     },
     "execution_count": 128,
     "metadata": {},
     "output_type": "execute_result"
    }
   ],
   "source": [
    "relevant_contents.loc[rank_index]"
   ]
  },
  {
   "cell_type": "code",
   "execution_count": 101,
   "id": "8838246e-54eb-48a7-ab89-f09d106b646d",
   "metadata": {
    "tags": []
   },
   "outputs": [
    {
     "name": "stdout",
     "output_type": "stream",
     "text": [
      "Number of tokens: 162\n"
     ]
    }
   ],
   "source": [
    "def num_tokens_from_string(string: str, model_name: str) -> int:\n",
    "    \"\"\"Returns the number of tokens in a text string.\"\"\"\n",
    "    encoding = tiktoken.encoding_for_model(model_name)\n",
    "    num_tokens = len(encoding.encode(string))\n",
    "    return num_tokens\n",
    "\n",
    "# Example usage\n",
    "input_text = ranking_prompt\n",
    "model_name = \"gpt-4o-mini\"\n",
    "token_count = num_tokens_from_string(input_text, model_name)\n",
    "print(f\"Number of tokens: {token_count}\")"
   ]
  },
  {
   "cell_type": "code",
   "execution_count": null,
   "id": "26d0036d-748b-4ba3-9738-de7d00da643a",
   "metadata": {},
   "outputs": [],
   "source": []
  }
 ],
 "metadata": {
  "kernelspec": {
   "display_name": "conda_python3",
   "language": "python",
   "name": "conda_python3"
  },
  "language_info": {
   "codemirror_mode": {
    "name": "ipython",
    "version": 3
   },
   "file_extension": ".py",
   "mimetype": "text/x-python",
   "name": "python",
   "nbconvert_exporter": "python",
   "pygments_lexer": "ipython3",
   "version": "3.10.14"
  }
 },
 "nbformat": 4,
 "nbformat_minor": 5
}
