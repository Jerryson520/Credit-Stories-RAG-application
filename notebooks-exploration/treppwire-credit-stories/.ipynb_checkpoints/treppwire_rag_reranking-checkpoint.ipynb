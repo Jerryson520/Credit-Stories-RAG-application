{
 "cells": [
  {
   "cell_type": "markdown",
   "id": "3ab2a061-213c-4bdb-b601-0cd7139ef3c1",
   "metadata": {
    "tags": []
   },
   "source": [
    "## Function definitions and Prompt templates"
   ]
  },
  {
   "cell_type": "code",
   "execution_count": 403,
   "id": "fa4203f9-ce09-47e8-968a-8a56834c2911",
   "metadata": {
    "tags": []
   },
   "outputs": [],
   "source": [
    "import re, os, random, time, math\n",
    "from datetime import date, datetime\n",
    "import pandas as pd, numpy as np\n",
    "import matplotlib.pyplot as plt, seaborn as sns\n",
    "from tqdm import tqdm\n",
    "from pyathena import connect\n",
    "import boto3\n",
    "from botocore.exceptions import ClientError\n",
    "import openai\n",
    "from openai import OpenAI\n",
    "import json\n",
    "import pyarrow.parquet as pq\n",
    "import tiktoken\n",
    "import faiss\n",
    "from langchain.text_splitter import RecursiveCharacterTextSplitter\n",
    "from langchain_openai import OpenAIEmbeddings\n",
    "\n",
    "%matplotlib inline\n",
    "sns.set_theme()"
   ]
  },
  {
   "cell_type": "code",
   "execution_count": 6,
   "id": "492f0e1c-3062-4544-8665-e991718e6ba7",
   "metadata": {
    "tags": []
   },
   "outputs": [],
   "source": [
    "class SecretManager:\n",
    "    def __init__(self, secret_name, region_name=\"us-east-1\"):\n",
    "        self.secret_name = secret_name\n",
    "        self.region_name = region_name\n",
    "        self.client = boto3.session.Session().client(\n",
    "            service_name='secretsmanager', \n",
    "            region_name=region_name\n",
    "        )\n",
    "        \n",
    "    def get_secret(self, api_key_name):\n",
    "        try:\n",
    "            get_secret_value_response = self.client.get_secret_value(\n",
    "                SecretId=self.secret_name\n",
    "            )\n",
    "        except ClientError as e:\n",
    "            # For a list of exceptions thrown, see\n",
    "            # https://docs.aws.amazon.com/secretsmanager/latest/apireference/API_GetSecretValue.html\n",
    "            raise e\n",
    "\n",
    "        secret = get_secret_value_response['SecretString']\n",
    "\n",
    "        return json.loads(secret)[api_key_name]"
   ]
  },
  {
   "cell_type": "code",
   "execution_count": 7,
   "id": "36a18787-8af1-4823-982a-d006792ae7bf",
   "metadata": {
    "tags": []
   },
   "outputs": [],
   "source": [
    "class S3ParquetLoader:\n",
    "    def __init__(self, bucket_name, prefix, file_identifier=\"s3://\"):\n",
    "        self.bucket_name = bucket_name\n",
    "        self.prefix = prefix\n",
    "        self.file_identifier = file_identifier\n",
    "        \n",
    "    def load_s3_parquet(self, file):\n",
    "        s3_path = self.file_identifier + self.bucket_name + self.prefix + file\n",
    "        return pq.read_table(s3_path).to_pandas()"
   ]
  },
  {
   "cell_type": "code",
   "execution_count": 8,
   "id": "6d94d467-6fa3-456d-992f-41051ac92b20",
   "metadata": {
    "tags": []
   },
   "outputs": [],
   "source": [
    "class OpenAIClient:\n",
    "    def __init__(self, model='gpt-4o-mini', seed=12345, temperature=0, tools=None):\n",
    "        self.model = model\n",
    "        self.seed = seed\n",
    "        self.temperature = temperature\n",
    "        self.tools = tools\n",
    "        self.client = OpenAI()\n",
    "    \n",
    "    def get_completion(self, message):\n",
    "        response = self.client.chat.completions.create(\n",
    "            model=self.model,\n",
    "            response_format={ \"type\": \"json_object\" },\n",
    "            messages=[\n",
    "                {\n",
    "                    \"role\": \"system\",\n",
    "                    \"content\": \"You are a helpful assistant designed to output JSON.\",\n",
    "                },\n",
    "                {\"role\": \"user\", \"content\": message},\n",
    "            ],\n",
    "            temperature=self.temperature,\n",
    "            # max_tokens=max_tokens,\n",
    "            seed=self.seed,\n",
    "            top_p=1,\n",
    "            frequency_penalty=0,\n",
    "            presence_penalty=0 # seed=1001\n",
    "    )\n",
    "    \n",
    "        return response # response_format={ \"type\": \"json_object\"}, designed to output JSON"
   ]
  },
  {
   "cell_type": "code",
   "execution_count": 9,
   "id": "884ff054-4d99-4813-9d53-3c774398b6b8",
   "metadata": {
    "tags": []
   },
   "outputs": [],
   "source": [
    "class TpwireDataLoader:\n",
    "    def __init__(self, bucket_name, prefix, file_identifier=\"s3://\"):\n",
    "        self.s3_loader = S3ParquetLoader(bucket_name, prefix, file_identifier)\n",
    "        \n",
    "    def process_data(self, file_name):\n",
    "        data = self.s3_loader.load_s3_parquet(file_name)\n",
    "        # final_df = data[['summaryplaintext', 'publishdate', 'multi_story_flag', 'table_flag']]\n",
    "        final_df = data\n",
    "        final_df = final_df[(final_df['multi_story_flag'] == False) & (final_df['table_flag'] == False)]\n",
    "        \n",
    "        # tpwire_df = final_df[['summaryplaintext', 'publishdate']]\n",
    "        tpwire_df = final_df.drop(['multi_story_flag', 'table_flag'], axis=1)\n",
    "        tpwire_df = tpwire_df.sort_values(by='publishdate').reset_index(drop=True)\n",
    "        tpwire_df['publishdate'] = tpwire_df['publishdate'].apply(lambda x: np.datetime64(x).astype(datetime).date()) # change to standard date format\n",
    "        \n",
    "        return tpwire_df"
   ]
  },
  {
   "cell_type": "code",
   "execution_count": 247,
   "id": "845715ab-d06e-47ed-ad3b-633f7d65c67a",
   "metadata": {
    "tags": []
   },
   "outputs": [],
   "source": [
    "class tpwireRAG:\n",
    "    def __init__(self, embed):\n",
    "        self.embed = embed\n",
    "        self.index_tb = None\n",
    "        self.vec_db = None\n",
    "        self.prompt_template = '''\n",
    "        Use the following pieces of context to help you answer the question at the end. \n",
    "\n",
    "        If you don't know the answer, just output: \"Answer\": <I don't know the answer>. Don't try to make up an answer. \n",
    "\n",
    "        Keep the answer as concise as possible.\n",
    "\n",
    "        Context: {context}\n",
    "        Question: {search_text}\n",
    "        \n",
    "        \"Answer\": <answer> \n",
    "        ''' # Always say \"thanks for asking!\" at the end of the answer.\n",
    "        self.ranking_prompt_template = \"\"\"\n",
    "            Rank the following commercial real estate credit stories based on their relevance to the given query. Each story is represented by an index and its content.\n",
    "\n",
    "            The stories are provided in the following format:\n",
    "            [\n",
    "                {{ \"index\": index1, \"story\": story1 }},\n",
    "                {{ \"index\": index2, \"story\": story2 }},\n",
    "                ...\n",
    "                {{ \"index\": indexN, \"story\": storyN }}\n",
    "            ]\n",
    "\n",
    "            Query: {query}\n",
    "            Stories: {stories}\n",
    "\n",
    "            Output the ranked story indices in JSON format:\n",
    "            {{\n",
    "                \"ranking\": [\n",
    "                    index1,\n",
    "                    index2,\n",
    "                    ...\n",
    "                    indexN\n",
    "                ]\n",
    "            }}\n",
    "            where index1 > index2 > index3 > ... > indexN\n",
    "        \"\"\"\n",
    "        \n",
    "    def index_document(self, df):\n",
    "        # for idx in range(len(df)):\n",
    "        chunks = df['summaryplaintext'].tolist()\n",
    "        \n",
    "        self.index_tb = pd.DataFrame({\n",
    "        'Content': chunks,\n",
    "        'Vectors': embed.embed_documents(chunks), # 'original_index': range(len(chunks)),\n",
    "        })\n",
    "\n",
    "        self.index_tb.reset_index(drop=True, inplace=True)\n",
    "\n",
    "        return self.index_tb\n",
    "    \n",
    "    def build_vec_db(self, index_tb):\n",
    "        if not self.index_tb:\n",
    "            self.index_tb = index_tb\n",
    "        \n",
    "        vectors = np.array(self.index_tb['Vectors'].tolist(), dtype='float32')\n",
    "        vec_dim = vectors.shape[1]\n",
    "        self.vec_db = faiss.IndexFlatL2(vec_dim)\n",
    "        faiss.normalize_L2(vectors)\n",
    "        self.vec_db.add(vectors)\n",
    "\n",
    "        # return self.vec_db\n",
    "        \n",
    "        \n",
    "    def retrieve_from_vec_db(self, search_text, K):\n",
    "        search_vectors = self.embed.embed_documents([search_text])\n",
    "        faiss.normalize_L2(np.array(search_vectors, dtype='float32'))\n",
    "\n",
    "        distances, ann = self.vec_db.search(np.array(search_vectors, dtype='float32'), k=K)\n",
    "\n",
    "        results = pd.DataFrame({'distances': distances[0], 'ann': ann[0]})\n",
    "\n",
    "        merge = pd.merge(results, self.index_tb, left_on='ann', right_index=True)\n",
    "\n",
    "        # # If you need data from the original dataframe:\n",
    "        # merge = pd.merge(merge, original_df, left_on='original_index', right_index=True)\n",
    "\n",
    "        return merge\n",
    "    \n",
    "    @staticmethod\n",
    "    def combine_context(relevant_contents): # Helper function for generating context\n",
    "        context = relevant_contents.Content\n",
    "        context = '\\n'.join(context)\n",
    "\n",
    "        return context\n",
    "    \n",
    "    def generate_context_prompt(self, search_text, K1, K2):\n",
    "        # relevant_contents = self.retrieve_from_vec_db(search_text=search_text, K=K)\n",
    "        # context = self.combine_context(relevant_contents=relevant_contents)\n",
    "        # prompt = self.prompt_template.format(context=context, search_text=search_text)\n",
    "        # return relevant_contents, prompt \n",
    "        # stage 1: retrieval\n",
    "        relevant_contents1 = self.retrieve_from_vec_db(search_text=search_text, K=K1)\n",
    "        \n",
    "        # stage 2: reranking\n",
    "        stories = [{row['ann']: row['Content']} for _, row in relevant_contents1.iterrows()]\n",
    "        ranking_prompt = self.ranking_prompt_template.format(query=search_text, stories=stories)\n",
    "        response = openai_client.get_completion(message=ranking_prompt)\n",
    "        rank_index = json.loads(response.choices[0].message.content)['ranking'][:K2]\n",
    "        \n",
    "        relevant_contents = relevant_contents1[relevant_contents1.apply(lambda x: x['ann'] in rank_index, axis=1)]\n",
    "       \n",
    "        \n",
    "        context = self.combine_context(relevant_contents=relevant_contents)\n",
    "        prompt = self.prompt_template.format(context=context, search_text=search_text)\n",
    "        # return relevant_contents, prompt \n",
    "        return relevant_contents1, relevant_contents, prompt "
   ]
  },
  {
   "cell_type": "markdown",
   "id": "6f874f3c-e3c4-46be-81dc-5db16660e3fe",
   "metadata": {},
   "source": [
    "## Initialize env and class"
   ]
  },
  {
   "cell_type": "markdown",
   "id": "e30691bf-60d4-495d-8565-3d7e22ab5a2b",
   "metadata": {
    "tags": []
   },
   "source": [
    "### Setting env variables"
   ]
  },
  {
   "cell_type": "code",
   "execution_count": 249,
   "id": "e4a62ee7-1320-4a82-9c05-71b2e3dbcf89",
   "metadata": {
    "tags": []
   },
   "outputs": [],
   "source": [
    "# API key setting\n",
    "SECRET_NAME= \"AmazonSageMaker-sagemarker_yuwen\"\n",
    "secret_manager = SecretManager(secret_name=SECRET_NAME)\n",
    "os.environ['OPENAI_API_KEY'] = secret_manager.get_secret('OPENAI_API_KEY')"
   ]
  },
  {
   "cell_type": "markdown",
   "id": "c9f066e0-8e9e-452b-9063-a5f2dbc9b7ac",
   "metadata": {},
   "source": [
    "### Set constant variable"
   ]
  },
  {
   "cell_type": "code",
   "execution_count": 348,
   "id": "d4537a03-f73b-42fc-a564-43e470795abe",
   "metadata": {
    "tags": []
   },
   "outputs": [],
   "source": [
    "BUCKET_NAME, PREFIX = \"trepp-developmentservices-datascience/\", \"llm-exploration/treppwire_rag/\"\n",
    "\n",
    "MODEL = 'gpt-4o-mini'\n",
    "EMBED_MODEL_NAME = 'text-embedding-ada-002'\n",
    "embed = OpenAIEmbeddings(model=EMBED_MODEL_NAME) # Create embeddings for indexing documents\n",
    "K = 5 # Number of relevant chunks\n",
    "K1, K2 = 10, 5"
   ]
  },
  {
   "cell_type": "markdown",
   "id": "37f16f1a-d389-41f3-b4e9-cd9c9f60e3ac",
   "metadata": {},
   "source": [
    "### Class initialization"
   ]
  },
  {
   "cell_type": "code",
   "execution_count": 349,
   "id": "c9ab102b-88f9-4270-ae79-8d32c24b44cb",
   "metadata": {
    "tags": []
   },
   "outputs": [],
   "source": [
    "openai_client = OpenAIClient(model=MODEL)\n",
    "\n",
    "# S3 parquet loader\n",
    "s3_parquet_loader = S3ParquetLoader(bucket_name=BUCKET_NAME, prefix=PREFIX)\n",
    "\n",
    "# Import TreppWire data\n",
    "tpwire_loader = TpwireDataLoader(bucket_name=BUCKET_NAME, prefix=PREFIX)\n",
    "\n",
    "# Initialize treppwire RAG\n",
    "tpwire_RAG = tpwireRAG(embed=embed)"
   ]
  },
  {
   "cell_type": "markdown",
   "id": "ad2162f2-4975-4389-a0f6-072cc8567e67",
   "metadata": {
    "tags": []
   },
   "source": [
    "## Import data"
   ]
  },
  {
   "cell_type": "code",
   "execution_count": 350,
   "id": "867ad8d4-238d-47c6-84e6-57dde7da3dd5",
   "metadata": {
    "tags": []
   },
   "outputs": [
    {
     "data": {
      "text/html": [
       "<div>\n",
       "<style scoped>\n",
       "    .dataframe tbody tr th:only-of-type {\n",
       "        vertical-align: middle;\n",
       "    }\n",
       "\n",
       "    .dataframe tbody tr th {\n",
       "        vertical-align: top;\n",
       "    }\n",
       "\n",
       "    .dataframe thead th {\n",
       "        text-align: right;\n",
       "    }\n",
       "</style>\n",
       "<table border=\"1\" class=\"dataframe\">\n",
       "  <thead>\n",
       "    <tr style=\"text-align: right;\">\n",
       "      <th></th>\n",
       "      <th>creditstoriesid</th>\n",
       "      <th>postid</th>\n",
       "      <th>authoremail</th>\n",
       "      <th>authorname</th>\n",
       "      <th>contentsource</th>\n",
       "      <th>contenttype</th>\n",
       "      <th>dealname</th>\n",
       "      <th>htmlcontent</th>\n",
       "      <th>summaryplaintext</th>\n",
       "      <th>loanid</th>\n",
       "      <th>...</th>\n",
       "      <th>propertysubtype</th>\n",
       "      <th>propsubtypecode</th>\n",
       "      <th>proptypecode</th>\n",
       "      <th>state</th>\n",
       "      <th>county</th>\n",
       "      <th>city</th>\n",
       "      <th>msaname</th>\n",
       "      <th>loanname</th>\n",
       "      <th>region</th>\n",
       "      <th>publishdate</th>\n",
       "    </tr>\n",
       "  </thead>\n",
       "  <tbody>\n",
       "    <tr>\n",
       "      <th>0</th>\n",
       "      <td>3eed7ccc305ff0e7d259fecacaa0c241fd48015d8ef413...</td>\n",
       "      <td>50998</td>\n",
       "      <td>mclancy@trepp.com</td>\n",
       "      <td>Manus Clancy</td>\n",
       "      <td>TreppWire</td>\n",
       "      <td>post</td>\n",
       "      <td>[DBJPM 2016-C3]</td>\n",
       "      <td>&lt;h4&gt;&lt;strong&gt;Purchase of Seattle-Area Office Fi...</td>\n",
       "      <td>Purchase of Seattle-Area Office FinalizedThe R...</td>\n",
       "      <td>[390132]</td>\n",
       "      <td>...</td>\n",
       "      <td>[Medical Office]</td>\n",
       "      <td>[Office]</td>\n",
       "      <td>[OF]</td>\n",
       "      <td>[CA]</td>\n",
       "      <td>[Alameda]</td>\n",
       "      <td>[Oakland]</td>\n",
       "      <td>[San Francisco-Oakland-Hayward, CA]</td>\n",
       "      <td>[1 Kaiser Plaza]</td>\n",
       "      <td>[Pacific]</td>\n",
       "      <td>2019-01-02</td>\n",
       "    </tr>\n",
       "    <tr>\n",
       "      <th>1</th>\n",
       "      <td>c187de254e73aff2b22b7f25efc7945dc8ce89bcba7f7f...</td>\n",
       "      <td>50998</td>\n",
       "      <td>mclancy@trepp.com</td>\n",
       "      <td>Manus Clancy</td>\n",
       "      <td>TreppWire</td>\n",
       "      <td>post</td>\n",
       "      <td>[DBJPM 2016-C3]</td>\n",
       "      <td>&lt;h4&gt;&lt;strong&gt;San Francisco Office Behind 2017 L...</td>\n",
       "      <td>San Francisco Office Behind 2017 Loan Acquired...</td>\n",
       "      <td>[390132]</td>\n",
       "      <td>...</td>\n",
       "      <td>[Medical Office]</td>\n",
       "      <td>[Office]</td>\n",
       "      <td>[OF]</td>\n",
       "      <td>[CA]</td>\n",
       "      <td>[Alameda]</td>\n",
       "      <td>[Oakland]</td>\n",
       "      <td>[San Francisco-Oakland-Hayward, CA]</td>\n",
       "      <td>[1 Kaiser Plaza]</td>\n",
       "      <td>[Pacific]</td>\n",
       "      <td>2019-01-02</td>\n",
       "    </tr>\n",
       "    <tr>\n",
       "      <th>2</th>\n",
       "      <td>aa0de93c31614f2533617779d6343a6f6c708ba9017046...</td>\n",
       "      <td>51027</td>\n",
       "      <td>mclancy@trepp.com</td>\n",
       "      <td>Manus Clancy</td>\n",
       "      <td>TreppWire</td>\n",
       "      <td>post</td>\n",
       "      <td>[GSMS 2013-GC14]</td>\n",
       "      <td>&lt;ul&gt;\\n&lt;li&gt;The overall US CMBS delinquency rate...</td>\n",
       "      <td>The overall US CMBS delinquency rate decrease...</td>\n",
       "      <td>[329689]</td>\n",
       "      <td>...</td>\n",
       "      <td>[Community Shopping Center]</td>\n",
       "      <td>[Retail]</td>\n",
       "      <td>[RT]</td>\n",
       "      <td>[IL]</td>\n",
       "      <td>[Peoria]</td>\n",
       "      <td>[Peoria]</td>\n",
       "      <td>[Peoria, IL]</td>\n",
       "      <td>[Willow Knolls Court]</td>\n",
       "      <td>[East North Central]</td>\n",
       "      <td>2019-01-03</td>\n",
       "    </tr>\n",
       "    <tr>\n",
       "      <th>3</th>\n",
       "      <td>e235e5b2038f2617902d3ca0b75d19ce84f927bffba8a2...</td>\n",
       "      <td>51027</td>\n",
       "      <td>mclancy@trepp.com</td>\n",
       "      <td>Manus Clancy</td>\n",
       "      <td>TreppWire</td>\n",
       "      <td>post</td>\n",
       "      <td>[GSMS 2013-GC14]</td>\n",
       "      <td>&lt;h4&gt;&lt;strong&gt;Retail Property Behind CMBX 7 Loan...</td>\n",
       "      <td>Retail Property Behind CMBX 7 Loan to Lose Top...</td>\n",
       "      <td>[329689]</td>\n",
       "      <td>...</td>\n",
       "      <td>[Community Shopping Center]</td>\n",
       "      <td>[Retail]</td>\n",
       "      <td>[RT]</td>\n",
       "      <td>[IL]</td>\n",
       "      <td>[Peoria]</td>\n",
       "      <td>[Peoria]</td>\n",
       "      <td>[Peoria, IL]</td>\n",
       "      <td>[Willow Knolls Court]</td>\n",
       "      <td>[East North Central]</td>\n",
       "      <td>2019-01-03</td>\n",
       "    </tr>\n",
       "    <tr>\n",
       "      <th>4</th>\n",
       "      <td>0f5e20e57aafb684eb5a2051f816f114154ae9a75a7849...</td>\n",
       "      <td>51027</td>\n",
       "      <td>mclancy@trepp.com</td>\n",
       "      <td>Manus Clancy</td>\n",
       "      <td>TreppWire</td>\n",
       "      <td>post</td>\n",
       "      <td>[GSMS 2013-GC14]</td>\n",
       "      <td>&lt;ul&gt;\\n&lt;li&gt;The CMBS 1.0 delinquency rate decrea...</td>\n",
       "      <td>The CMBS 1.0 delinquency rate decreased 47 ba...</td>\n",
       "      <td>[329689]</td>\n",
       "      <td>...</td>\n",
       "      <td>[Community Shopping Center]</td>\n",
       "      <td>[Retail]</td>\n",
       "      <td>[RT]</td>\n",
       "      <td>[IL]</td>\n",
       "      <td>[Peoria]</td>\n",
       "      <td>[Peoria]</td>\n",
       "      <td>[Peoria, IL]</td>\n",
       "      <td>[Willow Knolls Court]</td>\n",
       "      <td>[East North Central]</td>\n",
       "      <td>2019-01-03</td>\n",
       "    </tr>\n",
       "    <tr>\n",
       "      <th>...</th>\n",
       "      <td>...</td>\n",
       "      <td>...</td>\n",
       "      <td>...</td>\n",
       "      <td>...</td>\n",
       "      <td>...</td>\n",
       "      <td>...</td>\n",
       "      <td>...</td>\n",
       "      <td>...</td>\n",
       "      <td>...</td>\n",
       "      <td>...</td>\n",
       "      <td>...</td>\n",
       "      <td>...</td>\n",
       "      <td>...</td>\n",
       "      <td>...</td>\n",
       "      <td>...</td>\n",
       "      <td>...</td>\n",
       "      <td>...</td>\n",
       "      <td>...</td>\n",
       "      <td>...</td>\n",
       "      <td>...</td>\n",
       "      <td>...</td>\n",
       "    </tr>\n",
       "    <tr>\n",
       "      <th>3613</th>\n",
       "      <td>f2d51a2006a5e8e7b09b94d11a9af692135b26682f8d7f...</td>\n",
       "      <td>57207</td>\n",
       "      <td>hayley_keen@trepp.com</td>\n",
       "      <td>Hayley Keen</td>\n",
       "      <td>TreppWire</td>\n",
       "      <td>post</td>\n",
       "      <td>[]</td>\n",
       "      <td>&lt;table cellpadding=\"0\" cellspacing=\"0\" role=\"p...</td>\n",
       "      <td>⇨ Orange County Mall Loan Now in the Han...</td>\n",
       "      <td>[]</td>\n",
       "      <td>...</td>\n",
       "      <td>[]</td>\n",
       "      <td>[]</td>\n",
       "      <td>[]</td>\n",
       "      <td>[]</td>\n",
       "      <td>[]</td>\n",
       "      <td>[]</td>\n",
       "      <td>[]</td>\n",
       "      <td>[]</td>\n",
       "      <td>[]</td>\n",
       "      <td>2024-03-26</td>\n",
       "    </tr>\n",
       "    <tr>\n",
       "      <th>3614</th>\n",
       "      <td>0c5f0453b3cae3512de98a3119ed3ddfbd576ec6102011...</td>\n",
       "      <td>57211</td>\n",
       "      <td>hayley_keen@trepp.com</td>\n",
       "      <td>Hayley Keen</td>\n",
       "      <td>TreppWire</td>\n",
       "      <td>post</td>\n",
       "      <td>[]</td>\n",
       "      <td>&lt;table cellpadding=\"0\" cellspacing=\"0\" role=\"p...</td>\n",
       "      <td>⇨ Cupertino Hilton Hotel Loan Transferre...</td>\n",
       "      <td>[]</td>\n",
       "      <td>...</td>\n",
       "      <td>[]</td>\n",
       "      <td>[]</td>\n",
       "      <td>[]</td>\n",
       "      <td>[]</td>\n",
       "      <td>[]</td>\n",
       "      <td>[]</td>\n",
       "      <td>[]</td>\n",
       "      <td>[]</td>\n",
       "      <td>[]</td>\n",
       "      <td>2024-03-27</td>\n",
       "    </tr>\n",
       "    <tr>\n",
       "      <th>3615</th>\n",
       "      <td>1412c58f039f440abb93bbab6eeef528dcf91a2959f889...</td>\n",
       "      <td>57211</td>\n",
       "      <td>hayley_keen@trepp.com</td>\n",
       "      <td>Hayley Keen</td>\n",
       "      <td>TreppWire</td>\n",
       "      <td>post</td>\n",
       "      <td>[]</td>\n",
       "      <td>&lt;table cellpadding=\"0\" cellspacing=\"0\" role=\"p...</td>\n",
       "      <td>⇨ San Francisco Office Loan Taken to Spe...</td>\n",
       "      <td>[]</td>\n",
       "      <td>...</td>\n",
       "      <td>[]</td>\n",
       "      <td>[]</td>\n",
       "      <td>[]</td>\n",
       "      <td>[]</td>\n",
       "      <td>[]</td>\n",
       "      <td>[]</td>\n",
       "      <td>[]</td>\n",
       "      <td>[]</td>\n",
       "      <td>[]</td>\n",
       "      <td>2024-03-27</td>\n",
       "    </tr>\n",
       "    <tr>\n",
       "      <th>3616</th>\n",
       "      <td>57bab2bd3ab498abe44a50d3e0c9069f46f39074e8e6a7...</td>\n",
       "      <td>57214</td>\n",
       "      <td>hayley_keen@trepp.com</td>\n",
       "      <td>Hayley Keen</td>\n",
       "      <td>TreppWire</td>\n",
       "      <td>post</td>\n",
       "      <td>[]</td>\n",
       "      <td>&lt;table cellpadding=\"0\" cellspacing=\"0\" role=\"p...</td>\n",
       "      <td>⇨ Bankruptcy Filed for Washington D.C. O...</td>\n",
       "      <td>[]</td>\n",
       "      <td>...</td>\n",
       "      <td>[]</td>\n",
       "      <td>[]</td>\n",
       "      <td>[]</td>\n",
       "      <td>[]</td>\n",
       "      <td>[]</td>\n",
       "      <td>[]</td>\n",
       "      <td>[]</td>\n",
       "      <td>[]</td>\n",
       "      <td>[]</td>\n",
       "      <td>2024-03-28</td>\n",
       "    </tr>\n",
       "    <tr>\n",
       "      <th>3617</th>\n",
       "      <td>244ce737aa699b208cc8c8e34eef67f73975aa1073e1e0...</td>\n",
       "      <td>57214</td>\n",
       "      <td>hayley_keen@trepp.com</td>\n",
       "      <td>Hayley Keen</td>\n",
       "      <td>TreppWire</td>\n",
       "      <td>post</td>\n",
       "      <td>[]</td>\n",
       "      <td>&lt;table cellpadding=\"0\" cellspacing=\"0\" role=\"p...</td>\n",
       "      <td>⇨ Multifamily Portfolio CMBS SASB Loan M...</td>\n",
       "      <td>[]</td>\n",
       "      <td>...</td>\n",
       "      <td>[]</td>\n",
       "      <td>[]</td>\n",
       "      <td>[]</td>\n",
       "      <td>[]</td>\n",
       "      <td>[]</td>\n",
       "      <td>[]</td>\n",
       "      <td>[]</td>\n",
       "      <td>[]</td>\n",
       "      <td>[]</td>\n",
       "      <td>2024-03-28</td>\n",
       "    </tr>\n",
       "  </tbody>\n",
       "</table>\n",
       "<p>3618 rows × 24 columns</p>\n",
       "</div>"
      ],
      "text/plain": [
       "                                        creditstoriesid  postid  \\\n",
       "0     3eed7ccc305ff0e7d259fecacaa0c241fd48015d8ef413...   50998   \n",
       "1     c187de254e73aff2b22b7f25efc7945dc8ce89bcba7f7f...   50998   \n",
       "2     aa0de93c31614f2533617779d6343a6f6c708ba9017046...   51027   \n",
       "3     e235e5b2038f2617902d3ca0b75d19ce84f927bffba8a2...   51027   \n",
       "4     0f5e20e57aafb684eb5a2051f816f114154ae9a75a7849...   51027   \n",
       "...                                                 ...     ...   \n",
       "3613  f2d51a2006a5e8e7b09b94d11a9af692135b26682f8d7f...   57207   \n",
       "3614  0c5f0453b3cae3512de98a3119ed3ddfbd576ec6102011...   57211   \n",
       "3615  1412c58f039f440abb93bbab6eeef528dcf91a2959f889...   57211   \n",
       "3616  57bab2bd3ab498abe44a50d3e0c9069f46f39074e8e6a7...   57214   \n",
       "3617  244ce737aa699b208cc8c8e34eef67f73975aa1073e1e0...   57214   \n",
       "\n",
       "                authoremail    authorname contentsource contenttype  \\\n",
       "0         mclancy@trepp.com  Manus Clancy     TreppWire        post   \n",
       "1         mclancy@trepp.com  Manus Clancy     TreppWire        post   \n",
       "2         mclancy@trepp.com  Manus Clancy     TreppWire        post   \n",
       "3         mclancy@trepp.com  Manus Clancy     TreppWire        post   \n",
       "4         mclancy@trepp.com  Manus Clancy     TreppWire        post   \n",
       "...                     ...           ...           ...         ...   \n",
       "3613  hayley_keen@trepp.com   Hayley Keen     TreppWire        post   \n",
       "3614  hayley_keen@trepp.com   Hayley Keen     TreppWire        post   \n",
       "3615  hayley_keen@trepp.com   Hayley Keen     TreppWire        post   \n",
       "3616  hayley_keen@trepp.com   Hayley Keen     TreppWire        post   \n",
       "3617  hayley_keen@trepp.com   Hayley Keen     TreppWire        post   \n",
       "\n",
       "              dealname                                        htmlcontent  \\\n",
       "0      [DBJPM 2016-C3]  <h4><strong>Purchase of Seattle-Area Office Fi...   \n",
       "1      [DBJPM 2016-C3]  <h4><strong>San Francisco Office Behind 2017 L...   \n",
       "2     [GSMS 2013-GC14]  <ul>\\n<li>The overall US CMBS delinquency rate...   \n",
       "3     [GSMS 2013-GC14]  <h4><strong>Retail Property Behind CMBX 7 Loan...   \n",
       "4     [GSMS 2013-GC14]  <ul>\\n<li>The CMBS 1.0 delinquency rate decrea...   \n",
       "...                ...                                                ...   \n",
       "3613                []  <table cellpadding=\"0\" cellspacing=\"0\" role=\"p...   \n",
       "3614                []  <table cellpadding=\"0\" cellspacing=\"0\" role=\"p...   \n",
       "3615                []  <table cellpadding=\"0\" cellspacing=\"0\" role=\"p...   \n",
       "3616                []  <table cellpadding=\"0\" cellspacing=\"0\" role=\"p...   \n",
       "3617                []  <table cellpadding=\"0\" cellspacing=\"0\" role=\"p...   \n",
       "\n",
       "                                       summaryplaintext    loanid  ...  \\\n",
       "0     Purchase of Seattle-Area Office FinalizedThe R...  [390132]  ...   \n",
       "1     San Francisco Office Behind 2017 Loan Acquired...  [390132]  ...   \n",
       "2      The overall US CMBS delinquency rate decrease...  [329689]  ...   \n",
       "3     Retail Property Behind CMBX 7 Loan to Lose Top...  [329689]  ...   \n",
       "4      The CMBS 1.0 delinquency rate decreased 47 ba...  [329689]  ...   \n",
       "...                                                 ...       ...  ...   \n",
       "3613        ⇨ Orange County Mall Loan Now in the Han...        []  ...   \n",
       "3614        ⇨ Cupertino Hilton Hotel Loan Transferre...        []  ...   \n",
       "3615        ⇨ San Francisco Office Loan Taken to Spe...        []  ...   \n",
       "3616        ⇨ Bankruptcy Filed for Washington D.C. O...        []  ...   \n",
       "3617        ⇨ Multifamily Portfolio CMBS SASB Loan M...        []  ...   \n",
       "\n",
       "                  propertysubtype  propsubtypecode proptypecode state  \\\n",
       "0                [Medical Office]         [Office]         [OF]  [CA]   \n",
       "1                [Medical Office]         [Office]         [OF]  [CA]   \n",
       "2     [Community Shopping Center]         [Retail]         [RT]  [IL]   \n",
       "3     [Community Shopping Center]         [Retail]         [RT]  [IL]   \n",
       "4     [Community Shopping Center]         [Retail]         [RT]  [IL]   \n",
       "...                           ...              ...          ...   ...   \n",
       "3613                           []               []           []    []   \n",
       "3614                           []               []           []    []   \n",
       "3615                           []               []           []    []   \n",
       "3616                           []               []           []    []   \n",
       "3617                           []               []           []    []   \n",
       "\n",
       "         county       city                              msaname  \\\n",
       "0     [Alameda]  [Oakland]  [San Francisco-Oakland-Hayward, CA]   \n",
       "1     [Alameda]  [Oakland]  [San Francisco-Oakland-Hayward, CA]   \n",
       "2      [Peoria]   [Peoria]                         [Peoria, IL]   \n",
       "3      [Peoria]   [Peoria]                         [Peoria, IL]   \n",
       "4      [Peoria]   [Peoria]                         [Peoria, IL]   \n",
       "...         ...        ...                                  ...   \n",
       "3613         []         []                                   []   \n",
       "3614         []         []                                   []   \n",
       "3615         []         []                                   []   \n",
       "3616         []         []                                   []   \n",
       "3617         []         []                                   []   \n",
       "\n",
       "                   loanname                region publishdate  \n",
       "0          [1 Kaiser Plaza]             [Pacific]  2019-01-02  \n",
       "1          [1 Kaiser Plaza]             [Pacific]  2019-01-02  \n",
       "2     [Willow Knolls Court]  [East North Central]  2019-01-03  \n",
       "3     [Willow Knolls Court]  [East North Central]  2019-01-03  \n",
       "4     [Willow Knolls Court]  [East North Central]  2019-01-03  \n",
       "...                     ...                   ...         ...  \n",
       "3613                     []                    []  2024-03-26  \n",
       "3614                     []                    []  2024-03-27  \n",
       "3615                     []                    []  2024-03-27  \n",
       "3616                     []                    []  2024-03-28  \n",
       "3617                     []                    []  2024-03-28  \n",
       "\n",
       "[3618 rows x 24 columns]"
      ]
     },
     "execution_count": 350,
     "metadata": {},
     "output_type": "execute_result"
    }
   ],
   "source": [
    "tpwire_df = tpwire_loader.process_data(\"tpwire_flags.parquet\")\n",
    "tpwire_df"
   ]
  },
  {
   "cell_type": "code",
   "execution_count": 351,
   "id": "b6747976-f167-424f-b995-8573e9964811",
   "metadata": {
    "tags": []
   },
   "outputs": [],
   "source": [
    "# index_tb = index_document(tpwire_df, embed)\n",
    "# index_tb = tpwire_RAG.index_document(tpwire_df)\n",
    "# index_tb.to_parquet('treppwire_index_tb.parquet')"
   ]
  },
  {
   "cell_type": "code",
   "execution_count": 353,
   "id": "38989895-4c0e-4d64-b9dd-f2f3c2f1d909",
   "metadata": {
    "tags": []
   },
   "outputs": [],
   "source": [
    "# index_tb = pd.read_parquet('treppwire_index_tb.parquet')\n",
    "index_tb = s3_parquet_loader.load_s3_parquet('treppwire_index_tb.parquet')"
   ]
  },
  {
   "cell_type": "code",
   "execution_count": 354,
   "id": "b23626ee-4eaf-4f39-82ec-25144a7af9d5",
   "metadata": {
    "tags": []
   },
   "outputs": [
    {
     "data": {
      "text/html": [
       "<div>\n",
       "<style scoped>\n",
       "    .dataframe tbody tr th:only-of-type {\n",
       "        vertical-align: middle;\n",
       "    }\n",
       "\n",
       "    .dataframe tbody tr th {\n",
       "        vertical-align: top;\n",
       "    }\n",
       "\n",
       "    .dataframe thead th {\n",
       "        text-align: right;\n",
       "    }\n",
       "</style>\n",
       "<table border=\"1\" class=\"dataframe\">\n",
       "  <thead>\n",
       "    <tr style=\"text-align: right;\">\n",
       "      <th></th>\n",
       "      <th>Content</th>\n",
       "      <th>Vectors</th>\n",
       "    </tr>\n",
       "  </thead>\n",
       "  <tbody>\n",
       "    <tr>\n",
       "      <th>0</th>\n",
       "      <td>Purchase of Seattle-Area Office FinalizedThe R...</td>\n",
       "      <td>[0.013301508501172066, -0.009327195584774017, ...</td>\n",
       "    </tr>\n",
       "    <tr>\n",
       "      <th>1</th>\n",
       "      <td>San Francisco Office Behind 2017 Loan Acquired...</td>\n",
       "      <td>[0.0029433900490403175, -0.01179976761341095, ...</td>\n",
       "    </tr>\n",
       "    <tr>\n",
       "      <th>2</th>\n",
       "      <td>The overall US CMBS delinquency rate decrease...</td>\n",
       "      <td>[-0.034419845789670944, 0.001670714351348579, ...</td>\n",
       "    </tr>\n",
       "    <tr>\n",
       "      <th>3</th>\n",
       "      <td>Retail Property Behind CMBX 7 Loan to Lose Top...</td>\n",
       "      <td>[-0.01970122568309307, -0.014349104836583138, ...</td>\n",
       "    </tr>\n",
       "    <tr>\n",
       "      <th>4</th>\n",
       "      <td>The CMBS 1.0 delinquency rate decreased 47 ba...</td>\n",
       "      <td>[-0.016646970063447952, -0.0006964138592593372...</td>\n",
       "    </tr>\n",
       "    <tr>\n",
       "      <th>...</th>\n",
       "      <td>...</td>\n",
       "      <td>...</td>\n",
       "    </tr>\n",
       "    <tr>\n",
       "      <th>3613</th>\n",
       "      <td>⇨ Orange County Mall Loan Now in the Han...</td>\n",
       "      <td>[-0.004349840339273214, -0.016529392451047897,...</td>\n",
       "    </tr>\n",
       "    <tr>\n",
       "      <th>3614</th>\n",
       "      <td>⇨ Cupertino Hilton Hotel Loan Transferre...</td>\n",
       "      <td>[-0.003111459081992507, -0.01287689059972763, ...</td>\n",
       "    </tr>\n",
       "    <tr>\n",
       "      <th>3615</th>\n",
       "      <td>⇨ San Francisco Office Loan Taken to Spe...</td>\n",
       "      <td>[-0.0039004357531666756, -0.019137587398290634...</td>\n",
       "    </tr>\n",
       "    <tr>\n",
       "      <th>3616</th>\n",
       "      <td>⇨ Bankruptcy Filed for Washington D.C. O...</td>\n",
       "      <td>[-0.02221551537513733, -0.005892913788557053, ...</td>\n",
       "    </tr>\n",
       "    <tr>\n",
       "      <th>3617</th>\n",
       "      <td>⇨ Multifamily Portfolio CMBS SASB Loan M...</td>\n",
       "      <td>[-0.020581211894750595, -0.025233130902051926,...</td>\n",
       "    </tr>\n",
       "  </tbody>\n",
       "</table>\n",
       "<p>3618 rows × 2 columns</p>\n",
       "</div>"
      ],
      "text/plain": [
       "                                                Content  \\\n",
       "0     Purchase of Seattle-Area Office FinalizedThe R...   \n",
       "1     San Francisco Office Behind 2017 Loan Acquired...   \n",
       "2      The overall US CMBS delinquency rate decrease...   \n",
       "3     Retail Property Behind CMBX 7 Loan to Lose Top...   \n",
       "4      The CMBS 1.0 delinquency rate decreased 47 ba...   \n",
       "...                                                 ...   \n",
       "3613        ⇨ Orange County Mall Loan Now in the Han...   \n",
       "3614        ⇨ Cupertino Hilton Hotel Loan Transferre...   \n",
       "3615        ⇨ San Francisco Office Loan Taken to Spe...   \n",
       "3616        ⇨ Bankruptcy Filed for Washington D.C. O...   \n",
       "3617        ⇨ Multifamily Portfolio CMBS SASB Loan M...   \n",
       "\n",
       "                                                Vectors  \n",
       "0     [0.013301508501172066, -0.009327195584774017, ...  \n",
       "1     [0.0029433900490403175, -0.01179976761341095, ...  \n",
       "2     [-0.034419845789670944, 0.001670714351348579, ...  \n",
       "3     [-0.01970122568309307, -0.014349104836583138, ...  \n",
       "4     [-0.016646970063447952, -0.0006964138592593372...  \n",
       "...                                                 ...  \n",
       "3613  [-0.004349840339273214, -0.016529392451047897,...  \n",
       "3614  [-0.003111459081992507, -0.01287689059972763, ...  \n",
       "3615  [-0.0039004357531666756, -0.019137587398290634...  \n",
       "3616  [-0.02221551537513733, -0.005892913788557053, ...  \n",
       "3617  [-0.020581211894750595, -0.025233130902051926,...  \n",
       "\n",
       "[3618 rows x 2 columns]"
      ]
     },
     "execution_count": 354,
     "metadata": {},
     "output_type": "execute_result"
    }
   ],
   "source": [
    "index_tb"
   ]
  },
  {
   "cell_type": "code",
   "execution_count": 355,
   "id": "0ee3f934-ff19-4cac-b37d-08187ebd5e92",
   "metadata": {
    "tags": []
   },
   "outputs": [],
   "source": [
    "tpwire_RAG.build_vec_db(index_tb=index_tb)"
   ]
  },
  {
   "cell_type": "markdown",
   "id": "0db5ee37-e5be-4dae-a43f-3d922db9b0c0",
   "metadata": {
    "tags": []
   },
   "source": [
    "## Retrieve most K=5 relevant chunks from vector database"
   ]
  },
  {
   "cell_type": "code",
   "execution_count": 356,
   "id": "ab618aae-26c3-49c5-ba20-2f81f21fbb7e",
   "metadata": {
    "tags": []
   },
   "outputs": [],
   "source": [
    "# search_text = 'What percentage of space does the Kroger grocery store occupy in the Northern Lights Shopping Center loan that will end in 2019?'\n",
    "# search_text = 'What top tenants vacates in the Northern Lights Shopping Center Loan?'\n",
    "# search_text = 'Could you tell me what happened with CMBS Loans in October 2023 in a concise manner? Thanks.'\n",
    "# search_text = 'What was DSCR for Mall at Tuttle Crossing loan in 2022?'\n",
    "# search_text = 'Could you give me information about Solano Mall loan?'\n",
    "# search_text = 'Could you give me information about the property backed behind Solano Mall loan?'\n",
    "# search_text = 'What do you think about the future of commercial real estate loans in USA?'\n",
    "# search_text = 'How was loan default situation for New York comparing with California?'\n",
    "# search_text = 'What commerical real estate loans we have to pay attention to this year 2024?'\n",
    "# search_text = 'Is there anything about the NYC Worldwide Plaza?'\n",
    "# search_text = 'What is the current status of Ohio Mall in the latest credit story?'\n",
    "# search_text = 'Can you provide an overview of the financial details for Ohio Mall Loan recorded this month?'\n",
    "# search_text = 'How has the occupancy rate for Ohio Mall changed in the recent report?'\n",
    "# search_text= 'What is the most recent status of Big Philly Office Loan?'\n",
    "# search_text = 'What are the key updates about the sale of Dulaney Center?'\n",
    "# search_text = 'Can you provide an overview about National Business Park loan?'\n",
    "# search_text = 'How was the occupancy rate for Doner Company in the recent report?'\n",
    "# search_text = 'Could you summarize the recent financial performance of Chicago Hotel?'\n",
    "# search_text = 'What significant events have occurred for Chicago Hotel?'\n",
    "# search_text = 'How has the value of Waterfront at Port Chester evolved according to the latest credit report?'\n",
    "# search_text = 'What are the main points of concern for IDS Center loan mentioned this month?'\n",
    "# search_text = 'Could you detail the transactions involving One Concords Center?'\n",
    "# search_text = 'What are the highlights of the latest credit story for WeWork?'\n",
    "# search_text = 'How was the delinquency status of Aviation Mall been addressed in the latest update?'\n",
    "# search_text = 'What new information is available about the refinancing of [New York Hospitality Portfolio loan]?'\n",
    "# search_text = 'Could you provide a brief on the recent sales details of Courtyard Louisville Airport?'\n",
    "# search_text = 'What changes in valuation have been recorded for North Riverside Park Mall this month?'\n",
    "# search_text = 'How does the latest credit story describe the financial health of SASB Office Loan?'\n",
    "# search_text = 'Could you summarize the deal that Hughes Center Las Vegas belongs to?'\n",
    "# search_text = 'Could you summarize the main details of sales of Ozarks Hotel?'\n",
    "# search_text = 'Could you summarize the loan details of Ozarks Hotel?'\n",
    "# search_text= 'What are the highlights of the special servicing history for Cupertino Hilton Hotel Loan?'\n",
    "# search_text = 'Could you summarize the valuation changes for Cranberry Woods Office Park over the years?'"
   ]
  },
  {
   "cell_type": "code",
   "execution_count": 357,
   "id": "1f3a4bbe-6013-4ae0-873c-69e7f4ec91a5",
   "metadata": {
    "tags": []
   },
   "outputs": [],
   "source": [
    "search_text = 'What is the recent price of Flagler Corporate Center loan?'\n",
    "# search_text = 'How many square feet does the Bridgewater Commons mall in New Jersey contain?'\n",
    "# search_text = 'What is the loan amount for the IDS Center property in Minneapolis?'\n",
    "# search_text = 'What year was the Colman Building originated, has it undergone any renovations?'\n",
    "# search_text = 'What is the occupancy rate of The Commons at Sawmill near Northern Arizona University?'\n",
    "# search_text = 'How does the recent sale price of NMS Northridge and NMS Superior properties compare to their previous valuation?'\n",
    "# search_text = 'Could you provide information on the location and size of the West Ridge Mall & Plaza?'\n",
    "# search_text = 'What is the DSCR (NCF) for the 184-unit community in San Bernardino in the most recent quarter?'\n",
    "# search_text = 'Who was the buyer in the recent transaction of Osprey Pointe Apartments in St. Petersburg?'\n",
    "# search_text = 'Could you provide original loan amount and current status about the Fifth Avenue loan?'\n",
    "# search_text = 'What percentage of the Starwood Mall Portfolio loan does the MacArthur Center Mall represent?'\n",
    "# search_text = 'What type of property is the 644 Broadway loan, and what are its primary uses?'\n",
    "# search_text = 'What recent updates have there been regarding the changes of properties associated with CMBX 6 deal?'\n",
    "# search_text = 'How has the valuation of the Cincinnati Hotel changed since 2019?'\n",
    "# search_text = 'Has the Enclave West student housing loan in Edwardsville been sent to special servicing? If so, when?'\n",
    "# search_text = 'What recent changes have occurred with the Greentree Plaza retail center in Everett?'\n",
    "# search_text = 'How does the current occupancy rate of Atlanta hotel compare to previous year?'\n",
    "# search_text = 'Which CMBX series does the deal involving the San Isidro Plaza I & II loan belong to?'\n",
    "# search_text = 'What is the current delinquency status of the loan backed by the US Bank Tower in Downtown Denver?'\n",
    "# search_text = 'What is the maturity date of the loan backing the Alexander Place Apartments property in Charlotte?'"
   ]
  },
  {
   "cell_type": "code",
   "execution_count": 358,
   "id": "a62a0888-db06-4087-bce2-aa4c7771efac",
   "metadata": {
    "tags": []
   },
   "outputs": [],
   "source": [
    "# search_text = 'What are the top 5 largest transactions by dollar amount in Manhattan this quarter this month?'\n",
    "# search_text = 'Can you list all office properties in Houston, TX with a loan amount above $50 million?'\n",
    "# search_text = 'How many office buildings were sold in West Palm Beach and Irmo during the first half of 2021?'\n",
    "# search_text = 'What is the current occupancy rate for the Jacksonville retail property in Florida based on the latest available data?'\n",
    "# search_text = 'Show me all properties built before 2010 that were sold in the last quarter.'\n",
    "# search_text = 'Which property in Elizabeth, NJ had the highest price per square foot this year?'\n",
    "# search_text = 'What are the 3 most recent transactions for properties larger than 200,000 square feet in Texas?'\n",
    "# search_text = 'Which properties in Akron, Ohio have experienced a significant decrease in occupancy due to tenant turnover in the past year?'\n",
    "# search_text = \"What's the total value of all retail properties in Lakeland, FL that have undergone appraisal reductions in the past quarter?\"\n",
    "# search_text = 'What is the total transaction volume for the Huntsville, AL Apartments property in 2021?'\n",
    "# search_text = 'How many properties in East Lansing, MI have a DSCR below 1.0?'\n",
    "# search_text = \"What's the average construction year of retail properties sold behind CMBX 12 loans?\"\n",
    "# search_text = 'List all properties where the largest tenant represents over 80% of underwritten base rent'\n",
    "# search_text = 'How many properties in New York City are currently facing foreclosure?'\n",
    "# search_text = 'What is the total square footage of all properties involved in the recent credit stories?'\n",
    "# search_text = 'Can you show me all transactions in Tampa, FL where the occupancy rate decreased by at least 20% post-sale?'\n",
    "# search_text = 'List the 5 largest loans (by dollar amount) that were sent to special servicing in Region S this quarter.'\n",
    "# search_text = \"What's the average lease renewal duration for retail properties in Chicago in the last 12 months?\"\n",
    "# search_text = 'What properties in Pennsylvania sold for more than $5 million and less than $15 million recently?'\n",
    "# search_text = 'Can you rank the top 3 buyers by total square footage acquired in Manhattan for office properties this quarter?'\n",
    "# search_text = 'Could you provide information on any credit stories related to loan modifications or paydowns for properties in the last quarter?'\n",
    "# search_text = 'What are the recent credit stories involving properties with appraisal reductions?'\n",
    "# search_text = 'Could you provide information on loans that are currently in special servicing?'\n",
    "# search_text = 'Are there any credit stories from this month regarding properties undergoing refinancing or loan modifications?'\n",
    "# search_text = 'Can you provide credit stories where there have been significant changes in occupancy rates and DSCR for loans or properties?'"
   ]
  },
  {
   "cell_type": "markdown",
   "id": "2b3f246d-c37f-41d9-b638-0a2599d8c6fb",
   "metadata": {},
   "source": [
    "### Hallucination (data point retrieval)"
   ]
  },
  {
   "cell_type": "code",
   "execution_count": 359,
   "id": "b5dd68f9-800b-4b1b-8e85-a485854a2dbb",
   "metadata": {
    "tags": []
   },
   "outputs": [],
   "source": [
    "# search_text = 'How many multifamily communities were sold in Las Vegas in 2018?'\n",
    "# search_text = 'Show me all properties built before 1975 that were sold in the last quarter.'\n",
    "# search_text = 'What was the recent sale price of Property X?'\n",
    "# search_text = 'When was Avalon Riverview, Long island city constructed, and has it undergone any renovations?'\n",
    "# search_text = 'What are the primary uses of Macy\"s?'\n",
    "# search_text = 'What''s the average age of office buildings sold this quarter?'\n",
    "# search_text = 'What is the CMBX series that the Dartmouth Mall loan is part of?'\n",
    "# search_text = 'What is the current occupancy rate of the Empire State Building in New York, NY?'\n",
    "# search_text = 'Has there been any recent news or updates regarding the sale of the 55 Green Street property?'\n",
    "# search_text = 'Has the loan behind the North Carolina medical office building been refinanced recently?'\n",
    "# search_text = 'What is the current vacancy rate of the Blackwell Plaza property?'\n",
    "# search_text = 'What is the recent DSCR of the $108.8 million Embassy Suites loan backing the JPMCC 2019-EMBS deal in Manhattan?'\n",
    "# search_text = 'What caused the significant drop in occupancy rate at Jackson Park in Long Island City from 96% in 2019 to 59% in September 2018?'\n",
    "# search_text = 'What''s the LTV of Gotham Point property in Queens?'\n",
    "# search_text = 'Who was the buyer in the recent transaction of Rockefellar Center?'\n",
    "# search_text = 'What is the current outstanding balance of the 55 Broadway loan?'\n",
    "# search_text = 'What was the DSCR (NCF) for Crossgates Mall in 2021?'\n",
    "# search_text = 'What is the likelihood of Schwab subletting the space at 211 Main Street in San Francisco?'\n",
    "# search_text = 'How has the valuation of Property X changed over the past few years?'\n",
    "# search_text = 'What\"s the location and size of property X?'\n",
    "# search_text = 'How many square feet does 55 Broadway loan have?"
   ]
  },
  {
   "cell_type": "markdown",
   "id": "b5030b69-998e-4242-9330-be4303ba54f9",
   "metadata": {},
   "source": [
    "### Hallucination (general summary)"
   ]
  },
  {
   "cell_type": "code",
   "execution_count": 360,
   "id": "d2a2d49b-42a5-4fb7-b4c3-0a9b93243228",
   "metadata": {
    "tags": []
   },
   "outputs": [],
   "source": [
    "# search_text = 'List the 3 most recent transactions for properties larger than X square feet in State G.'\n",
    "# search_text = 'Could you provide an overview of for Rockefeller Center loan?'\n",
    "# search_text = 'What significant events have occurred for Chicago Hotel in 2024?' \n",
    "# search_text = 'What are the key updates about the sale of Rockefeller Center in 2024?'\n",
    "# search_text = 'What are the highlights of credit story for North Carolina medical office building in 2018?'\n",
    "# search_text = 'Could you summarize the deal that property X belongs to?'\n",
    "# search_text = 'What changes in valuation have been recorded for Hmart Mall?'\n",
    "# search_text = 'Could you summarize the main details of transactions of New York Central Park?'\n",
    "# search_text = 'How was the delinquency status of Empire State Building been addressed in the latest update?'\n",
    "# search_text = 'Could you provide the details about world trade center sent to special servicing?'\n",
    "# search_text = 'What was the loss severity percentage for the Jacksonville retail property loan resolution this month?'\n",
    "# search_text = 'What impact does the transition of property to the lender have on the financial health of Virginia Mall Loan?'\n",
    "# search_text = 'What modifications were made to the loan for 11 West 42nd Street property in June 2018?'\n",
    "# search_text = 'What are the main factors contributing to the imminent default of the Fifth Avenue loan in Washington, DC?'\n",
    "# searc_text = 'What was the outcome of the bankruptcy auction for the Lower Manhattan mixed-use property at 78 Bowery Street?'\n",
    "# search_text = 'What was the resolution outcome for the Rockefeller Center loan in New York, NY?'\n",
    "# search_text = 'What impact did the departure of Clock Tower Village have on the Fox River Mall loan?'\n",
    "# search_text = 'What are the implications of the recent tenant changes at One Newark Center for the Cupertino Hilton Hotel Loan?'\n",
    "# search_text = 'How has the value of Crossgates Mall loan evolved this year?'\n",
    "# search_text = 'What was the final outstanding balance loss percentage for the Ozarks Hotel property asset resolution?'"
   ]
  },
  {
   "cell_type": "markdown",
   "id": "bde55ab7-503b-4c7b-8e02-3bbbcb583115",
   "metadata": {},
   "source": [
    "### Hallucination (Metadata filtering)"
   ]
  },
  {
   "cell_type": "code",
   "execution_count": 361,
   "id": "f94152c6-ee0c-4248-9068-f414d386a19d",
   "metadata": {
    "tags": []
   },
   "outputs": [],
   "source": [
    "# search_text = 'What are the 5 transactions in New York in Dec, 2023?'\n",
    "# search_text = 'What\"s the average time on market for Property Type Multifamily sold in New York in the last 6 months?'\n",
    "# search_text = 'What was the occupancy rate of The Clusters apartment community at 4416 Northcrest Drive in Midland, TX in 2019?'\n",
    "# search_text = 'What properties in State NY sold for more than $10 million and less than $100 million this year?'\n",
    "# search_text = 'What was the Bank of America Plaza Loan DSCR in 2022?'\n",
    "# search_text = 'What is the total Loan Per Square Foot (LPSF) for Bank of America Plaza in St. Louis?'\n",
    "# search_text = \"What's the total Jamaica Center Cinema lease length?\"\n",
    "# search_text = 'Has the East Village Multifamily Portfolio Pool 2 loan LTV increased since securitized? If so, how much of the increase.'"
   ]
  },
  {
   "cell_type": "code",
   "execution_count": 364,
   "id": "39b3f285-a839-4522-9b77-e698c43d4e23",
   "metadata": {
    "tags": []
   },
   "outputs": [],
   "source": [
    "# relevant_contents, prompt = tpwire_RAG.generate_context_prompt(search_text=search_text, K=K)\n",
    "relevant_contents1, relevant_contents, prompt = tpwire_RAG.generate_context_prompt(search_text=search_text, K1=K1, K2=K2)"
   ]
  },
  {
   "cell_type": "code",
   "execution_count": 365,
   "id": "b0a01b6b-1bb1-433c-bc18-de96f179a210",
   "metadata": {
    "tags": []
   },
   "outputs": [
    {
     "data": {
      "text/html": [
       "<div>\n",
       "<style scoped>\n",
       "    .dataframe tbody tr th:only-of-type {\n",
       "        vertical-align: middle;\n",
       "    }\n",
       "\n",
       "    .dataframe tbody tr th {\n",
       "        vertical-align: top;\n",
       "    }\n",
       "\n",
       "    .dataframe thead th {\n",
       "        text-align: right;\n",
       "    }\n",
       "</style>\n",
       "<table border=\"1\" class=\"dataframe\">\n",
       "  <thead>\n",
       "    <tr style=\"text-align: right;\">\n",
       "      <th></th>\n",
       "      <th>distances</th>\n",
       "      <th>ann</th>\n",
       "      <th>Content</th>\n",
       "      <th>Vectors</th>\n",
       "    </tr>\n",
       "  </thead>\n",
       "  <tbody>\n",
       "    <tr>\n",
       "      <th>0</th>\n",
       "      <td>0.247765</td>\n",
       "      <td>3469</td>\n",
       "      <td>Big Change Coming for Big Miami Office Loan?Mo...</td>\n",
       "      <td>[-0.0012216087197884917, -0.009146752767264843...</td>\n",
       "    </tr>\n",
       "    <tr>\n",
       "      <th>1</th>\n",
       "      <td>0.247765</td>\n",
       "      <td>3472</td>\n",
       "      <td>Big Change Coming for Big Miami Office Loan?Mo...</td>\n",
       "      <td>[-0.0012216087197884917, -0.009146752767264843...</td>\n",
       "    </tr>\n",
       "    <tr>\n",
       "      <th>6</th>\n",
       "      <td>0.313321</td>\n",
       "      <td>1900</td>\n",
       "      <td>Trading Alert: Formerly Delinquent Miami Retai...</td>\n",
       "      <td>[-0.02053123153746128, -0.00990400929003954, -...</td>\n",
       "    </tr>\n",
       "    <tr>\n",
       "      <th>8</th>\n",
       "      <td>0.317079</td>\n",
       "      <td>1030</td>\n",
       "      <td>Value of FL Retail Property Cut SharplyAccordi...</td>\n",
       "      <td>[-0.005366169847548008, -0.010996249504387379,...</td>\n",
       "    </tr>\n",
       "    <tr>\n",
       "      <th>12</th>\n",
       "      <td>0.324327</td>\n",
       "      <td>1321</td>\n",
       "      <td>Stake Sale Set New Value for Miami OfficeThe R...</td>\n",
       "      <td>[-0.018225939944386482, 0.001539260963909328, ...</td>\n",
       "    </tr>\n",
       "  </tbody>\n",
       "</table>\n",
       "</div>"
      ],
      "text/plain": [
       "    distances   ann                                            Content  \\\n",
       "0    0.247765  3469  Big Change Coming for Big Miami Office Loan?Mo...   \n",
       "1    0.247765  3472  Big Change Coming for Big Miami Office Loan?Mo...   \n",
       "6    0.313321  1900  Trading Alert: Formerly Delinquent Miami Retai...   \n",
       "8    0.317079  1030  Value of FL Retail Property Cut SharplyAccordi...   \n",
       "12   0.324327  1321  Stake Sale Set New Value for Miami OfficeThe R...   \n",
       "\n",
       "                                              Vectors  \n",
       "0   [-0.0012216087197884917, -0.009146752767264843...  \n",
       "1   [-0.0012216087197884917, -0.009146752767264843...  \n",
       "6   [-0.02053123153746128, -0.00990400929003954, -...  \n",
       "8   [-0.005366169847548008, -0.010996249504387379,...  \n",
       "12  [-0.018225939944386482, 0.001539260963909328, ...  "
      ]
     },
     "execution_count": 365,
     "metadata": {},
     "output_type": "execute_result"
    }
   ],
   "source": [
    "relevant_contents"
   ]
  },
  {
   "cell_type": "markdown",
   "id": "63cefa5f-971c-4eca-8071-a76fae61b135",
   "metadata": {},
   "source": [
    "## Combine context AND output answer"
   ]
  },
  {
   "cell_type": "code",
   "execution_count": 267,
   "id": "4a6d317c-3203-453f-aac7-7104f4c4b089",
   "metadata": {
    "tags": []
   },
   "outputs": [],
   "source": [
    "response = openai_client.get_completion(message=prompt)"
   ]
  },
  {
   "cell_type": "code",
   "execution_count": 268,
   "id": "aece2563-2e4f-41c8-89db-07d0f7328a82",
   "metadata": {
    "tags": []
   },
   "outputs": [
    {
     "data": {
      "text/plain": [
       "'$205 million'"
      ]
     },
     "execution_count": 268,
     "metadata": {},
     "output_type": "execute_result"
    }
   ],
   "source": [
    "json.loads(response.choices[0].message.content)['Answer']"
   ]
  },
  {
   "cell_type": "code",
   "execution_count": null,
   "id": "aed90c23-96d6-48fa-bb8a-3a7c4d078f03",
   "metadata": {
    "tags": []
   },
   "outputs": [],
   "source": [
    "# tpwire_df.summaryplaintext[1800]"
   ]
  },
  {
   "cell_type": "code",
   "execution_count": null,
   "id": "e5444e88-5ab5-41c5-87cb-59e8b7722d3c",
   "metadata": {},
   "outputs": [],
   "source": []
  },
  {
   "cell_type": "markdown",
   "id": "a62abe1d-2dec-4b0c-b734-1ecd1e595487",
   "metadata": {},
   "source": [
    "# Execution"
   ]
  },
  {
   "cell_type": "code",
   "execution_count": 1,
   "id": "4b1fe3fe-dd04-4531-a235-523e427235f5",
   "metadata": {
    "tags": []
   },
   "outputs": [],
   "source": [
    "import os, json\n",
    "from langchain_openai import OpenAIEmbeddings\n",
    "from utils_rag import SecretManager, OpenAIClient, S3ParquetLoader, TpwireDataLoader, tpwireRAG\n",
    "from config import SECRET_NAME, BUCKET_NAME, PREFIX, MODEL, EMBED_MODEL_NAME, K1, K2"
   ]
  },
  {
   "cell_type": "code",
   "execution_count": 3,
   "id": "e6ccab15-4e09-45be-a0be-49ebd7e96eb2",
   "metadata": {
    "tags": []
   },
   "outputs": [
    {
     "name": "stdout",
     "output_type": "stream",
     "text": [
      "The answer is: The recent price of the Flagler Corporate Center loan is $205 million, as Miami-Dade County could acquire the property for that amount.\n"
     ]
    }
   ],
   "source": [
    "if __name__ == '__main__':\n",
    "    embed = OpenAIEmbeddings(model=EMBED_MODEL_NAME) # Create embeddings for indexing documents\n",
    "    \n",
    "    secret_manager = SecretManager(secret_name=SECRET_NAME)\n",
    "    os.environ['OPENAI_API_KEY'] = secret_manager.get_secret('OPENAI_API_KEY')\n",
    "    \n",
    "    openai_client = OpenAIClient(model=MODEL)\n",
    "\n",
    "    # S3 parquet loader\n",
    "    s3_parquet_loader = S3ParquetLoader(bucket_name=BUCKET_NAME, prefix=PREFIX)\n",
    "\n",
    "    # Import TreppWire data\n",
    "    tpwire_loader = TpwireDataLoader(bucket_name=BUCKET_NAME, prefix=PREFIX)\n",
    "\n",
    "    # Initialize treppwire RAG\n",
    "    tpwire_RAG = tpwireRAG(client=openai_client, embed=embed)\n",
    "    \n",
    "    tpwire_df = tpwire_loader.process_data(\"tpwire_flags.parquet\")\n",
    "    \n",
    "    \n",
    "    # index_tb = index_document(tpwire_df, embed)\n",
    "    # index_tb = tpwire_RAG.index_document(tpwire_df)\n",
    "    # index_tb.to_parquet('treppwire_index_tb.parquet')\n",
    "    \n",
    "    # index_tb = pd.read_parquet('treppwire_index_tb.parquet')\n",
    "    index_tb = s3_parquet_loader.load_s3_parquet('treppwire_index_tb.parquet')\n",
    "    \n",
    "    tpwire_RAG.build_vec_db(index_tb=index_tb)\n",
    "    \n",
    "    \n",
    "    search_text = 'What is the recent price of Flagler Corporate Center loan?'\n",
    "    \n",
    "    relevant_contents1, relevant_contents, prompt = tpwire_RAG.generate_context_prompt(search_text=search_text, K1=K1, K2=K2)\n",
    "    response = openai_client.get_completion(message=prompt)\n",
    "    print(f\"The answer is: {json.loads(response.choices[0].message.content)['Answer']}\")"
   ]
  },
  {
   "cell_type": "code",
   "execution_count": null,
   "id": "4afd375e-7d1f-4843-8da3-fd7873c4ebd6",
   "metadata": {},
   "outputs": [],
   "source": []
  },
  {
   "cell_type": "code",
   "execution_count": null,
   "id": "f832b950-4593-4f6b-b94e-3ca9d39f4aca",
   "metadata": {},
   "outputs": [],
   "source": []
  },
  {
   "cell_type": "code",
   "execution_count": null,
   "id": "b3aee2a9-53c5-4b3a-837b-a1b9c72217a5",
   "metadata": {},
   "outputs": [],
   "source": []
  },
  {
   "cell_type": "code",
   "execution_count": null,
   "id": "9333dff6-4d3d-4c87-acb2-38b16d6eb6aa",
   "metadata": {},
   "outputs": [],
   "source": []
  },
  {
   "cell_type": "code",
   "execution_count": null,
   "id": "a114f824-a02c-4d8a-a06c-0336cbd389fc",
   "metadata": {},
   "outputs": [],
   "source": []
  },
  {
   "cell_type": "code",
   "execution_count": null,
   "id": "e066b848-4475-473e-b84d-7836db0682c9",
   "metadata": {},
   "outputs": [],
   "source": []
  },
  {
   "cell_type": "code",
   "execution_count": null,
   "id": "41f35a9a-57e2-4d33-8340-71c929f2a29c",
   "metadata": {},
   "outputs": [],
   "source": []
  },
  {
   "cell_type": "code",
   "execution_count": null,
   "id": "338d8bf4-b038-4c55-938c-6097045132ab",
   "metadata": {},
   "outputs": [],
   "source": []
  },
  {
   "cell_type": "code",
   "execution_count": null,
   "id": "27cdbb3a-4d20-4e9f-bf22-a2e0e582c86a",
   "metadata": {},
   "outputs": [],
   "source": []
  },
  {
   "cell_type": "code",
   "execution_count": null,
   "id": "2d388329-031b-439d-a74f-e5ab34e7d052",
   "metadata": {},
   "outputs": [],
   "source": []
  },
  {
   "cell_type": "code",
   "execution_count": null,
   "id": "b7111152-9d86-4f8a-bd20-d1df8ffb6e36",
   "metadata": {},
   "outputs": [],
   "source": []
  },
  {
   "cell_type": "code",
   "execution_count": null,
   "id": "e85c85d3-b989-44c2-a9b1-dcc9d89a168c",
   "metadata": {},
   "outputs": [],
   "source": []
  },
  {
   "cell_type": "code",
   "execution_count": null,
   "id": "fa051a64-c2ef-4413-b6cd-823514a6d565",
   "metadata": {},
   "outputs": [],
   "source": []
  },
  {
   "cell_type": "code",
   "execution_count": null,
   "id": "6b0815df-a174-4bc1-8775-6ecf0f9e8752",
   "metadata": {},
   "outputs": [],
   "source": []
  },
  {
   "cell_type": "code",
   "execution_count": null,
   "id": "b2e0a878-e69b-45e1-8051-2d5ff568c5aa",
   "metadata": {},
   "outputs": [],
   "source": []
  },
  {
   "cell_type": "code",
   "execution_count": null,
   "id": "b736ca33-b301-4aec-a138-807beea79332",
   "metadata": {},
   "outputs": [],
   "source": []
  },
  {
   "cell_type": "markdown",
   "id": "f048a900-c178-4a19-b649-9e8588809c37",
   "metadata": {
    "tags": []
   },
   "source": [
    "## * Evaluation"
   ]
  },
  {
   "cell_type": "markdown",
   "id": "00b5c88e-d527-45e2-800c-26a431f3a34f",
   "metadata": {},
   "source": [
    "### 1. General summary questions"
   ]
  },
  {
   "cell_type": "code",
   "execution_count": 366,
   "id": "6689715a-3a9a-4d0b-9873-d59a4e30f52b",
   "metadata": {
    "tags": []
   },
   "outputs": [],
   "source": [
    "# General Summary questions\n",
    "test_context = [\n",
    "    'What is the most recent status of Big Philly Office Loan?',\n",
    "    'What are the key updates about the sale of Dulaney Center?',\n",
    "    'Can you provide an overview of for National Business Park loan?',\n",
    "    'How was the occupancy rate for Doner Company in the recent report?',\n",
    "    'Can you summarize the recent financial performance of Chicago Hotel?',\n",
    "    'What significant events have occurred for Chicago Hotel (after 2022)?',\n",
    "    'How has the value of Waterfront at Port Chester loanevolved according to the latest credit report?',\n",
    "    'What are the main points of concern for IDS Center loan mentioned (this month)?',\n",
    "    'Can you detail the (recent) transactions involving One Concords Center?',\n",
    "    'What are the highlights of the latest credit story for WeWork?',\n",
    "    'How was the delinquency status of Aviation Mall been addressed in the latest update?',\n",
    "    'What new information is available about the refinancing of New York Hospitality Portfolio loan?',\n",
    "    'Could you provide a brief on the recent sales details of Courtyard Louisville Airport?',\n",
    "    'What changes in valuation have been recorded for North Riverside Park Mall (this month)?',\n",
    "    'How does the latest credit story describe the financial health of SASB Office Loan?',\n",
    "    'Could you summarize the deal that Hughes Center Las Vegas belongs to?',\n",
    "    'Could you summarize the main details of sales of Ozarks Hotel?',\n",
    "    'Could you summarize the loan details of Ozarks Hotel?',\n",
    "    'What are the highlights of the special servicing history for Cupertino Hilton Hotel Loan?',\n",
    "    'Could you summarize the valuation changes for Cranberry Woods Office Park (over the years)?',\n",
    "]"
   ]
  },
  {
   "cell_type": "code",
   "execution_count": 367,
   "id": "bfca296a-97c3-451c-9105-765a73f21913",
   "metadata": {
    "tags": []
   },
   "outputs": [],
   "source": [
    "ground_truth = [\n",
    "    [3341],\n",
    "    [3431],\n",
    "    [3159],\n",
    "    [3488],\n",
    "    [3080],\n",
    "    [1546, 1181],\n",
    "    [3160, 3170],\n",
    "    [3177],\n",
    "    [3206],\n",
    "    [3489],\n",
    "    [3452],\n",
    "    [3432],\n",
    "    [3401],\n",
    "    [3571],\n",
    "    [3268, 2849, 2089],\n",
    "    [3502],\n",
    "    [3546],\n",
    "    [3546],\n",
    "    [3614],\n",
    "    [3551],\n",
    "]"
   ]
  },
  {
   "cell_type": "code",
   "execution_count": 323,
   "id": "86d41ddc-5a91-4004-b020-238806a09b3c",
   "metadata": {
    "tags": []
   },
   "outputs": [
    {
     "data": {
      "text/html": [
       "<div>\n",
       "<style scoped>\n",
       "    .dataframe tbody tr th:only-of-type {\n",
       "        vertical-align: middle;\n",
       "    }\n",
       "\n",
       "    .dataframe tbody tr th {\n",
       "        vertical-align: top;\n",
       "    }\n",
       "\n",
       "    .dataframe thead th {\n",
       "        text-align: right;\n",
       "    }\n",
       "</style>\n",
       "<table border=\"1\" class=\"dataframe\">\n",
       "  <thead>\n",
       "    <tr style=\"text-align: right;\">\n",
       "      <th></th>\n",
       "      <th>distances</th>\n",
       "      <th>ann</th>\n",
       "      <th>Content</th>\n",
       "      <th>Vectors</th>\n",
       "    </tr>\n",
       "  </thead>\n",
       "  <tbody>\n",
       "    <tr>\n",
       "      <th>0</th>\n",
       "      <td>0.246618</td>\n",
       "      <td>1134</td>\n",
       "      <td>Value of Suburban NY Shopping Center ReducedAc...</td>\n",
       "      <td>[-0.009347003884613514, -0.01151452399790287, ...</td>\n",
       "    </tr>\n",
       "    <tr>\n",
       "      <th>1</th>\n",
       "      <td>0.252218</td>\n",
       "      <td>3170</td>\n",
       "      <td>Suburban NYC Retail Loan Goes 30 Days Delinque...</td>\n",
       "      <td>[-0.006137296091765165, -0.025809893384575844,...</td>\n",
       "    </tr>\n",
       "    <tr>\n",
       "      <th>4</th>\n",
       "      <td>0.329223</td>\n",
       "      <td>1129</td>\n",
       "      <td>Change of Course for South Florida MallAccordi...</td>\n",
       "      <td>[-0.0073425243608653545, -0.001835631090216338...</td>\n",
       "    </tr>\n",
       "    <tr>\n",
       "      <th>7</th>\n",
       "      <td>0.335877</td>\n",
       "      <td>1014</td>\n",
       "      <td>Value of NYC Recreation/Retail Property Cut Su...</td>\n",
       "      <td>[0.0008722125785425305, -0.006794255692511797,...</td>\n",
       "    </tr>\n",
       "    <tr>\n",
       "      <th>8</th>\n",
       "      <td>0.337792</td>\n",
       "      <td>1030</td>\n",
       "      <td>Value of FL Retail Property Cut SharplyAccordi...</td>\n",
       "      <td>[-0.005366169847548008, -0.010996249504387379,...</td>\n",
       "    </tr>\n",
       "  </tbody>\n",
       "</table>\n",
       "</div>"
      ],
      "text/plain": [
       "   distances   ann                                            Content  \\\n",
       "0   0.246618  1134  Value of Suburban NY Shopping Center ReducedAc...   \n",
       "1   0.252218  3170  Suburban NYC Retail Loan Goes 30 Days Delinque...   \n",
       "4   0.329223  1129  Change of Course for South Florida MallAccordi...   \n",
       "7   0.335877  1014  Value of NYC Recreation/Retail Property Cut Su...   \n",
       "8   0.337792  1030  Value of FL Retail Property Cut SharplyAccordi...   \n",
       "\n",
       "                                             Vectors  \n",
       "0  [-0.009347003884613514, -0.01151452399790287, ...  \n",
       "1  [-0.006137296091765165, -0.025809893384575844,...  \n",
       "4  [-0.0073425243608653545, -0.001835631090216338...  \n",
       "7  [0.0008722125785425305, -0.006794255692511797,...  \n",
       "8  [-0.005366169847548008, -0.010996249504387379,...  "
      ]
     },
     "execution_count": 323,
     "metadata": {},
     "output_type": "execute_result"
    }
   ],
   "source": [
    "relevant_contents1, relevant_contents, prompt = tpwire_RAG.generate_context_prompt(search_text=test_context[6], K1=K1, K2=K2)\n",
    "relevant_contents"
   ]
  },
  {
   "cell_type": "code",
   "execution_count": 368,
   "id": "8ba430d2-2152-4226-9546-562da3c27104",
   "metadata": {
    "tags": []
   },
   "outputs": [
    {
     "data": {
      "text/plain": [
       "[[3341],\n",
       " [3431],\n",
       " [3159],\n",
       " [3488],\n",
       " [3080],\n",
       " [1546, 1181],\n",
       " [3170],\n",
       " [3177],\n",
       " [3206],\n",
       " [3489],\n",
       " [3452],\n",
       " [3432],\n",
       " [3401],\n",
       " [3571],\n",
       " [2849, 3268],\n",
       " [3502],\n",
       " [3546],\n",
       " [3546],\n",
       " [3614],\n",
       " [3551]]"
      ]
     },
     "execution_count": 368,
     "metadata": {},
     "output_type": "execute_result"
    }
   ],
   "source": [
    "res = []\n",
    "for i, search_text in enumerate(test_context):\n",
    "    relevant_contents1, relevant_contents, prompt = tpwire_RAG.generate_context_prompt(search_text=search_text, K1=K1, K2=K2)\n",
    "    overlap = set(relevant_contents['ann'].tolist()).intersection(set(ground_truth[i]))\n",
    "    res.append(list(overlap))\n",
    "\n",
    "res"
   ]
  },
  {
   "cell_type": "markdown",
   "id": "2d6eb84b-5785-47ff-9bb3-a0bc66e0d8d3",
   "metadata": {
    "tags": []
   },
   "source": [
    "### 2. Data point retrieval"
   ]
  },
  {
   "cell_type": "code",
   "execution_count": 369,
   "id": "e9f5e406-09b7-4f85-beb1-097344c66bd3",
   "metadata": {
    "tags": []
   },
   "outputs": [],
   "source": [
    "test_context = [\n",
    "    'What is the recent price of Flagler Corporate Center loan?',\n",
    "    'How many square feet does the Bridgewater Commons mall in New Jersey contain?',\n",
    "    'What is the loan amount for the IDS Center property in Minneapolis?',\n",
    "    'What year was the Colman Building originated, has it undergone any renovations?',\n",
    "    'What is the (current) occupancy rate of The Commons at Sawmill near Northern Arizona University?',\n",
    "    'How does the recent sale price of NMS Northridge and NMS Superior properties compare to their previous valuation?',\n",
    "    'Could you provide information on the location and size of the West Ridge Mall & Plaza?',\n",
    "    'What is the DSCR (NCF) for the 184-unit community in San Bernardino (in the most recent quarter)?',\n",
    "    'Who was the buyer in the (recent) transaction of Osprey Pointe Apartments in St. Petersburg?',\n",
    "    'Could you provide original loan amount and current status about the Fifth Avenue loan?',\n",
    "    'What percentage of the Starwood Mall Portfolio loan does the MacArthur Center Mall represent?',\n",
    "    'What type of property is the 644 Broadway loan, and what are its primary uses?',\n",
    "    'What recent updates have there been regarding the changes of properties associated with CMBX 6 deal?',\n",
    "    'How has the valuation of the Cincinnati Hotel changed since 2019?',\n",
    "    'Has the Enclave West student housing loan in Edwardsville been sent to special servicing? If so, when?',\n",
    "    'What recent changes have occurred with the Greentree Plaza retail center in Everett?',\n",
    "    'How does the current occupancy rate of Atlanta hotel compare to previous year?',\n",
    "    'Which CMBX series does the deal involving the San Isidro Plaza I & II loan belong to?',\n",
    "    'What is the current delinquency status of the loan backed by the US Bank Tower in Downtown Denver?',\n",
    "    'What is the maturity date of the loan backing the Alexander Place Apartments property in Charlotte?',\n",
    "]"
   ]
  },
  {
   "cell_type": "code",
   "execution_count": 370,
   "id": "cf09d8bc-8655-4c6e-ba38-6416b421b593",
   "metadata": {
    "tags": []
   },
   "outputs": [],
   "source": [
    "ground_truth = [\n",
    "    [3469],\n",
    "    [2897],\n",
    "    [198],\n",
    "    [3188],\n",
    "    [2133],\n",
    "    [1836],\n",
    "    [430],\n",
    "    [2664],\n",
    "    [1413],\n",
    "    [3000, 2913],\n",
    "    [3203],\n",
    "    [2652],\n",
    "    [2721],\n",
    "    [2735],\n",
    "    [338],\n",
    "    [2608],\n",
    "    [1452, 2305],\n",
    "    [1444],\n",
    "    [10],\n",
    "    [1800],\n",
    "]"
   ]
  },
  {
   "cell_type": "code",
   "execution_count": null,
   "id": "6fb03382-6e28-4798-bce5-e219c01c500a",
   "metadata": {},
   "outputs": [],
   "source": [
    "relevant_contents, prompt = tpwire_RAG.generate_context_prompt(search_text=search_text, K1=K1, K2=K2)\n",
    "overlap = set(relevant_contents['ann'].tolist()).intersection(set(ground_truth[i]))\n",
    "res.append(list(overlap))"
   ]
  },
  {
   "cell_type": "code",
   "execution_count": 371,
   "id": "f43f9058-83b3-4e4a-8c9a-dac4960c87a8",
   "metadata": {
    "tags": []
   },
   "outputs": [
    {
     "data": {
      "text/plain": [
       "[[3469],\n",
       " [2897],\n",
       " [198],\n",
       " [3188],\n",
       " [2133],\n",
       " [1836],\n",
       " [430],\n",
       " [],\n",
       " [1413],\n",
       " [3000, 2913],\n",
       " [3203],\n",
       " [],\n",
       " [2721],\n",
       " [2735],\n",
       " [338],\n",
       " [2608],\n",
       " [2305, 1452],\n",
       " [1444],\n",
       " [],\n",
       " [1800]]"
      ]
     },
     "execution_count": 371,
     "metadata": {},
     "output_type": "execute_result"
    }
   ],
   "source": [
    "res = []\n",
    "for i, search_text in enumerate(test_context):\n",
    "    relevant_contents1, relevant_contents, prompt = tpwire_RAG.generate_context_prompt(search_text=search_text, K1=K1, K2=K2)\n",
    "    overlap = set(relevant_contents['ann'].tolist()).intersection(set(ground_truth[i]))\n",
    "    res.append(list(overlap))\n",
    "\n",
    "res"
   ]
  },
  {
   "cell_type": "markdown",
   "id": "38b813e7-d658-4522-9abb-85bbb5722881",
   "metadata": {},
   "source": [
    "### 3. Metadata Filtering"
   ]
  },
  {
   "cell_type": "code",
   "execution_count": 372,
   "id": "e92a3b46-95eb-47d2-9965-7ec63542f745",
   "metadata": {
    "tags": []
   },
   "outputs": [],
   "source": [
    "test_context = [\n",
    "    'What are the 5 transactions in New York in Dec, 2023?',\n",
    "    'Can you list properties involved in deal FREMF 2019-K92?',\n",
    "    'Could you list all stories about office properties in Houston, TX after 2020?',\n",
    "    'What Convenience Center properties are in the Los Angeles-Long Beach-Anaheim, CA msa area?',\n",
    "    'What loans in the MAD 2019-650M are in New York?',\n",
    "    'What was the Bank of America Plaza Loan DSCR in 2022?',\n",
    "    'What is the total Loan Per Square Foot (LPSF) for Bank of America Plaza in St. Louis?',\n",
    "    'What was the occupancy rate increase of Bank of America Plaza in St. Louis from 2021 to 2022?',\n",
    "    \"What's the total  lease length of the Jamaica Center Cinema in Queens, NY?\",\n",
    "    'Has the East Village Multifamily Portfolio Pool 2 loan LTV increased since securitized? If so, how much of the increase.',\n",
    "]"
   ]
  },
  {
   "cell_type": "code",
   "execution_count": 373,
   "id": "325a7db5-0047-49ba-bc82-3f7477ee4ca7",
   "metadata": {
    "tags": []
   },
   "outputs": [],
   "source": [
    "ground_truth = [\n",
    "    [3484, 3486, 3489, 3491, 3499],\n",
    "    [3525],\n",
    "    [1188, 2215],\n",
    "    [39, 194, 195, 2015],\n",
    "    [959],\n",
    "    [2979],\n",
    "    [2979],\n",
    "    [2979, 1921],\n",
    "    [3526],\n",
    "    [3528],\n",
    "]"
   ]
  },
  {
   "cell_type": "code",
   "execution_count": 374,
   "id": "c364cd04-0d36-4afc-a1fe-9b74f65c2df0",
   "metadata": {
    "tags": []
   },
   "outputs": [
    {
     "data": {
      "text/plain": [
       "[[], [], [], [], [], [2979], [2979], [1921, 2979], [3526], [3528]]"
      ]
     },
     "execution_count": 374,
     "metadata": {},
     "output_type": "execute_result"
    }
   ],
   "source": [
    "res = []\n",
    "for i, search_text in enumerate(test_context):\n",
    "    relevant_contents1, relevant_contents, prompt = tpwire_RAG.generate_context_prompt(search_text=search_text, K1=K1, K2=K2)\n",
    "    overlap = set(relevant_contents['ann'].tolist()).intersection(set(ground_truth[i]))\n",
    "    res.append(list(overlap))\n",
    "\n",
    "res"
   ]
  },
  {
   "cell_type": "markdown",
   "id": "99608413-0473-45e8-92e9-3a793add8c9f",
   "metadata": {},
   "source": [
    "### 4. Hallucination (General summary)"
   ]
  },
  {
   "cell_type": "code",
   "execution_count": 375,
   "id": "c1662f1d-6930-4abd-b148-1de960c14da1",
   "metadata": {
    "tags": []
   },
   "outputs": [],
   "source": [
    "test_context = [\n",
    "    'Which property behind the GSMS 2012-GC6 deal had the lowest occupancy rate in 2019?',\n",
    "    'Could you provide an overview of for Rockefeller Center loan?',\n",
    "    'What significant events have occurred for Chicago Hotel in 2024?',\n",
    "    'What are the key updates about the sale of Rockefeller Center in 2024?',\n",
    "    'What are the highlights of credit story for North Carolina medical office building in 2018?',\n",
    "    'Could you summarize the deal that property X belongs to?',\n",
    "    'What changes in valuation have been recorded for Hmart Mall?',\n",
    "    'Could you summarize the main details of transactions of New York Central Park?',\n",
    "    'How was the delinquency status of Empire State Building been addressed in the latest update?',\n",
    "    'Could you provide the details about world trade center sent to special servicing?',\n",
    "    'What was the loss severity percentage for the Jacksonville retail property loan resolution this month?',\n",
    "    'What impact does the transition of property to the lender have on the financial health of Virginia Mall Loan?',\n",
    "    'What modifications were made to the loan for 11 West 42nd Street property in June 2018?',\n",
    "    'What are the main factors contributing to the imminent default of the Fifth Avenue loan in Washington, DC?',\n",
    "    'What was the outcome of the bankruptcy auction for the Lower Manhattan mixed-use property at 78 Bowery Street?',\n",
    "    'What was the resolution outcome for the Rockefeller Center loan in New York, NY?',\n",
    "    'What impact did the departure of Clock Tower Village have on the Fox River Mall loan?',\n",
    "    'What are the implications of the recent tenant changes at One Newark Center for the Cupertino Hilton Hotel Loan?',\n",
    "    'How has the value of Crossgates Mall loan evolved this year?',\n",
    "    'What was the final outstanding balance loss percentage for the Ozarks Hotel property asset resolution?',\n",
    "]"
   ]
  },
  {
   "cell_type": "code",
   "execution_count": 376,
   "id": "c42593b2-4f8a-46d0-b924-53aed9cc31c8",
   "metadata": {
    "tags": []
   },
   "outputs": [
    {
     "data": {
      "text/plain": [
       "['State House Square in Hartford, Connecticut',\n",
       " \"I don't know the answer\",\n",
       " \"I don't know the answer\",\n",
       " \"I don't know the answer\",\n",
       " 'DSCR NCF rose to 1.88x at YE 2019 from 1.69x at underwriting in 2015. Occupancy remained at 100%.',\n",
       " 'Property X belongs to the FREMF 2016-KLH1 deal, which includes a Long Island portfolio of seven multifamily properties totaling 1,496 units that were acquired by Fairfield Properties and FCP joint venture for $472.5 million.',\n",
       " \"I don't know the answer\",\n",
       " 'There are two main properties in New York Central Park area: 280 Park Avenue and 245 Park Avenue. 280 Park Avenue is backed by a $1.075 billion loan and has seen lease talks with Citadel and Franklin Templeton. 245 Park Avenue recently had a stake sold to Mori Trust for $1 billion, valuing the office at $2 billion. The property backs $1.8 billion in CMBS debt which matures in 2027.',\n",
       " 'The delinquency status of Empire State Building was addressed by the borrower and special servicer coming to terms on a modification, providing for an extension in conjunction with a paydown of the loan.',\n",
       " 'The World Trade Center I & II loan, backed by a nearly 800,000-square-foot office complex in Denver, CO, has flipped to foreclosure with default expected. Schlumberger and Noble Energy, two major tenants, faced challenges leading to potential layoffs and bankruptcy, respectively. The loan, which remained current throughout the pandemic, is expected to default as a modification allowing the use of cash reserves for debt service ends. The loan makes up 11% of the collateral behind JPMCC 2013-LC11.',\n",
       " '87%',\n",
       " 'The transition of the property to the lender indicates a significant loss for the Virginia Mall Loan, as the asset was resolved with a loss of 110% of its final outstanding balance. The liquidation proceeds were $11.3 million, but with liquidation expenses totaling $16.5 million, the asset incurred a loss of $57.4 million.',\n",
       " 'A new $330 million loan was arranged by Newmark for owners Tishman Speyer and Silverstein Properties.',\n",
       " 'The imminent default of the Fifth Avenue loan in Washington, DC is mainly contributed by the lease expiration of the largest tenant, Tommy Hilfiger, in May 2023, which represented a significant portion of the total annualized base rent at securitization.',\n",
       " \"I don't know the answer\",\n",
       " \"I don't know the answer\",\n",
       " 'The departure of Clock Tower Village did not have an impact on the Fox River Mall loan as it was not mentioned in the provided context.',\n",
       " \"I don't know the answer\",\n",
       " 'The value of Crossgates Mall loan has evolved from $470 million in 2012 to $281 million in 2020, with a subsequent resolution resulting in an aggregate loss of $97.7 million in 2022.',\n",
       " \"I don't know the answer\"]"
      ]
     },
     "execution_count": 376,
     "metadata": {},
     "output_type": "execute_result"
    }
   ],
   "source": [
    "res = []\n",
    "for i, search_text in enumerate(test_context):\n",
    "    relevant_contents1, relevant_contents, prompt = tpwire_RAG.generate_context_prompt(search_text=search_text, K1=K1, K2=K2)\n",
    "    response = openai_client.get_completion(message=prompt)\n",
    "    res.append(json.loads(response.choices[0].message.content)['Answer'])\n",
    "res"
   ]
  },
  {
   "cell_type": "code",
   "execution_count": 377,
   "id": "bb356a3c-ca45-4874-938f-e6c6d9eb62be",
   "metadata": {
    "tags": []
   },
   "outputs": [
    {
     "data": {
      "text/plain": [
       "[0, 1, 1, 1, 0, 0, 1, 0, 0, 0, 0, 0, 0, 0, 1, 1, 0, 1, 0, 1]"
      ]
     },
     "execution_count": 377,
     "metadata": {},
     "output_type": "execute_result"
    }
   ],
   "source": [
    "[int(i == \"I don't know the answer\") for i in res]"
   ]
  },
  {
   "cell_type": "markdown",
   "id": "117cec89-0420-4406-b0d4-05c2f8f6f98e",
   "metadata": {},
   "source": [
    "### 5. Hallucination (Data point retrieval)"
   ]
  },
  {
   "cell_type": "code",
   "execution_count": 378,
   "id": "7c551910-7607-4733-88a8-2fcf76f6f761",
   "metadata": {
    "tags": []
   },
   "outputs": [],
   "source": [
    "test_context = [\n",
    "    'What is the current delinquency rate for lodging loans in the CMBS market?',\n",
    "    'What was the recent sale price of Property X?',\n",
    "    'When was Avalon Riverview, Long island city constructed, and has it undergone any renovations?',\n",
    "    \"What's the average age of office buildings sold this quarter?\",\n",
    "    'What is the CMBX series that the Dartmouth Mall loan is part of?',\n",
    "    'What is the current occupancy rate of the Empire State Building in New York, NY?',\n",
    "    'Has there been any recent news or updates regarding the sale of the 55 Green Street property?',\n",
    "    'Has the loan behind the North Carolina medical office building been refinanced recently?',\n",
    "    'What is the current vacancy rate of the Blackwell Plaza property?',\n",
    "    'What is the recent DSCR of the $108.8 million Embassy Suites loan backing the JPMCC 2019-EMBS deal in Manhattan?',\n",
    "    'What caused the significant drop in occupancy rate at Jackson Park in Long Island City from 96% in 2019 to 59% in September 2018?',\n",
    "    'What''s the LTV of Gotham Point property in Queens?',\n",
    "    'What percentage of deal K does the loan for property P represent?',\n",
    "    'Who was the buyer in the recent transaction of Rockefeller Center?',\n",
    "    'What is the current outstanding balance of the 55 Broadway loan?',\n",
    "    'What was the DSCR (NCF) for Crossgates Mall in 2021?',\n",
    "    'What is the likelihood of Schwab subletting the space at 211 Main Street in San Francisco?',\n",
    "    'How has the valuation of Property X changed over the past few years?',\n",
    "    'What\"s the location and size of property X?',\n",
    "    'How many square feet does 55 Broadway loan have?',\n",
    "]"
   ]
  },
  {
   "cell_type": "code",
   "execution_count": 379,
   "id": "6f61339d-07a2-4c08-92d1-c0f3d7d85041",
   "metadata": {
    "tags": []
   },
   "outputs": [
    {
     "data": {
      "text/plain": [
       "['4.38%',\n",
       " 'The recent sale price of Property X was $5.77 million.',\n",
       " \"I don't know the answer\",\n",
       " \"I don't know the answer\",\n",
       " \"I don't know the answer\",\n",
       " \"I don't know the answer\",\n",
       " 'There has been no recent news or updates regarding the sale of the 55 Green Street property.',\n",
       " \"I don't know the answer\",\n",
       " \"I don't know the answer\",\n",
       " \"I don't know the answer\",\n",
       " 'The significant drop in occupancy rate at Jackson Park in Long Island City from 96% in 2019 to 59% in September 2020 was caused by a decline in occupancy levels over time, potentially due to factors such as market conditions, changes in demand, or other external factors affecting the property.',\n",
       " \"I don't know the answer\",\n",
       " '3.19%',\n",
       " \"I don't know the answer\",\n",
       " '$105 million',\n",
       " \"I don't know the answer\",\n",
       " 'Likelihood of Schwab subletting the space at 211 Main Street in San Francisco is uncertain based on the provided context.',\n",
       " 'The valuation of Property X has decreased from $146 million in 2018 to $79.9 million in November, and further to $93 million in 2023.',\n",
       " 'Property X is located at 807 Montgomery Street in San Francisco, CA and has a size of 10,000 square feet.',\n",
       " \"I don't know the answer\"]"
      ]
     },
     "execution_count": 379,
     "metadata": {},
     "output_type": "execute_result"
    }
   ],
   "source": [
    "res = []\n",
    "for i, search_text in enumerate(test_context):\n",
    "    relevant_contents1, relevant_contents, prompt = tpwire_RAG.generate_context_prompt(search_text=search_text, K1=K1, K2=K2)\n",
    "    response = openai_client.get_completion(message=prompt)\n",
    "    res.append(json.loads(response.choices[0].message.content)['Answer'])\n",
    "res"
   ]
  },
  {
   "cell_type": "code",
   "execution_count": 380,
   "id": "87b05f12-a9bb-475d-b542-fbaea0392f06",
   "metadata": {
    "tags": []
   },
   "outputs": [
    {
     "data": {
      "text/plain": [
       "[0, 0, 1, 1, 1, 1, 0, 1, 1, 1, 0, 1, 0, 1, 0, 1, 0, 0, 0, 1]"
      ]
     },
     "execution_count": 380,
     "metadata": {},
     "output_type": "execute_result"
    }
   ],
   "source": [
    "[int(i == \"I don't know the answer\") for i in res]"
   ]
  },
  {
   "cell_type": "markdown",
   "id": "898c7404-141a-4562-9843-73e84f18ac2a",
   "metadata": {},
   "source": [
    "### 6. Hallucination (Metadata Filtering)"
   ]
  },
  {
   "cell_type": "code",
   "execution_count": 381,
   "id": "af24f263-7aca-484f-8c0a-1d00a7c52a09",
   "metadata": {
    "tags": []
   },
   "outputs": [],
   "source": [
    "test_context = [\n",
    "    'What are the 5 transactions in New York in this quarter?',\n",
    "    'Show me all properties built before 1975 that were sold in the last quarter.',\n",
    "    'How many multifamily communities were sold in Las Vegas in 2018?',\n",
    "    'List 5 properties undergoning renovation in the previous quarter?',\n",
    "    'List the 3 most recent transactions for properties larger than X square feet in State G.',\n",
    "    'List the 5 largest loans (by dollar amount) that were sent to special servicing in New York this quarter.',\n",
    "    \"What's the average time on market for Property Type Multifamily sold in City U in the last 6 months?\",\n",
    "    \"What's the average time on market for Property Type Multifamily sold in New York in the last 6 months?\",\n",
    "    'What was the occupancy rate of The Clusters apartment community at 4416 Northcrest Drive in Midland, TX in 2019?',\n",
    "    'What properties in State NY sold for more than $10 million and less than $100 million this year?',\n",
    "]"
   ]
  },
  {
   "cell_type": "code",
   "execution_count": 382,
   "id": "507fc306-86e5-4949-8133-0391ed30ae6a",
   "metadata": {
    "tags": []
   },
   "outputs": [
    {
     "data": {
      "text/plain": [
       "['Global Relay USA at 1155 Sixth Avenue, Michelman & Robinson at 605 Third Avenue, HNA Group at 245 Park Avenue, Citadel at 280 Park Avenue, Best Buy at 535 Fifth Avenue',\n",
       " {'Property': 'Colonial Square',\n",
       "  'Location': '3107 Boulevard, Colonial Heights, VA',\n",
       "  'Loan Amount': '$13 million',\n",
       "  'Loan Maturity': 'Late 2025',\n",
       "  'Occupancy': '99%',\n",
       "  'Top Tenant': 'Publix',\n",
       "  'Year Built': 1967},\n",
       " 2,\n",
       " \"I don't know the answer\",\n",
       " \"I don't know the answer\",\n",
       " '1. Manhattan Multifamily Portfolio - $270.3 million, 2. The Aire - $195.8 million, 3. Parkhill City - $225 million, 4. State House Square - $87.55 million, 5. River North Point - $309.8 million',\n",
       " \"I don't know the answer\",\n",
       " \"I don't know the answer\",\n",
       " '76%',\n",
       " 'Hudson Commons Office in NYC sold for just over $1 billion.']"
      ]
     },
     "execution_count": 382,
     "metadata": {},
     "output_type": "execute_result"
    }
   ],
   "source": [
    "res = []\n",
    "for i, search_text in enumerate(test_context):\n",
    "    relevant_contents1, relevant_contents, prompt = tpwire_RAG.generate_context_prompt(search_text=search_text, K1=K1, K2=K2)\n",
    "    response = openai_client.get_completion(message=prompt)\n",
    "    res.append(json.loads(response.choices[0].message.content)['Answer'])\n",
    "res"
   ]
  },
  {
   "cell_type": "code",
   "execution_count": 383,
   "id": "9d5bff21-1cfe-4474-82c0-59e9cf2dbb71",
   "metadata": {
    "tags": []
   },
   "outputs": [
    {
     "data": {
      "text/plain": [
       "[0, 0, 0, 1, 1, 0, 1, 1, 0, 0]"
      ]
     },
     "execution_count": 383,
     "metadata": {},
     "output_type": "execute_result"
    }
   ],
   "source": [
    "[int(i == \"I don't know the answer\") for i in res]"
   ]
  },
  {
   "cell_type": "markdown",
   "id": "d7f531df-a5a3-4f6f-8048-54ebddbcf3d0",
   "metadata": {},
   "source": [
    "## Evaluation Graph"
   ]
  },
  {
   "cell_type": "code",
   "execution_count": 400,
   "id": "a868b882-8bb2-4117-9b19-095a2a03d207",
   "metadata": {
    "tags": []
   },
   "outputs": [],
   "source": []
  },
  {
   "cell_type": "code",
   "execution_count": 401,
   "id": "a778e0b0-31e2-4786-ae87-fd0703993d0e",
   "metadata": {
    "tags": []
   },
   "outputs": [],
   "source": [
    "df_combined = pd.DataFrame({\n",
    "    'Type': ['Summarization', 'Data Point Retrieval', 'Filtering',\n",
    "             'Summarization', 'Data Point Retrieval', 'Filtering'],\n",
    "    'Accuracy': [98, 85, 53, 50, 55, 40],\n",
    "    'Category': ['Regular', 'Regular', 'Regular', 'No Hallucination', 'No Hallucination', 'No Hallucination']\n",
    "})"
   ]
  },
  {
   "cell_type": "code",
   "execution_count": 402,
   "id": "724d7a9f-a6b6-450b-8884-21974af1428d",
   "metadata": {
    "tags": []
   },
   "outputs": [
    {
     "data": {
      "text/plain": [
       "<matplotlib.legend.Legend at 0x7f9aad5f8ac0>"
      ]
     },
     "execution_count": 402,
     "metadata": {},
     "output_type": "execute_result"
    },
    {
     "data": {
      "image/png": "[encoded data removed]",
      "text/plain": [
       "<Figure size 1000x600 with 1 Axes>"
      ]
     },
     "metadata": {},
     "output_type": "display_data"
    }
   ],
   "source": [
    "# Create the plot\n",
    "plt.figure(\n",
    "    figsize=(10, 6),\n",
    "    tight_layout=True)\n",
    "\n",
    "ax = plt.axes()\n",
    "sns.barplot(data=df_combined, x='Type', y='Accuracy', hue='Category', palette='deep')\n",
    "ax.bar_label(ax.containers[0], fontsize=12)\n",
    "ax.bar_label(ax.containers[1], fontsize=12);\n",
    "\n",
    "# Add title and labels\n",
    "ax.set_title('Average Accuracy by Question Type (Total 100 datapoints)', fontsize=16)\n",
    "ax.set_xlabel('Question Type', fontsize=14)\n",
    "ax.set_ylabel('Average Accuracy (%)', fontsize=14)\n",
    "# plt.xticks(rotation=45)\n",
    "\n",
    "# Show plot with legend\n",
    "ax.legend(title='Category')"
   ]
  },
  {
   "cell_type": "code",
   "execution_count": null,
   "id": "9fa4a0b5-88ca-4130-9ff5-3acb83c2fce9",
   "metadata": {},
   "outputs": [],
   "source": []
  },
  {
   "cell_type": "code",
   "execution_count": null,
   "id": "70493696-7382-413d-b8a0-c3afcf5cda7d",
   "metadata": {},
   "outputs": [],
   "source": []
  }
 ],
 "metadata": {
  "kernelspec": {
   "display_name": "conda_python3",
   "language": "python",
   "name": "conda_python3"
  },
  "language_info": {
   "codemirror_mode": {
    "name": "ipython",
    "version": 3
   },
   "file_extension": ".py",
   "mimetype": "text/x-python",
   "name": "python",
   "nbconvert_exporter": "python",
   "pygments_lexer": "ipython3",
   "version": "3.10.14"
  }
 },
 "nbformat": 4,
 "nbformat_minor": 5
}
